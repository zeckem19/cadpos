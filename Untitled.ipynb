{
 "cells": [
  {
   "cell_type": "code",
   "execution_count": 1,
   "metadata": {},
   "outputs": [
    {
     "ename": "ModuleNotFoundError",
     "evalue": "No module named 'ezdxf'",
     "output_type": "error",
     "traceback": [
      "\u001b[0;31m---------------------------------------------------------------------------\u001b[0m",
      "\u001b[0;31mModuleNotFoundError\u001b[0m                       Traceback (most recent call last)",
      "\u001b[0;32m<ipython-input-1-705e3a0d0d85>\u001b[0m in \u001b[0;36m<module>\u001b[0;34m\u001b[0m\n\u001b[1;32m      1\u001b[0m \u001b[0;32mimport\u001b[0m \u001b[0msys\u001b[0m\u001b[0;34m\u001b[0m\u001b[0;34m\u001b[0m\u001b[0m\n\u001b[0;32m----> 2\u001b[0;31m \u001b[0;32mimport\u001b[0m \u001b[0mezdxf\u001b[0m \u001b[0;32mas\u001b[0m \u001b[0medf\u001b[0m\u001b[0;34m\u001b[0m\u001b[0;34m\u001b[0m\u001b[0m\n\u001b[0m\u001b[1;32m      3\u001b[0m \u001b[0;32mimport\u001b[0m \u001b[0mmath\u001b[0m\u001b[0;34m\u001b[0m\u001b[0;34m\u001b[0m\u001b[0m\n\u001b[1;32m      4\u001b[0m \u001b[0;32mimport\u001b[0m \u001b[0mpickle\u001b[0m\u001b[0;34m\u001b[0m\u001b[0;34m\u001b[0m\u001b[0m\n\u001b[1;32m      5\u001b[0m \u001b[0;32mfrom\u001b[0m \u001b[0mmultiprocessing\u001b[0m \u001b[0;32mimport\u001b[0m \u001b[0mshared_memory\u001b[0m\u001b[0;34m,\u001b[0m \u001b[0mPool\u001b[0m\u001b[0;34m\u001b[0m\u001b[0;34m\u001b[0m\u001b[0m\n",
      "\u001b[0;31mModuleNotFoundError\u001b[0m: No module named 'ezdxf'"
     ]
    }
   ],
   "source": [
    "import sys\n",
    "import ezdxf as edf\n",
    "import math\n",
    "import pickle\n",
    "from multiprocessing import shared_memory, Pool\n",
    "\n",
    "from tqdm import tqdm\n",
    "from helpers.lines import *\n",
    "from helpers.curves import *\n",
    "from helpers.layers import *\n",
    "import shapely.geometry as sg"
   ]
  },
  {
   "cell_type": "code",
   "execution_count": 2,
   "metadata": {},
   "outputs": [],
   "source": [
    "doc = edf.readfile(\"carparkdrawing-1.dxf\")\n",
    "msp = doc.modelspace()\n",
    "entities = getEntitiesInLayer(msp)\n",
    "obstacles = entities['0']"
   ]
  },
  {
   "cell_type": "code",
   "execution_count": 71,
   "metadata": {},
   "outputs": [],
   "source": [
    "\n",
    "def process_2d_polyline(polyline):\n",
    "    xy = []\n",
    "    \n",
    "    for i, location in enumerate(polyline.vertices()): \n",
    "        xy.append([location[0], location[1]])\n",
    "\n",
    "    if polyline.is_closed:    \n",
    "        pl = sg.LinearRing(xy)\n",
    "    else:\n",
    "        pl = sg.LineString(xy)\n",
    "    return pl"
   ]
  },
  {
   "cell_type": "code",
   "execution_count": 21,
   "metadata": {},
   "outputs": [],
   "source": [
    "WA = getWorkingArea(msp)"
   ]
  },
  {
   "cell_type": "code",
   "execution_count": 22,
   "metadata": {},
   "outputs": [
    {
     "data": {
      "text/plain": [
       "((5.07, 41.12), (5.07, 68.94), (43.92, 68.94), (43.92, 41.12))"
      ]
     },
     "execution_count": 22,
     "metadata": {},
     "output_type": "execute_result"
    }
   ],
   "source": [
    "WA"
   ]
  },
  {
   "cell_type": "code",
   "execution_count": 49,
   "metadata": {},
   "outputs": [],
   "source": [
    "lines = []\n",
    "\n",
    "for i in range(4112,6895,1):\n",
    "    y = i/100\n",
    "    x1 = 5.06\n",
    "    x2 = 43.93\n",
    "    line = sg.LineString([[x1,y],[x2,y]])\n",
    "    lines.append(line)"
   ]
  },
  {
   "cell_type": "code",
   "execution_count": 1,
   "metadata": {},
   "outputs": [],
   "source": [
    "import tqdm"
   ]
  },
  {
   "cell_type": "code",
   "execution_count": 4,
   "metadata": {},
   "outputs": [
    {
     "name": "stderr",
     "output_type": "stream",
     "text": [
      "100%|██████████| 100000/100000 [00:00<00:00, 2093279.43it/s]\n"
     ]
    }
   ],
   "source": [
    "for i in tqdm.tqdm(range(100000)):\n",
    "    pass"
   ]
  },
  {
   "cell_type": "code",
   "execution_count": 75,
   "metadata": {},
   "outputs": [],
   "source": [
    "obs_points = []\n",
    "for line in lines:\n",
    "    for so in shapely_obstacles:\n",
    "        obs_points.append(line.intersection(so).wkt)"
   ]
  },
  {
   "cell_type": "code",
   "execution_count": 76,
   "metadata": {},
   "outputs": [
    {
     "data": {
      "text/plain": [
       "161414"
      ]
     },
     "execution_count": 76,
     "metadata": {},
     "output_type": "execute_result"
    }
   ],
   "source": [
    "len(obs_points)"
   ]
  },
  {
   "cell_type": "code",
   "execution_count": 63,
   "metadata": {},
   "outputs": [
    {
     "data": {
      "text/plain": [
       "[<shapely.geometry.polygon.LinearRing at 0x103221ca0>]"
      ]
     },
     "execution_count": 63,
     "metadata": {},
     "output_type": "execute_result"
    }
   ],
   "source": [
    "geometry"
   ]
  },
  {
   "cell_type": "code",
   "execution_count": 50,
   "metadata": {},
   "outputs": [],
   "source": [
    "a = lines[-2].intersection(geometry[0])"
   ]
  },
  {
   "cell_type": "code",
   "execution_count": 74,
   "metadata": {},
   "outputs": [
    {
     "data": {
      "text/plain": [
       "'MULTIPOINT (43.22262709133155 68.93000000000001, 43.92262709133155 68.93000000000001)'"
      ]
     },
     "execution_count": 74,
     "metadata": {},
     "output_type": "execute_result"
    }
   ],
   "source": [
    "a.wkt"
   ]
  },
  {
   "cell_type": "code",
   "execution_count": 56,
   "metadata": {},
   "outputs": [
    {
     "ename": "NotImplementedError",
     "evalue": "Multi-part geometries do not provide a coordinate sequence",
     "output_type": "error",
     "traceback": [
      "\u001b[0;31m---------------------------------------------------------------------------\u001b[0m",
      "\u001b[0;31mNotImplementedError\u001b[0m                       Traceback (most recent call last)",
      "\u001b[0;32m<ipython-input-56-368f511138ad>\u001b[0m in \u001b[0;36m<module>\u001b[0;34m\u001b[0m\n\u001b[0;32m----> 1\u001b[0;31m \u001b[0mtype\u001b[0m\u001b[0;34m(\u001b[0m\u001b[0ma\u001b[0m\u001b[0;34m.\u001b[0m\u001b[0mcoords\u001b[0m\u001b[0;34m)\u001b[0m\u001b[0;34m\u001b[0m\u001b[0;34m\u001b[0m\u001b[0m\n\u001b[0m",
      "\u001b[0;32m/usr/local/lib/python3.8/site-packages/shapely/geometry/base.py\u001b[0m in \u001b[0;36mcoords\u001b[0;34m(self)\u001b[0m\n\u001b[1;32m    865\u001b[0m     \u001b[0;34m@\u001b[0m\u001b[0mproperty\u001b[0m\u001b[0;34m\u001b[0m\u001b[0;34m\u001b[0m\u001b[0m\n\u001b[1;32m    866\u001b[0m     \u001b[0;32mdef\u001b[0m \u001b[0mcoords\u001b[0m\u001b[0;34m(\u001b[0m\u001b[0mself\u001b[0m\u001b[0;34m)\u001b[0m\u001b[0;34m:\u001b[0m\u001b[0;34m\u001b[0m\u001b[0;34m\u001b[0m\u001b[0m\n\u001b[0;32m--> 867\u001b[0;31m         raise NotImplementedError(\n\u001b[0m\u001b[1;32m    868\u001b[0m             \"Multi-part geometries do not provide a coordinate sequence\")\n\u001b[1;32m    869\u001b[0m \u001b[0;34m\u001b[0m\u001b[0m\n",
      "\u001b[0;31mNotImplementedError\u001b[0m: Multi-part geometries do not provide a coordinate sequence"
     ]
    }
   ],
   "source": []
  },
  {
   "cell_type": "code",
   "execution_count": 43,
   "metadata": {},
   "outputs": [
    {
     "data": {
      "text/plain": [
       "[(43.22262709133155, 68.93)]"
      ]
     },
     "execution_count": 43,
     "metadata": {},
     "output_type": "execute_result"
    }
   ],
   "source": [
    "list(a.coords)"
   ]
  },
  {
   "cell_type": "code",
   "execution_count": null,
   "metadata": {},
   "outputs": [],
   "source": []
  },
  {
   "cell_type": "code",
   "execution_count": 29,
   "metadata": {},
   "outputs": [
    {
     "data": {
      "text/plain": [
       "[(5.07, 41.12), (43.92, 41.12)]"
      ]
     },
     "execution_count": 29,
     "metadata": {},
     "output_type": "execute_result"
    }
   ],
   "source": [
    "list(line.coords)"
   ]
  },
  {
   "cell_type": "code",
   "execution_count": 20,
   "metadata": {},
   "outputs": [
    {
     "data": {
      "text/plain": [
       "[(43.92262709133155, 68.94361399915044),\n",
       " (43.22262709133155, 68.94361399915044),\n",
       " (43.22262709133155, 68.44361399915044),\n",
       " (43.92262709133155, 68.44361399915044),\n",
       " (43.92262709133155, 68.94361399915044)]"
      ]
     },
     "execution_count": 20,
     "metadata": {},
     "output_type": "execute_result"
    }
   ],
   "source": [
    "list(geometry[0].coords)[:]"
   ]
  },
  {
   "cell_type": "code",
   "execution_count": 67,
   "metadata": {
    "scrolled": true
   },
   "outputs": [
    {
     "data": {
      "text/plain": [
       "[<class 'ezdxf.entities.lwpolyline.LWPolyline'> LWPOLYLINE(#22A),\n",
       " <class 'ezdxf.entities.lwpolyline.LWPolyline'> LWPOLYLINE(#22C),\n",
       " <class 'ezdxf.entities.lwpolyline.LWPolyline'> LWPOLYLINE(#233),\n",
       " <class 'ezdxf.entities.lwpolyline.LWPolyline'> LWPOLYLINE(#23A),\n",
       " <class 'ezdxf.entities.lwpolyline.LWPolyline'> LWPOLYLINE(#241),\n",
       " <class 'ezdxf.entities.lwpolyline.LWPolyline'> LWPOLYLINE(#248),\n",
       " <class 'ezdxf.entities.lwpolyline.LWPolyline'> LWPOLYLINE(#24F),\n",
       " <class 'ezdxf.entities.lwpolyline.LWPolyline'> LWPOLYLINE(#256),\n",
       " <class 'ezdxf.entities.lwpolyline.LWPolyline'> LWPOLYLINE(#25D),\n",
       " <class 'ezdxf.entities.line.Line'> LINE(#25E),\n",
       " <class 'ezdxf.entities.lwpolyline.LWPolyline'> LWPOLYLINE(#25F),\n",
       " <class 'ezdxf.entities.line.Line'> LINE(#260),\n",
       " <class 'ezdxf.entities.lwpolyline.LWPolyline'> LWPOLYLINE(#26D),\n",
       " <class 'ezdxf.entities.lwpolyline.LWPolyline'> LWPOLYLINE(#274),\n",
       " <class 'ezdxf.entities.lwpolyline.LWPolyline'> LWPOLYLINE(#27B),\n",
       " <class 'ezdxf.entities.lwpolyline.LWPolyline'> LWPOLYLINE(#282),\n",
       " <class 'ezdxf.entities.lwpolyline.LWPolyline'> LWPOLYLINE(#289),\n",
       " <class 'ezdxf.entities.lwpolyline.LWPolyline'> LWPOLYLINE(#290),\n",
       " <class 'ezdxf.entities.lwpolyline.LWPolyline'> LWPOLYLINE(#297),\n",
       " <class 'ezdxf.entities.lwpolyline.LWPolyline'> LWPOLYLINE(#2A5),\n",
       " <class 'ezdxf.entities.lwpolyline.LWPolyline'> LWPOLYLINE(#2BB),\n",
       " <class 'ezdxf.entities.line.Line'> LINE(#2BC),\n",
       " <class 'ezdxf.entities.lwpolyline.LWPolyline'> LWPOLYLINE(#2BD),\n",
       " <class 'ezdxf.entities.lwpolyline.LWPolyline'> LWPOLYLINE(#2C9),\n",
       " <class 'ezdxf.entities.lwpolyline.LWPolyline'> LWPOLYLINE(#2CA),\n",
       " <class 'ezdxf.entities.line.Line'> LINE(#2CB),\n",
       " <class 'ezdxf.entities.line.Line'> LINE(#2CC),\n",
       " <class 'ezdxf.entities.line.Line'> LINE(#2CD),\n",
       " <class 'ezdxf.entities.lwpolyline.LWPolyline'> LWPOLYLINE(#2D2),\n",
       " <class 'ezdxf.entities.lwpolyline.LWPolyline'> LWPOLYLINE(#2D9),\n",
       " <class 'ezdxf.entities.lwpolyline.LWPolyline'> LWPOLYLINE(#2E0),\n",
       " <class 'ezdxf.entities.lwpolyline.LWPolyline'> LWPOLYLINE(#2E7),\n",
       " <class 'ezdxf.entities.lwpolyline.LWPolyline'> LWPOLYLINE(#2EE),\n",
       " <class 'ezdxf.entities.lwpolyline.LWPolyline'> LWPOLYLINE(#2F5),\n",
       " <class 'ezdxf.entities.line.Line'> LINE(#302),\n",
       " <class 'ezdxf.entities.lwpolyline.LWPolyline'> LWPOLYLINE(#30E),\n",
       " <class 'ezdxf.entities.lwpolyline.LWPolyline'> LWPOLYLINE(#30F),\n",
       " <class 'ezdxf.entities.lwpolyline.LWPolyline'> LWPOLYLINE(#310),\n",
       " <class 'ezdxf.entities.lwpolyline.LWPolyline'> LWPOLYLINE(#311),\n",
       " <class 'ezdxf.entities.lwpolyline.LWPolyline'> LWPOLYLINE(#312),\n",
       " <class 'ezdxf.entities.lwpolyline.LWPolyline'> LWPOLYLINE(#313),\n",
       " <class 'ezdxf.entities.line.Line'> LINE(#33C),\n",
       " <class 'ezdxf.entities.lwpolyline.LWPolyline'> LWPOLYLINE(#34F),\n",
       " <class 'ezdxf.entities.lwpolyline.LWPolyline'> LWPOLYLINE(#350),\n",
       " <class 'ezdxf.entities.lwpolyline.LWPolyline'> LWPOLYLINE(#351),\n",
       " <class 'ezdxf.entities.lwpolyline.LWPolyline'> LWPOLYLINE(#352),\n",
       " <class 'ezdxf.entities.lwpolyline.LWPolyline'> LWPOLYLINE(#353),\n",
       " <class 'ezdxf.entities.lwpolyline.LWPolyline'> LWPOLYLINE(#354),\n",
       " <class 'ezdxf.entities.line.Line'> LINE(#355),\n",
       " <class 'ezdxf.entities.lwpolyline.LWPolyline'> LWPOLYLINE(#356),\n",
       " <class 'ezdxf.entities.lwpolyline.LWPolyline'> LWPOLYLINE(#357),\n",
       " <class 'ezdxf.entities.lwpolyline.LWPolyline'> LWPOLYLINE(#358),\n",
       " <class 'ezdxf.entities.lwpolyline.LWPolyline'> LWPOLYLINE(#359),\n",
       " <class 'ezdxf.entities.lwpolyline.LWPolyline'> LWPOLYLINE(#35A),\n",
       " <class 'ezdxf.entities.lwpolyline.LWPolyline'> LWPOLYLINE(#35B),\n",
       " <class 'ezdxf.entities.line.Line'> LINE(#3A5),\n",
       " <class 'ezdxf.entities.lwpolyline.LWPolyline'> LWPOLYLINE(#3A6),\n",
       " <class 'ezdxf.entities.lwpolyline.LWPolyline'> LWPOLYLINE(#3A7),\n",
       " <class 'ezdxf.entities.lwpolyline.LWPolyline'> LWPOLYLINE(#3A8),\n",
       " <class 'ezdxf.entities.lwpolyline.LWPolyline'> LWPOLYLINE(#3A9),\n",
       " <class 'ezdxf.entities.lwpolyline.LWPolyline'> LWPOLYLINE(#3AA),\n",
       " <class 'ezdxf.entities.lwpolyline.LWPolyline'> LWPOLYLINE(#3AB),\n",
       " <class 'ezdxf.entities.line.Line'> LINE(#3AC),\n",
       " <class 'ezdxf.entities.lwpolyline.LWPolyline'> LWPOLYLINE(#3AD),\n",
       " <class 'ezdxf.entities.lwpolyline.LWPolyline'> LWPOLYLINE(#3AE),\n",
       " <class 'ezdxf.entities.lwpolyline.LWPolyline'> LWPOLYLINE(#3AF),\n",
       " <class 'ezdxf.entities.lwpolyline.LWPolyline'> LWPOLYLINE(#3B0),\n",
       " <class 'ezdxf.entities.lwpolyline.LWPolyline'> LWPOLYLINE(#3B1),\n",
       " <class 'ezdxf.entities.lwpolyline.LWPolyline'> LWPOLYLINE(#3B2)]"
      ]
     },
     "execution_count": 67,
     "metadata": {},
     "output_type": "execute_result"
    }
   ],
   "source": [
    "obstacles"
   ]
  },
  {
   "cell_type": "code",
   "execution_count": 69,
   "metadata": {},
   "outputs": [],
   "source": [
    "o = process_2d_polyline(obstacles[1])"
   ]
  },
  {
   "cell_type": "code",
   "execution_count": 70,
   "metadata": {},
   "outputs": [],
   "source": [
    "\n",
    "o"
   ]
  },
  {
   "cell_type": "code",
   "execution_count": 72,
   "metadata": {},
   "outputs": [],
   "source": [
    "shapely_obstacles = []\n",
    "for obstacle in obstacles:\n",
    "    try:\n",
    "        shapely_obstacles.append(process_2d_polyline(obstacle))\n",
    "    except:\n",
    "        continue"
   ]
  },
  {
   "cell_type": "code",
   "execution_count": 73,
   "metadata": {
    "collapsed": true
   },
   "outputs": [
    {
     "data": {
      "text/plain": [
       "[<shapely.geometry.polygon.LinearRing at 0x10e75cee0>,\n",
       " <shapely.geometry.polygon.LinearRing at 0x10e75c280>,\n",
       " <shapely.geometry.polygon.LinearRing at 0x10e75cc40>,\n",
       " <shapely.geometry.polygon.LinearRing at 0x10e75ce20>,\n",
       " <shapely.geometry.polygon.LinearRing at 0x10e75c790>,\n",
       " <shapely.geometry.polygon.LinearRing at 0x10e75ca60>,\n",
       " <shapely.geometry.polygon.LinearRing at 0x10e75c880>,\n",
       " <shapely.geometry.polygon.LinearRing at 0x10e75cf10>,\n",
       " <shapely.geometry.polygon.LinearRing at 0x10e75ccd0>,\n",
       " <shapely.geometry.polygon.LinearRing at 0x10e75c550>,\n",
       " <shapely.geometry.polygon.LinearRing at 0x10e75caf0>,\n",
       " <shapely.geometry.polygon.LinearRing at 0x10e75cfd0>,\n",
       " <shapely.geometry.polygon.LinearRing at 0x10e75cac0>,\n",
       " <shapely.geometry.polygon.LinearRing at 0x10e75c370>,\n",
       " <shapely.geometry.polygon.LinearRing at 0x10e75c490>,\n",
       " <shapely.geometry.polygon.LinearRing at 0x10e75c430>,\n",
       " <shapely.geometry.polygon.LinearRing at 0x10e75c520>,\n",
       " <shapely.geometry.polygon.LinearRing at 0x10e75c4c0>,\n",
       " <shapely.geometry.polygon.LinearRing at 0x10e7594f0>,\n",
       " <shapely.geometry.polygon.LinearRing at 0x10e759130>,\n",
       " <shapely.geometry.polygon.LinearRing at 0x10e759670>,\n",
       " <shapely.geometry.polygon.LinearRing at 0x10e7595b0>,\n",
       " <shapely.geometry.polygon.LinearRing at 0x10e759700>,\n",
       " <shapely.geometry.polygon.LinearRing at 0x10e759580>,\n",
       " <shapely.geometry.polygon.LinearRing at 0x10e759610>,\n",
       " <shapely.geometry.polygon.LinearRing at 0x10e7592b0>,\n",
       " <shapely.geometry.polygon.LinearRing at 0x10e759460>,\n",
       " <shapely.geometry.polygon.LinearRing at 0x10e759550>,\n",
       " <shapely.geometry.polygon.LinearRing at 0x10e759b50>,\n",
       " <shapely.geometry.polygon.LinearRing at 0x10e7597f0>,\n",
       " <shapely.geometry.polygon.LinearRing at 0x1076cf880>,\n",
       " <shapely.geometry.polygon.LinearRing at 0x1076cfdf0>,\n",
       " <shapely.geometry.polygon.LinearRing at 0x1076cfe80>,\n",
       " <shapely.geometry.polygon.LinearRing at 0x1076cfa30>,\n",
       " <shapely.geometry.polygon.LinearRing at 0x10769d1c0>,\n",
       " <shapely.geometry.polygon.LinearRing at 0x10f1fa550>,\n",
       " <shapely.geometry.polygon.LinearRing at 0x10f1fabe0>,\n",
       " <shapely.geometry.polygon.LinearRing at 0x10f1fa5e0>,\n",
       " <shapely.geometry.polygon.LinearRing at 0x10f1fabb0>,\n",
       " <shapely.geometry.polygon.LinearRing at 0x10f1fae80>,\n",
       " <shapely.geometry.polygon.LinearRing at 0x10f1fadf0>,\n",
       " <shapely.geometry.polygon.LinearRing at 0x10f1faf10>,\n",
       " <shapely.geometry.polygon.LinearRing at 0x10f1fae50>,\n",
       " <shapely.geometry.polygon.LinearRing at 0x10f1faf40>,\n",
       " <shapely.geometry.polygon.LinearRing at 0x10f1faee0>,\n",
       " <shapely.geometry.polygon.LinearRing at 0x10f1faf70>,\n",
       " <shapely.geometry.polygon.LinearRing at 0x10f1fadc0>,\n",
       " <shapely.geometry.polygon.LinearRing at 0x10efcf340>,\n",
       " <shapely.geometry.polygon.LinearRing at 0x10efcfe20>,\n",
       " <shapely.geometry.polygon.LinearRing at 0x10efcf6a0>,\n",
       " <shapely.geometry.polygon.LinearRing at 0x10efcf850>,\n",
       " <shapely.geometry.polygon.LinearRing at 0x10efcf4f0>,\n",
       " <shapely.geometry.polygon.LinearRing at 0x10efcfaf0>,\n",
       " <shapely.geometry.polygon.LinearRing at 0x10efcfb50>,\n",
       " <shapely.geometry.polygon.LinearRing at 0x10efcfbb0>,\n",
       " <shapely.geometry.polygon.LinearRing at 0x10efcf520>,\n",
       " <shapely.geometry.polygon.LinearRing at 0x10efcfac0>,\n",
       " <shapely.geometry.polygon.LinearRing at 0x10efcf7c0>]"
      ]
     },
     "execution_count": 73,
     "metadata": {},
     "output_type": "execute_result"
    }
   ],
   "source": [
    "shapely_obstacles"
   ]
  },
  {
   "cell_type": "code",
   "execution_count": null,
   "metadata": {},
   "outputs": [],
   "source": [
    "pip3 install ezdxf"
   ]
  },
  {
   "cell_type": "code",
   "execution_count": 2,
   "metadata": {},
   "outputs": [
    {
     "ename": "NameError",
     "evalue": "name 'python' is not defined",
     "output_type": "error",
     "traceback": [
      "\u001b[0;31m---------------------------------------------------------------------------\u001b[0m",
      "\u001b[0;31mNameError\u001b[0m                                 Traceback (most recent call last)",
      "\u001b[0;32m<ipython-input-2-32886514c262>\u001b[0m in \u001b[0;36m<module>\u001b[0;34m()\u001b[0m\n\u001b[0;32m----> 1\u001b[0;31m \u001b[0mpython\u001b[0m\u001b[0;34m\u001b[0m\u001b[0m\n\u001b[0m",
      "\u001b[0;31mNameError\u001b[0m: name 'python' is not defined"
     ]
    }
   ],
   "source": [
    "python"
   ]
  },
  {
   "cell_type": "code",
   "execution_count": 1,
   "metadata": {},
   "outputs": [
    {
     "name": "stdout",
     "output_type": "stream",
     "text": [
      "Python 2.7.14\n"
     ]
    }
   ],
   "source": [
    "!python --version"
   ]
  },
  {
   "cell_type": "code",
   "execution_count": null,
   "metadata": {},
   "outputs": [],
   "source": []
  }
 ],
 "metadata": {
  "kernelspec": {
   "display_name": "Python 3",
   "language": "python",
   "name": "python3"
  },
  "language_info": {
   "codemirror_mode": {
    "name": "ipython",
    "version": 3
   },
   "file_extension": ".py",
   "mimetype": "text/x-python",
   "name": "python",
   "nbconvert_exporter": "python",
   "pygments_lexer": "ipython3",
   "version": "3.6.9"
  }
 },
 "nbformat": 4,
 "nbformat_minor": 4
}
