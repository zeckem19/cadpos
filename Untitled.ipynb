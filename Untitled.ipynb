{
 "cells": [
  {
   "cell_type": "code",
   "execution_count": 10,
   "metadata": {},
   "outputs": [],
   "source": [
    "import ezdxf as edf\n",
    "import math\n",
    "\n",
    "from helpers.lines import *\n",
    "from helpers.curves import *\n",
    "\n",
    "doc = edf.readfile('/Users/zoelim/cadpos/resources/dxfs/Drawing5- 2 squares(dimensions).dxf')\n",
    "msp = doc.modelspace()\n"
   ]
  },
  {
   "cell_type": "code",
   "execution_count": null,
   "metadata": {},
   "outputs": [],
   "source": [
    "# line\n",
    "\n",
    "originalLines = list()\n",
    "originalPoints = list()\n",
    "originalVectorPoints = list()\n",
    "\n",
    "for e in msp.query('LINE'):\n",
    "    originalLines.append(e)\n",
    "    originalVectorPoints.append(e.dxf.start)\n",
    "    originalVectorPoints.append(e.dxf.end)\n",
    "    originalPoints.append((e.dxf.start.x, e.dxf.start.y))\n",
    "    originalPoints.append((e.dxf.end.x, e.dxf.end.y))\n",
    "    \n",
    "workingArea = edf.math.convex_hull_2d(originalVectorPoints)\n",
    "innerPoints = getPointsInConvex(originalVectorPoints, workingArea)\n",
    "\n",
    "workingLines = getWorkingAreaLines(workingArea, originalLines)\n",
    "innerLines = [line for line in originalLines if line not in workingLines]\n",
    "obstacles = getObstaclePolygons(innerLines, originalPoints)"
   ]
  },
  {
   "cell_type": "code",
   "execution_count": 9,
   "metadata": {},
   "outputs": [
    {
     "data": {
      "text/plain": [
       "<module 'ezdxf.entities.polyline' from '/usr/local/lib/python3.7/site-packages/ezdxf/entities/polyline.py'>"
      ]
     },
     "execution_count": 9,
     "metadata": {},
     "output_type": "execute_result"
    }
   ],
   "source": [
    "edf.entities.polyline"
   ]
  },
  {
   "cell_type": "code",
   "execution_count": null,
   "metadata": {},
   "outputs": [],
   "source": []
  }
 ],
 "metadata": {
  "kernelspec": {
   "display_name": "Python 3",
   "language": "python",
   "name": "python3"
  },
  "language_info": {
   "codemirror_mode": {
    "name": "ipython",
    "version": 3
   },
   "file_extension": ".py",
   "mimetype": "text/x-python",
   "name": "python",
   "nbconvert_exporter": "python",
   "pygments_lexer": "ipython3",
   "version": "3.7.7"
  }
 },
 "nbformat": 4,
 "nbformat_minor": 2
}
