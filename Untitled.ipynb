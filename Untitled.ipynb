{
 "cells": [
  {
   "cell_type": "code",
   "execution_count": 1,
   "metadata": {},
   "outputs": [],
   "source": [
    "import ezdxf as edf\n",
    "import math\n",
    "\n",
    "from helpers.lines import *\n",
    "from helpers.curves import *\n",
    "from helpers.layers import *\n",
    "\n",
    "doc = edf.readfile('/Users/zoelim/cadpos/resources/dxfs/Drawing5- 2 squares(dimensions).dxf')\n",
    "msp = doc.modelspace()\n",
    "entities = getEntitiesInLayer(msp)\n",
    "obstacles = entities['0']\n",
    "WA = getWorkingArea(list(msp.query('LINE')))"
   ]
  },
  {
   "cell_type": "code",
   "execution_count": 9,
   "metadata": {},
   "outputs": [],
   "source": [
    "methods = {\n",
    "    'LWPOLYLINE' : is_point_in_polyline,\n",
    "    'CIRCLE' : is_point_in_circ,\n",
    "    'ELLIPSE' : is_point_in_ellipse,\n",
    "    'SPLINE' : isInSPLine\n",
    "}"
   ]
  },
  {
   "cell_type": "code",
   "execution_count": 12,
   "metadata": {},
   "outputs": [
    {
     "ename": "NameError",
     "evalue": "name 'discretize' is not defined",
     "output_type": "error",
     "traceback": [
      "\u001b[0;31m---------------------------------------------------------------------------\u001b[0m",
      "\u001b[0;31mNameError\u001b[0m                                 Traceback (most recent call last)",
      "\u001b[0;32m<ipython-input-12-7081c43d6756>\u001b[0m in \u001b[0;36m<module>\u001b[0;34m\u001b[0m\n\u001b[0;32m----> 1\u001b[0;31m \u001b[0mdiscretisedWA\u001b[0m \u001b[0;34m=\u001b[0m \u001b[0mdiscretize\u001b[0m\u001b[0;34m\u001b[0m\u001b[0;34m\u001b[0m\u001b[0m\n\u001b[0m",
      "\u001b[0;31mNameError\u001b[0m: name 'discretize' is not defined"
     ]
    }
   ],
   "source": [
    "discretisedWA = discretizeWorkingArea()"
   ]
  },
  {
   "cell_type": "code",
   "execution_count": 5,
   "metadata": {
    "scrolled": true
   },
   "outputs": [
    {
     "data": {
      "text/plain": [
       "[<class 'ezdxf.entities.line.Line'> LINE(#22A),\n",
       " <class 'ezdxf.entities.line.Line'> LINE(#22B),\n",
       " <class 'ezdxf.entities.line.Line'> LINE(#22C),\n",
       " <class 'ezdxf.entities.line.Line'> LINE(#22D),\n",
       " <class 'ezdxf.entities.dimension.Dimension'> DIMENSION(#24A),\n",
       " <class 'ezdxf.entities.dimension.Dimension'> DIMENSION(#265),\n",
       " <class 'ezdxf.entities.lwpolyline.LWPolyline'> LWPOLYLINE(#364),\n",
       " <class 'ezdxf.entities.lwpolyline.LWPolyline'> LWPOLYLINE(#365),\n",
       " <class 'ezdxf.entities.line.Line'> LINE(#366),\n",
       " <class 'ezdxf.entities.line.Line'> LINE(#367),\n",
       " <class 'ezdxf.entities.line.Line'> LINE(#368),\n",
       " <class 'ezdxf.entities.line.Line'> LINE(#369),\n",
       " <class 'ezdxf.entities.dimension.Dimension'> DIMENSION(#36A),\n",
       " <class 'ezdxf.entities.dimension.Dimension'> DIMENSION(#384),\n",
       " <class 'ezdxf.entities.dimension.Dimension'> DIMENSION(#39E),\n",
       " <class 'ezdxf.entities.dimension.Dimension'> DIMENSION(#3B8)]"
      ]
     },
     "execution_count": 5,
     "metadata": {},
     "output_type": "execute_result"
    }
   ],
   "source": [
    "workingPoints, obstaclePoints = [], []\n",
    "for entity in obstacles:\n",
    "    if entity.dxftype() in methods.keys():\n",
    "        labelPoint = methods[entity.dxftype()]()\n",
    "        "
   ]
  },
  {
   "cell_type": "code",
   "execution_count": 28,
   "metadata": {},
   "outputs": [],
   "source": [
    "lwp = msp.query('LWPOLYLINE')[0]"
   ]
  },
  {
   "cell_type": "code",
   "execution_count": 31,
   "metadata": {},
   "outputs": [
    {
     "data": {
      "text/plain": [
       "<class 'ezdxf.entities.lwpolyline.LWPolyline'> LWPOLYLINE(#364)"
      ]
     },
     "execution_count": 31,
     "metadata": {},
     "output_type": "execute_result"
    }
   ],
   "source": []
  },
  {
   "cell_type": "code",
   "execution_count": 29,
   "metadata": {},
   "outputs": [
    {
     "data": {
      "text/plain": [
       "[Vec2(15.000385519716, 12.50188723137928),\n",
       " Vec2(15.000385519716, 15.00188723137928),\n",
       " Vec2(17.500385519716, 15.00188723137928),\n",
       " Vec2(17.500385519716, 12.50188723137928)]"
      ]
     },
     "execution_count": 29,
     "metadata": {},
     "output_type": "execute_result"
    }
   ],
   "source": []
  },
  {
   "cell_type": "code",
   "execution_count": 32,
   "metadata": {},
   "outputs": [
    {
     "ename": "TypeError",
     "evalue": "is_point_in_polygon_2d() missing 1 required positional argument: 'polygon'",
     "output_type": "error",
     "traceback": [
      "\u001b[0;31m---------------------------------------------------------------------------\u001b[0m",
      "\u001b[0;31mTypeError\u001b[0m                                 Traceback (most recent call last)",
      "\u001b[0;32m<ipython-input-32-bdd7fb23eeea>\u001b[0m in \u001b[0;36m<module>\u001b[0;34m\u001b[0m\n\u001b[0;32m----> 1\u001b[0;31m \u001b[0medf\u001b[0m\u001b[0;34m.\u001b[0m\u001b[0mmath\u001b[0m\u001b[0;34m.\u001b[0m\u001b[0mis_point_in_polygon_2d\u001b[0m\u001b[0;34m(\u001b[0m\u001b[0medf\u001b[0m\u001b[0;34m.\u001b[0m\u001b[0mmath\u001b[0m\u001b[0;34m.\u001b[0m\u001b[0mconvex_hull_2d\u001b[0m\u001b[0;34m(\u001b[0m\u001b[0mlwp\u001b[0m\u001b[0;34m)\u001b[0m\u001b[0;34m)\u001b[0m\u001b[0;34m\u001b[0m\u001b[0;34m\u001b[0m\u001b[0m\n\u001b[0m",
      "\u001b[0;31mTypeError\u001b[0m: is_point_in_polygon_2d() missing 1 required positional argument: 'polygon'"
     ]
    }
   ],
   "source": []
  },
  {
   "cell_type": "code",
   "execution_count": 3,
   "metadata": {},
   "outputs": [
    {
     "data": {
      "text/plain": [
       "8"
      ]
     },
     "execution_count": 3,
     "metadata": {},
     "output_type": "execute_result"
    }
   ],
   "source": [
    "len(list(msp.query('LINE')))"
   ]
  },
  {
   "cell_type": "code",
   "execution_count": 2,
   "metadata": {},
   "outputs": [
    {
     "name": "stdout",
     "output_type": "stream",
     "text": [
      "[Vector(12.4858778935436, 17.50996849717288, 0.0), Vector(27.51999852234022, 17.50996849717288, 0.0), Vector(27.51999852234022, 17.50996849717288, 0.0), Vector(27.51999852234022, 9.96017517718117, 0.0), Vector(27.51999852234022, 9.96017517718117, 0.0), Vector(12.4858778935436, 9.960175177181172, 0.0), Vector(12.4858778935436, 9.960175177181172, 0.0), Vector(12.4858778935436, 17.50996849717288, 0.0), Vector(15.000385519716, 15.00188723137928, 0.0), Vector(17.500385519716, 12.50188723137928, 0.0), Vector(17.500385519716, 15.00188723137928, 0.0), Vector(15.000385519716, 12.50188723137928, 0.0), Vector(20.93286186334701, 15.85748701351982, 0.0), Vector(22.93286186334702, 13.85748701351982, 0.0), Vector(22.93286186334702, 15.85748701351982, 0.0), Vector(20.93286186334701, 13.85748701351982, 0.0)]\n"
     ]
    },
    {
     "ename": "ValueError",
     "evalue": "Convex hull calculation requires 3 or more unique points.",
     "output_type": "error",
     "traceback": [
      "\u001b[0;31m---------------------------------------------------------------------------\u001b[0m",
      "\u001b[0;31mValueError\u001b[0m                                Traceback (most recent call last)",
      "\u001b[0;32m<ipython-input-2-217fcefa2728>\u001b[0m in \u001b[0;36m<module>\u001b[0;34m\u001b[0m\n\u001b[0;32m----> 1\u001b[0;31m \u001b[0mWA\u001b[0m \u001b[0;34m=\u001b[0m \u001b[0mgetWorkingArea\u001b[0m\u001b[0;34m(\u001b[0m\u001b[0mlist\u001b[0m\u001b[0;34m(\u001b[0m\u001b[0mmsp\u001b[0m\u001b[0;34m.\u001b[0m\u001b[0mquery\u001b[0m\u001b[0;34m(\u001b[0m\u001b[0;34m'LINE'\u001b[0m\u001b[0;34m)\u001b[0m\u001b[0;34m)\u001b[0m\u001b[0;34m)\u001b[0m\u001b[0;34m\u001b[0m\u001b[0;34m\u001b[0m\u001b[0m\n\u001b[0m",
      "\u001b[0;32m~/cadpos/helpers/lines.py\u001b[0m in \u001b[0;36mgetWorkingArea\u001b[0;34m(lines)\u001b[0m\n\u001b[1;32m     97\u001b[0m     \u001b[0mworkingLines\u001b[0m \u001b[0;34m=\u001b[0m \u001b[0mgetWorkingAreaLines\u001b[0m\u001b[0;34m(\u001b[0m\u001b[0mworkingArea\u001b[0m\u001b[0;34m,\u001b[0m \u001b[0moriginalLines\u001b[0m\u001b[0;34m)\u001b[0m\u001b[0;34m\u001b[0m\u001b[0;34m\u001b[0m\u001b[0m\n\u001b[1;32m     98\u001b[0m     \u001b[0minnerLines\u001b[0m \u001b[0;34m=\u001b[0m \u001b[0;34m[\u001b[0m\u001b[0mline\u001b[0m \u001b[0;32mfor\u001b[0m \u001b[0mline\u001b[0m \u001b[0;32min\u001b[0m \u001b[0moriginalLines\u001b[0m \u001b[0;32mif\u001b[0m \u001b[0mline\u001b[0m \u001b[0;32mnot\u001b[0m \u001b[0;32min\u001b[0m \u001b[0mworkingLines\u001b[0m\u001b[0;34m]\u001b[0m\u001b[0;34m\u001b[0m\u001b[0;34m\u001b[0m\u001b[0m\n\u001b[0;32m---> 99\u001b[0;31m     \u001b[0mobstacles\u001b[0m \u001b[0;34m=\u001b[0m \u001b[0mgetObstaclePolygons\u001b[0m\u001b[0;34m(\u001b[0m\u001b[0minnerLines\u001b[0m\u001b[0;34m,\u001b[0m \u001b[0moriginalPoints\u001b[0m\u001b[0;34m)\u001b[0m\u001b[0;34m\u001b[0m\u001b[0;34m\u001b[0m\u001b[0m\n\u001b[0m",
      "\u001b[0;32m~/cadpos/helpers/lines.py\u001b[0m in \u001b[0;36mgetObstaclePolygons\u001b[0;34m(innerLines, originalPoints)\u001b[0m\n\u001b[1;32m     59\u001b[0m             \u001b[0mstart\u001b[0m \u001b[0;34m=\u001b[0m \u001b[0mfirstLine\u001b[0m\u001b[0;34m.\u001b[0m\u001b[0mdxf\u001b[0m\u001b[0;34m.\u001b[0m\u001b[0mstart\u001b[0m\u001b[0;34m\u001b[0m\u001b[0;34m\u001b[0m\u001b[0m\n\u001b[1;32m     60\u001b[0m             \u001b[0mend\u001b[0m \u001b[0;34m=\u001b[0m \u001b[0mfirstLine\u001b[0m\u001b[0;34m.\u001b[0m\u001b[0mdxf\u001b[0m\u001b[0;34m.\u001b[0m\u001b[0mend\u001b[0m\u001b[0;34m\u001b[0m\u001b[0;34m\u001b[0m\u001b[0m\n\u001b[0;32m---> 61\u001b[0;31m             \u001b[0mconvex\u001b[0m \u001b[0;34m=\u001b[0m \u001b[0mconstructPolygon\u001b[0m\u001b[0;34m(\u001b[0m\u001b[0mobstacles\u001b[0m\u001b[0;34m[\u001b[0m\u001b[0;34m-\u001b[0m\u001b[0;36m1\u001b[0m\u001b[0;34m]\u001b[0m\u001b[0;34m)\u001b[0m\u001b[0;34m\u001b[0m\u001b[0;34m\u001b[0m\u001b[0m\n\u001b[0m\u001b[1;32m     62\u001b[0m             \u001b[0;32mif\u001b[0m \u001b[0mfirstLine\u001b[0m \u001b[0;32min\u001b[0m \u001b[0mobstacles\u001b[0m\u001b[0;34m[\u001b[0m\u001b[0;34m-\u001b[0m\u001b[0;36m1\u001b[0m\u001b[0;34m]\u001b[0m\u001b[0;34m:\u001b[0m\u001b[0;34m\u001b[0m\u001b[0;34m\u001b[0m\u001b[0m\n\u001b[1;32m     63\u001b[0m                 \u001b[0;32mcontinue\u001b[0m\u001b[0;34m\u001b[0m\u001b[0;34m\u001b[0m\u001b[0m\n",
      "\u001b[0;32m~/cadpos/helpers/lines.py\u001b[0m in \u001b[0;36mconstructPolygon\u001b[0;34m(obstacleLines)\u001b[0m\n\u001b[1;32m     44\u001b[0m         \u001b[0mobstaclePoints\u001b[0m\u001b[0;34m.\u001b[0m\u001b[0mappend\u001b[0m\u001b[0;34m(\u001b[0m\u001b[0mline\u001b[0m\u001b[0;34m.\u001b[0m\u001b[0mdxf\u001b[0m\u001b[0;34m.\u001b[0m\u001b[0mend\u001b[0m\u001b[0;34m)\u001b[0m\u001b[0;34m\u001b[0m\u001b[0;34m\u001b[0m\u001b[0m\n\u001b[1;32m     45\u001b[0m \u001b[0;34m\u001b[0m\u001b[0m\n\u001b[0;32m---> 46\u001b[0;31m     \u001b[0mpolygon\u001b[0m \u001b[0;34m=\u001b[0m \u001b[0medf\u001b[0m\u001b[0;34m.\u001b[0m\u001b[0mmath\u001b[0m\u001b[0;34m.\u001b[0m\u001b[0mconvex_hull_2d\u001b[0m\u001b[0;34m(\u001b[0m\u001b[0mobstaclePoints\u001b[0m\u001b[0;34m)\u001b[0m\u001b[0;34m\u001b[0m\u001b[0;34m\u001b[0m\u001b[0m\n\u001b[0m\u001b[1;32m     47\u001b[0m \u001b[0;34m\u001b[0m\u001b[0m\n\u001b[1;32m     48\u001b[0m     \u001b[0mprint\u001b[0m\u001b[0;34m(\u001b[0m\u001b[0mpolygon\u001b[0m\u001b[0;34m)\u001b[0m\u001b[0;34m\u001b[0m\u001b[0;34m\u001b[0m\u001b[0m\n",
      "\u001b[0;32m/usr/local/lib/python3.7/site-packages/ezdxf/math/construct2d.py\u001b[0m in \u001b[0;36mconvex_hull_2d\u001b[0;34m(points)\u001b[0m\n\u001b[1;32m    142\u001b[0m \u001b[0;34m\u001b[0m\u001b[0m\n\u001b[1;32m    143\u001b[0m     \u001b[0;32mif\u001b[0m \u001b[0mlen\u001b[0m\u001b[0;34m(\u001b[0m\u001b[0mpoints\u001b[0m\u001b[0;34m)\u001b[0m \u001b[0;34m<\u001b[0m \u001b[0;36m3\u001b[0m\u001b[0;34m:\u001b[0m\u001b[0;34m\u001b[0m\u001b[0;34m\u001b[0m\u001b[0m\n\u001b[0;32m--> 144\u001b[0;31m         \u001b[0;32mraise\u001b[0m \u001b[0mValueError\u001b[0m\u001b[0;34m(\u001b[0m\u001b[0;34m\"Convex hull calculation requires 3 or more unique points.\"\u001b[0m\u001b[0;34m)\u001b[0m\u001b[0;34m\u001b[0m\u001b[0;34m\u001b[0m\u001b[0m\n\u001b[0m\u001b[1;32m    145\u001b[0m \u001b[0;34m\u001b[0m\u001b[0m\n\u001b[1;32m    146\u001b[0m     \u001b[0mupper_hull\u001b[0m \u001b[0;34m=\u001b[0m \u001b[0mpoints\u001b[0m\u001b[0;34m[\u001b[0m\u001b[0;34m:\u001b[0m\u001b[0;36m2\u001b[0m\u001b[0;34m]\u001b[0m  \u001b[0;31m# first two points\u001b[0m\u001b[0;34m\u001b[0m\u001b[0;34m\u001b[0m\u001b[0m\n",
      "\u001b[0;31mValueError\u001b[0m: Convex hull calculation requires 3 or more unique points."
     ]
    }
   ],
   "source": []
  },
  {
   "cell_type": "code",
   "execution_count": null,
   "metadata": {},
   "outputs": [],
   "source": []
  },
  {
   "cell_type": "code",
   "execution_count": null,
   "metadata": {},
   "outputs": [],
   "source": []
  },
  {
   "cell_type": "code",
   "execution_count": null,
   "metadata": {},
   "outputs": [],
   "source": [
    "# line\n",
    "\n"
   ]
  },
  {
   "cell_type": "code",
   "execution_count": 9,
   "metadata": {},
   "outputs": [
    {
     "data": {
      "text/plain": [
       "<module 'ezdxf.entities.polyline' from '/usr/local/lib/python3.7/site-packages/ezdxf/entities/polyline.py'>"
      ]
     },
     "execution_count": 9,
     "metadata": {},
     "output_type": "execute_result"
    }
   ],
   "source": [
    "edf.entities.polyline"
   ]
  },
  {
   "cell_type": "code",
   "execution_count": null,
   "metadata": {},
   "outputs": [],
   "source": []
  }
 ],
 "metadata": {
  "kernelspec": {
   "display_name": "Python 3",
   "language": "python",
   "name": "python3"
  },
  "language_info": {
   "codemirror_mode": {
    "name": "ipython",
    "version": 3
   },
   "file_extension": ".py",
   "mimetype": "text/x-python",
   "name": "python",
   "nbconvert_exporter": "python",
   "pygments_lexer": "ipython3",
   "version": "3.7.7"
  }
 },
 "nbformat": 4,
 "nbformat_minor": 2
}
