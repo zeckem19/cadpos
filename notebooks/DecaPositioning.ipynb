{
 "cells": [
  {
   "cell_type": "code",
   "execution_count": 14,
   "metadata": {},
   "outputs": [],
   "source": [
    "def defineTagWorkingArea(orderOfTags, dxfWorkingArea):\n",
    "    anchorXY = dict()\n",
    "#     dxfWorkingArea = sorted(dxfWorkingArea, key=itemgetter(0,1))\n",
    "    \n",
    "    for i in range(len(orderOfTags)):\n",
    "        anchorXY.update({orderOfTags[i]: dxfWorkingArea[i]})\n",
    "    \n",
    "    return anchorXY"
   ]
  },
  {
   "cell_type": "code",
   "execution_count": 1,
   "metadata": {},
   "outputs": [],
   "source": [
    "def calculateLength(e):\n",
    "    xy = e.dxf.end - e.dxf.start\n",
    "    length = math.sqrt(xy[0]**2+xy[1]**2)\n",
    "\n",
    "    return length\n",
    "\n",
    "def print_entity(e):\n",
    "    print(\"start point: %s\\n\" % e.dxf.start)\n",
    "    print(\"end point: %s\\n\" % e.dxf.end)\n",
    "    print(\"length: %s\\n\" % calculateLength(e))\n",
    "\n",
    "def getPoints(e):\n",
    "    # originalLines.append((e.dxf.start, e.dxf.end))\n",
    "    originalLines.append(e)\n",
    "    originalPoints.append(e.dxf.start)\n",
    "    originalPoints.append(e.dxf.end)\n",
    "    originalPointsVector.append((e.dxf.start.x, e.dxf.start.y))\n",
    "    originalPointsVector.append((e.dxf.end.x, e.dxf.end.y))\n",
    "\n",
    "\n",
    "def getPointsInConvex(allPoints, convex):\n",
    "    innerPoints = list()\n",
    "    for e in allPoints:\n",
    "        if edf.math.is_point_in_polygon_2d(e, convex):\n",
    "            innerPoints.append(e)\n",
    "    return innerPoints\n",
    "\n",
    "def getWorkingAreaLines(workingArea, originalLines):\n",
    "    workingLines = list()\n",
    "    for point in workingArea:\n",
    "        for line in originalLines:\n",
    "            if edf.math.is_point_on_line_2d(point, (line.dxf.start.x, line.dxf.start.y), (line.dxf.end.x, line.dxf.end.y)):\n",
    "                workingLines.append(line)\n",
    "    return list(set(workingLines))\n",
    "    \n",
    "\n",
    "def constructPolygon(obstacleLines):\n",
    "    obstaclePoints = list()\n",
    "    for line in obstacleLines:\n",
    "        obstaclePoints.append(line.dxf.start)\n",
    "        obstaclePoints.append(line.dxf.end)\n",
    "    \n",
    "    polygon = edf.math.convex_hull_2d(obstaclePoints)\n",
    "    \n",
    "    print(polygon)\n",
    "    return polygon\n",
    "    \n",
    "def getObstaclePolygons(innerLines, originalPoints):\n",
    "    obstacles = list()\n",
    "    for i in range(0, len(innerLines), 1):\n",
    "        if i == len(innerLines)-1:\n",
    "                break\n",
    "        obstacle = list()\n",
    "        firstLine = innerLines[i]\n",
    "        if len(obstacles) > 0:\n",
    "            start = firstLine.dxf.start\n",
    "            end = firstLine.dxf.end\n",
    "            print(obstacles[-1])\n",
    "            convex = constructPolygon(obstacles[-1])\n",
    "            if firstLine in obstacles[-1]:\n",
    "                continue\n",
    "            elif edf.math.is_point_in_polygon_2d(start, convex) in [0,1] and edf.math.is_point_in_polygon_2d(end, convex) in [0,1]:\n",
    "                continue\n",
    "            \n",
    "            \n",
    "        obstacle.append(firstLine)\n",
    "        for j in range(1, len(innerLines), 1):\n",
    "            secondLine = innerLines[j]\n",
    "            intersection = edf.math.intersection_line_line_2d((firstLine.dxf.start, firstLine.dxf.end), \\\n",
    "                                                              (secondLine.dxf.start, secondLine.dxf.end))\n",
    "        \n",
    "            if intersection in originalPoints:\n",
    "                obstacle.append(secondLine)\n",
    "        \n",
    "        if len(obstacle) > 0:\n",
    "            obstacles.append(obstacle)\n",
    "            \n",
    "    return obstacles"
   ]
  },
  {
   "cell_type": "code",
   "execution_count": 9,
   "metadata": {},
   "outputs": [],
   "source": [
    "import ezdxf as edf\n",
    "import math\n",
    "from operator import itemgetter"
   ]
  },
  {
   "cell_type": "code",
   "execution_count": 16,
   "metadata": {},
   "outputs": [],
   "source": [
    "doc = edf.readfile('/Users/lawrence/Desktop/Drawing12 - office table test.dxf')\n",
    "msp = doc.modelspace()\n",
    "\n",
    "originalLines = list()\n",
    "originalPoints = list()\n",
    "originalVectorPoints = list()\n",
    "\n",
    "for e in msp.query('LINE'):\n",
    "    originalLines.append(e)\n",
    "    originalVectorPoints.append(e.dxf.start)\n",
    "    originalVectorPoints.append(e.dxf.end)\n",
    "    originalPoints.append((e.dxf.start.x, e.dxf.start.y))\n",
    "    originalPoints.append((e.dxf.end.x, e.dxf.end.y))\n",
    "    \n",
    "workingArea = edf.math.convex_hull_2d(originalVectorPoints)\n",
    "# innerPoints = getPointsInConvex(originalVectorPoints, workingArea)\n",
    "\n",
    "# workingLines = getWorkingAreaLines(workingArea, originalLines)\n",
    "# innerLines = [line for line in originalLines if line not in workingLines]\n",
    "# obstacles = getObstaclePolygons(innerLines, originalPoints)"
   ]
  },
  {
   "cell_type": "code",
   "execution_count": 18,
   "metadata": {},
   "outputs": [
    {
     "data": {
      "text/plain": [
       "{'C': Vec2(19.19984935277204, 14.54758706799748),\n",
       " 'B': Vec2(19.19984935277204, 15.44758706799748),\n",
       " 'A': Vec2(21.35185314849843, 18.10033676686962)}"
      ]
     },
     "execution_count": 18,
     "metadata": {},
     "output_type": "execute_result"
    }
   ],
   "source": [
    "defineTagWorkingArea(['C', 'B', 'A'], workingArea)"
   ]
  },
  {
   "cell_type": "code",
   "execution_count": 20,
   "metadata": {},
   "outputs": [],
   "source": [
    "def parseDeca(decaData, anchorXY):\n",
    "    baseX = tagXY['A'][0]\n",
    "    baseY = tagXY['A'][1]\n",
    "    \n",
    "    tagX = decaData['TAG'][0]\n",
    "    tagY = decaData['TAG'][1]\n",
    "    \n",
    "    tagDXFX = baseX + tagX\n",
    "    tagDXFY = baseY + tagY\n",
    "    \n",
    "    tagPosition = edf.Math.Vec2(tagDXFX, tagDXFY)\n",
    "    \n",
    "    return tagPosition"
   ]
  },
  {
   "cell_type": "code",
   "execution_count": null,
   "metadata": {},
   "outputs": [],
   "source": []
  }
 ],
 "metadata": {
  "kernelspec": {
   "display_name": "Python 3",
   "language": "python",
   "name": "python3"
  },
  "language_info": {
   "codemirror_mode": {
    "name": "ipython",
    "version": 3
   },
   "file_extension": ".py",
   "mimetype": "text/x-python",
   "name": "python",
   "nbconvert_exporter": "python",
   "pygments_lexer": "ipython3",
   "version": "3.7.3"
  }
 },
 "nbformat": 4,
 "nbformat_minor": 4
}
