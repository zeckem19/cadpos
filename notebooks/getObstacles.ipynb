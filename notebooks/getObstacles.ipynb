{
 "cells": [
  {
   "cell_type": "code",
   "execution_count": 1,
   "metadata": {},
   "outputs": [],
   "source": [
    "import ezdxf as edf\n",
    "import math"
   ]
  },
  {
   "cell_type": "code",
   "execution_count": 2,
   "metadata": {},
   "outputs": [],
   "source": [
    "def calculateLength(e):\n",
    "    xy = e.dxf.end - e.dxf.start\n",
    "    length = math.sqrt(xy[0]**2+xy[1]**2)\n",
    "\n",
    "    return length\n",
    "\n",
    "def print_entity(e):\n",
    "    print(\"start point: %s\\n\" % e.dxf.start)\n",
    "    print(\"end point: %s\\n\" % e.dxf.end)\n",
    "    print(\"length: %s\\n\" % calculateLength(e))\n",
    "\n",
    "def getPoints(e):\n",
    "    # originalLines.append((e.dxf.start, e.dxf.end))\n",
    "    originalLines.append(e)\n",
    "    originalPoints.append(e.dxf.start)\n",
    "    originalPoints.append(e.dxf.end)\n",
    "    originalPointsVector.append((e.dxf.start.x, e.dxf.start.y))\n",
    "    originalPointsVector.append((e.dxf.end.x, e.dxf.end.y))\n",
    "\n",
    "\n",
    "def getPointsInConvex(allPoints, convex):\n",
    "    innerPoints = list()\n",
    "    for e in allPoints:\n",
    "        if edf.math.is_point_in_polygon_2d(e, convex):\n",
    "            innerPoints.append(e)\n",
    "    return innerPoints\n",
    "\n",
    "def getWorkingAreaLines(workingArea, originalLines):\n",
    "    workingLines = list()\n",
    "    for point in workingArea:\n",
    "        for line in originalLines:\n",
    "            if edf.math.is_point_on_line_2d(point, (line.dxf.start.x, line.dxf.start.y), (line.dxf.end.x, line.dxf.end.y)):\n",
    "                workingLines.append(line)\n",
    "    return list(set(workingLines))\n",
    "    \n",
    "\n",
    "def constructPolygon(obstacleLines):\n",
    "    obstaclePoints = list()\n",
    "    for line in obstacleLines:\n",
    "        obstaclePoints.append(line.dxf.start)\n",
    "        obstaclePoints.append(line.dxf.end)\n",
    "    \n",
    "    polygon = edf.math.convex_hull_2d(obstaclePoints)\n",
    "    \n",
    "    print(polygon)\n",
    "    return polygon\n",
    "    \n",
    "def getObstaclePolygons(innerLines, originalPoints):\n",
    "    obstacles = list()\n",
    "    for i in range(0, len(innerLines), 1):\n",
    "        if i == len(innerLines)-1:\n",
    "                break\n",
    "        obstacle = list()\n",
    "        firstLine = innerLines[i]\n",
    "        if len(obstacles) > 0:\n",
    "            start = firstLine.dxf.start\n",
    "            end = firstLine.dxf.end\n",
    "            print(obstacles[-1])\n",
    "            convex = constructPolygon(obstacles[-1])\n",
    "            if firstLine in obstacles[-1]:\n",
    "                continue\n",
    "            elif edf.math.is_point_in_polygon_2d(start, convex) in [0,1] and edf.math.is_point_in_polygon_2d(end, convex) in [0,1]:\n",
    "                continue\n",
    "            \n",
    "            \n",
    "        obstacle.append(firstLine)\n",
    "        for j in range(1, len(innerLines), 1):\n",
    "            secondLine = innerLines[j]\n",
    "            intersection = edf.math.intersection_line_line_2d((firstLine.dxf.start, firstLine.dxf.end), \\\n",
    "                                                              (secondLine.dxf.start, secondLine.dxf.end))\n",
    "        \n",
    "            if intersection in originalPoints:\n",
    "                obstacle.append(secondLine)\n",
    "        \n",
    "        if len(obstacle) > 0:\n",
    "            obstacles.append(obstacle)\n",
    "            \n",
    "    return obstacles"
   ]
  },
  {
   "cell_type": "code",
   "execution_count": 5,
   "metadata": {},
   "outputs": [],
   "source": [
    "doc = edf.readfile('/home/pi/cadpos/resources/dxfs/Drawing13 - office table test.dxf')\n",
    "msp = doc.modelspace()"
   ]
  },
  {
   "cell_type": "code",
   "execution_count": 6,
   "metadata": {},
   "outputs": [],
   "source": [
    "def getEntitiesInLayer(msp):\n",
    "    entitiesDict = dict()\n",
    "    for e in msp.query():\n",
    "        layer = e.dxf.layer\n",
    "        if layer not in list(entitiesDict.keys()):\n",
    "            entitiesDict.update({layer: [e]})\n",
    "        else:\n",
    "            entitiesDict[layer].append(e)\n",
    "        \n",
    "    return entitiesDict"
   ]
  },
  {
   "cell_type": "code",
   "execution_count": 11,
   "metadata": {},
   "outputs": [],
   "source": [
    "layerDict = getEntitiesInLayer(msp)"
   ]
  },
  {
   "cell_type": "code",
   "execution_count": null,
   "metadata": {},
   "outputs": [],
   "source": []
  },
  {
   "cell_type": "code",
   "execution_count": 4,
   "metadata": {},
   "outputs": [
    {
     "name": "stdout",
     "output_type": "stream",
     "text": [
      "[<class 'ezdxf.entities.line.Line'> LINE(#366)]\n"
     ]
    },
    {
     "ename": "ValueError",
     "evalue": "Convex hull calculation requires 3 or more unique points.",
     "output_type": "error",
     "traceback": [
      "\u001b[0;31m--------------------------------------------------------------------------\u001b[0m",
      "\u001b[0;31mValueError\u001b[0m                               Traceback (most recent call last)",
      "\u001b[0;32m<ipython-input-4-a734c4cd8bb2>\u001b[0m in \u001b[0;36m<module>\u001b[0;34m\u001b[0m\n\u001b[1;32m     18\u001b[0m \u001b[0mworkingLines\u001b[0m \u001b[0;34m=\u001b[0m \u001b[0mgetWorkingAreaLines\u001b[0m\u001b[0;34m(\u001b[0m\u001b[0mworkingArea\u001b[0m\u001b[0;34m,\u001b[0m \u001b[0moriginalLines\u001b[0m\u001b[0;34m)\u001b[0m\u001b[0;34m\u001b[0m\u001b[0;34m\u001b[0m\u001b[0m\n\u001b[1;32m     19\u001b[0m \u001b[0minnerLines\u001b[0m \u001b[0;34m=\u001b[0m \u001b[0;34m[\u001b[0m\u001b[0mline\u001b[0m \u001b[0;32mfor\u001b[0m \u001b[0mline\u001b[0m \u001b[0;32min\u001b[0m \u001b[0moriginalLines\u001b[0m \u001b[0;32mif\u001b[0m \u001b[0mline\u001b[0m \u001b[0;32mnot\u001b[0m \u001b[0;32min\u001b[0m \u001b[0mworkingLines\u001b[0m\u001b[0;34m]\u001b[0m\u001b[0;34m\u001b[0m\u001b[0;34m\u001b[0m\u001b[0m\n\u001b[0;32m---> 20\u001b[0;31m \u001b[0mobstacles\u001b[0m \u001b[0;34m=\u001b[0m \u001b[0mgetObstaclePolygons\u001b[0m\u001b[0;34m(\u001b[0m\u001b[0minnerLines\u001b[0m\u001b[0;34m,\u001b[0m \u001b[0moriginalPoints\u001b[0m\u001b[0;34m)\u001b[0m\u001b[0;34m\u001b[0m\u001b[0;34m\u001b[0m\u001b[0m\n\u001b[0m",
      "\u001b[0;32m<ipython-input-3-116145cb01a8>\u001b[0m in \u001b[0;36mgetObstaclePolygons\u001b[0;34m(innerLines, originalPoints)\u001b[0m\n\u001b[1;32m     57\u001b[0m             \u001b[0mend\u001b[0m \u001b[0;34m=\u001b[0m \u001b[0mfirstLine\u001b[0m\u001b[0;34m.\u001b[0m\u001b[0mdxf\u001b[0m\u001b[0;34m.\u001b[0m\u001b[0mend\u001b[0m\u001b[0;34m\u001b[0m\u001b[0;34m\u001b[0m\u001b[0m\n\u001b[1;32m     58\u001b[0m             \u001b[0mprint\u001b[0m\u001b[0;34m(\u001b[0m\u001b[0mobstacles\u001b[0m\u001b[0;34m[\u001b[0m\u001b[0;34m-\u001b[0m\u001b[0;36m1\u001b[0m\u001b[0;34m]\u001b[0m\u001b[0;34m)\u001b[0m\u001b[0;34m\u001b[0m\u001b[0;34m\u001b[0m\u001b[0m\n\u001b[0;32m---> 59\u001b[0;31m             \u001b[0mconvex\u001b[0m \u001b[0;34m=\u001b[0m \u001b[0mconstructPolygon\u001b[0m\u001b[0;34m(\u001b[0m\u001b[0mobstacles\u001b[0m\u001b[0;34m[\u001b[0m\u001b[0;34m-\u001b[0m\u001b[0;36m1\u001b[0m\u001b[0;34m]\u001b[0m\u001b[0;34m)\u001b[0m\u001b[0;34m\u001b[0m\u001b[0;34m\u001b[0m\u001b[0m\n\u001b[0m\u001b[1;32m     60\u001b[0m             \u001b[0;32mif\u001b[0m \u001b[0mfirstLine\u001b[0m \u001b[0;32min\u001b[0m \u001b[0mobstacles\u001b[0m\u001b[0;34m[\u001b[0m\u001b[0;34m-\u001b[0m\u001b[0;36m1\u001b[0m\u001b[0;34m]\u001b[0m\u001b[0;34m:\u001b[0m\u001b[0;34m\u001b[0m\u001b[0;34m\u001b[0m\u001b[0m\n\u001b[1;32m     61\u001b[0m                 \u001b[0;32mcontinue\u001b[0m\u001b[0;34m\u001b[0m\u001b[0;34m\u001b[0m\u001b[0m\n",
      "\u001b[0;32m<ipython-input-3-116145cb01a8>\u001b[0m in \u001b[0;36mconstructPolygon\u001b[0;34m(obstacleLines)\u001b[0m\n\u001b[1;32m     41\u001b[0m         \u001b[0mobstaclePoints\u001b[0m\u001b[0;34m.\u001b[0m\u001b[0mappend\u001b[0m\u001b[0;34m(\u001b[0m\u001b[0mline\u001b[0m\u001b[0;34m.\u001b[0m\u001b[0mdxf\u001b[0m\u001b[0;34m.\u001b[0m\u001b[0mend\u001b[0m\u001b[0;34m)\u001b[0m\u001b[0;34m\u001b[0m\u001b[0;34m\u001b[0m\u001b[0m\n\u001b[1;32m     42\u001b[0m \u001b[0;34m\u001b[0m\u001b[0m\n\u001b[0;32m---> 43\u001b[0;31m     \u001b[0mpolygon\u001b[0m \u001b[0;34m=\u001b[0m \u001b[0medf\u001b[0m\u001b[0;34m.\u001b[0m\u001b[0mmath\u001b[0m\u001b[0;34m.\u001b[0m\u001b[0mconvex_hull_2d\u001b[0m\u001b[0;34m(\u001b[0m\u001b[0mobstaclePoints\u001b[0m\u001b[0;34m)\u001b[0m\u001b[0;34m\u001b[0m\u001b[0;34m\u001b[0m\u001b[0m\n\u001b[0m\u001b[1;32m     44\u001b[0m \u001b[0;34m\u001b[0m\u001b[0m\n\u001b[1;32m     45\u001b[0m     \u001b[0mprint\u001b[0m\u001b[0;34m(\u001b[0m\u001b[0mpolygon\u001b[0m\u001b[0;34m)\u001b[0m\u001b[0;34m\u001b[0m\u001b[0;34m\u001b[0m\u001b[0m\n",
      "\u001b[0;32m~/Desktop/ezdxf/.venv/lib/python3.8/site-packages/ezdxf/math/construct2d.py\u001b[0m in \u001b[0;36mconvex_hull_2d\u001b[0;34m(points)\u001b[0m\n\u001b[1;32m    149\u001b[0m \u001b[0;34m\u001b[0m\u001b[0m\n\u001b[1;32m    150\u001b[0m     \u001b[0;32mif\u001b[0m \u001b[0mlen\u001b[0m\u001b[0;34m(\u001b[0m\u001b[0mpoints\u001b[0m\u001b[0;34m)\u001b[0m \u001b[0;34m<\u001b[0m \u001b[0;36m3\u001b[0m\u001b[0;34m:\u001b[0m\u001b[0;34m\u001b[0m\u001b[0;34m\u001b[0m\u001b[0m\n\u001b[0;32m--> 151\u001b[0;31m         raise ValueError(\n\u001b[0m\u001b[1;32m    152\u001b[0m             \"Convex hull calculation requires 3 or more unique points.\")\n\u001b[1;32m    153\u001b[0m \u001b[0;34m\u001b[0m\u001b[0m\n",
      "\u001b[0;31mValueError\u001b[0m: Convex hull calculation requires 3 or more unique points."
     ]
    }
   ],
   "source": [
    "originalLines = list()\n",
    "originalPoints = list()\n",
    "originalVectorPoints = list()\n",
    "\n",
    "for e in msp.query('LINE'):\n",
    "    originalLines.append(e)\n",
    "    originalVectorPoints.append(e.dxf.start)\n",
    "    originalVectorPoints.append(e.dxf.end)\n",
    "    originalPoints.append((e.dxf.start.x, e.dxf.start.y))\n",
    "    originalPoints.append((e.dxf.end.x, e.dxf.end.y))\n",
    "    \n",
    "workingArea = edf.math.convex_hull_2d(originalVectorPoints)\n",
    "innerPoints = getPointsInConvex(originalVectorPoints, workingArea)\n",
    "\n",
    "workingLines = getWorkingAreaLines(workingArea, originalLines)\n",
    "innerLines = [line for line in originalLines if line not in workingLines]\n",
    "obstacles = getObstaclePolygons(innerLines, originalPoints)"
   ]
  },
  {
   "cell_type": "code",
   "execution_count": null,
   "metadata": {},
   "outputs": [],
   "source": [
    "def getLinesPoints(layer):\n",
    "    originalLines = list()\n",
    "    originalPoints = list()\n",
    "    originalVectorPoints = list()\n",
    "    \n",
    "    for e in layer:\n",
    "        type = e.dxftype()\n",
    "        if type == ''"
   ]
  },
  {
   "cell_type": "code",
   "execution_count": 240,
   "metadata": {},
   "outputs": [
    {
     "data": {
      "text/plain": [
       "[<class 'ezdxf.entities.lwpolyline.LWPolyline'> LWPOLYLINE(#461),\n",
       " <class 'ezdxf.entities.lwpolyline.LWPolyline'> LWPOLYLINE(#462),\n",
       " <class 'ezdxf.entities.hatch.Hatch'> HATCH(#46F),\n",
       " <class 'ezdxf.entities.hatch.Hatch'> HATCH(#47D),\n",
       " <class 'ezdxf.entities.hatch.Hatch'> HATCH(#48F),\n",
       " <class 'ezdxf.entities.hatch.Hatch'> HATCH(#499),\n",
       " <class 'ezdxf.entities.hatch.Hatch'> HATCH(#4AC),\n",
       " <class 'ezdxf.entities.hatch.Hatch'> HATCH(#4BC),\n",
       " <class 'ezdxf.entities.hatch.Hatch'> HATCH(#4C6),\n",
       " <class 'ezdxf.entities.hatch.Hatch'> HATCH(#4D0),\n",
       " <class 'ezdxf.entities.arc.Arc'> ARC(#579),\n",
       " <class 'ezdxf.entities.arc.Arc'> ARC(#57B),\n",
       " <class 'ezdxf.entities.arc.Arc'> ARC(#59D),\n",
       " <class 'ezdxf.entities.arc.Arc'> ARC(#59E),\n",
       " <class 'ezdxf.entities.arc.Arc'> ARC(#59F),\n",
       " <class 'ezdxf.entities.spline.Spline'> SPLINE(#5AE)]"
      ]
     },
     "execution_count": 240,
     "metadata": {},
     "output_type": "execute_result"
    }
   ],
   "source": [
    "layerDict['drawing']"
   ]
  },
  {
   "cell_type": "code",
   "execution_count": 250,
   "metadata": {},
   "outputs": [
    {
     "data": {
      "text/plain": [
       "[(11.22084979033385, 16.13652026111853, 0.0),\n",
       " (12.49572657985976, 15.44035752534177, 0.0),\n",
       " (14.76217401082599, 15.77073982510796, 0.0),\n",
       " (12.92068536355856, 15.77073982510796, 0.0),\n",
       " (11.22084979033385, 16.13652026111853, 0.0)]"
      ]
     },
     "execution_count": 250,
     "metadata": {},
     "output_type": "execute_result"
    }
   ],
   "source": [
    "sp = layerDict['drawing'][-1]\n",
    "sp.fit_points[0:]"
   ]
  },
  {
   "cell_type": "code",
   "execution_count": 206,
   "metadata": {},
   "outputs": [
    {
     "data": {
      "text/plain": [
       "[(17.77392841720342, 13.79340337257891, 0.0),\n",
       " (20.13427298937921, 9.074732233770135, 0.0),\n",
       " (16.75323892661063, 9.074732233770135, 0.0),\n",
       " (14.67996333625405, 14.14411545494835, 0.0),\n",
       " (17.77392841720342, 13.79340337257891, 0.0)]"
      ]
     },
     "execution_count": 206,
     "metadata": {},
     "output_type": "execute_result"
    }
   ],
   "source": [
    "sp.fit_points[0:]"
   ]
  },
  {
   "cell_type": "code",
   "execution_count": 205,
   "metadata": {},
   "outputs": [
    {
     "data": {
      "text/plain": [
       "<module 'ezdxf.lldxf.const' from '/Users/lawrence/Desktop/ezdxf/.venv/lib/python3.8/site-packages/ezdxf/lldxf/const.py'>"
      ]
     },
     "execution_count": 205,
     "metadata": {},
     "output_type": "execute_result"
    }
   ],
   "source": [
    "edf.lldxf.const"
   ]
  },
  {
   "cell_type": "code",
   "execution_count": 277,
   "metadata": {},
   "outputs": [],
   "source": [
    "def getSPFitLines(spline):\n",
    "    fitLines = list()\n",
    "    spPoints = spline.fit_points\n",
    "    for i in range(len(spPoints)):\n",
    "        startPoint = spPoints[i]\n",
    "        if i == len(spPoints)-1:\n",
    "            endPoint = spPoints[0]\n",
    "        else:\n",
    "            endPoint = spPoints[i+1]\n",
    "        fitLines.append((edf.math.Vec2(startPoint[0], startPoint[1]), edf.math.Vec2(endPoint[0], endPoint[1])))\n",
    "    return fitLines"
   ]
  },
  {
   "cell_type": "code",
   "execution_count": 278,
   "metadata": {},
   "outputs": [],
   "source": [
    "spFitLines = getSPFitLines(sp)"
   ]
  },
  {
   "cell_type": "code",
   "execution_count": 264,
   "metadata": {},
   "outputs": [
    {
     "name": "stdout",
     "output_type": "stream",
     "text": [
      "(11.22084979033385, 16.13652026111853, 0.0)\n",
      "(12.49572657985976, 15.44035752534177, 0.0)\n",
      "(14.76217401082599, 15.77073982510796, 0.0)\n",
      "(12.92068536355856, 15.77073982510796, 0.0)\n",
      "(11.22084979033385, 16.13652026111853, 0.0)\n"
     ]
    }
   ],
   "source": [
    "for point in sp.fit_points:\n",
    "    print(point)"
   ]
  },
  {
   "cell_type": "code",
   "execution_count": null,
   "metadata": {},
   "outputs": [],
   "source": [
    "def isInSPLine(fitLines, testingPoint, spline):\n",
    "    isIntersection = list()\n",
    "    for point in spline.fit_points:\n",
    "        cuttingLine = (testingPoint, edf.math.Vec2(point[0], point[1]))\n",
    "        intersection = 0\n",
    "        for lines in fitLines:\n",
    "            intersectionPoint = edf.math.intersection_line_line_2d(cuttingLine, (lines[0], lines[1]))\n",
    "            if intersectionPoint:\n",
    "                intersection += 1\n",
    "        if intersection % 2 == 1:\n",
    "            isIntersection.append(True)\n",
    "        \n",
    "        if len([i for i in isIntersection if i == True]) == 3:\n",
    "            return True\n",
    "    \n",
    "    return False"
   ]
  },
  {
   "cell_type": "code",
   "execution_count": 229,
   "metadata": {},
   "outputs": [
    {
     "data": {
      "text/plain": [
       "0"
      ]
     },
     "execution_count": 229,
     "metadata": {},
     "output_type": "execute_result"
    }
   ],
   "source": [
    "ezdxf.math.is_point_in_polygon_2d(edf.math.Vec2(sp.fit_points[0][0], sp.fit_points[0][1]), testPolygon)"
   ]
  },
  {
   "cell_type": "code",
   "execution_count": 280,
   "metadata": {},
   "outputs": [
    {
     "data": {
      "text/plain": [
       "Vec2(12.49572657985976, 15.440357525341776)"
      ]
     },
     "execution_count": 280,
     "metadata": {},
     "output_type": "execute_result"
    }
   ],
   "source": [
    "edf.math.intersection_line_line_2d((spFitLines[0][0], spFitLines[0][1]), \\\n",
    "                                                              (spFitLines[1][0], spFitLines[1][1]))"
   ]
  },
  {
   "cell_type": "code",
   "execution_count": 258,
   "metadata": {},
   "outputs": [
    {
     "data": {
      "text/plain": [
       "ezdxf.math.vector.Vector"
      ]
     },
     "execution_count": 258,
     "metadata": {},
     "output_type": "execute_result"
    }
   ],
   "source": [
    "edf.math.Vector"
   ]
  },
  {
   "cell_type": "code",
   "execution_count": 261,
   "metadata": {},
   "outputs": [
    {
     "data": {
      "text/plain": [
       "Vector(27.51999852234022, 17.50996849717288, 0.0)"
      ]
     },
     "execution_count": 261,
     "metadata": {},
     "output_type": "execute_result"
    }
   ],
   "source": [
    "originalLines[0].dxf.end"
   ]
  },
  {
   "cell_type": "code",
   "execution_count": null,
   "metadata": {},
   "outputs": [],
   "source": [
    "def isInObstacles(obstaclePolygon, point):\n",
    "    return edf.math.is_point_in_polygon_2d(point, obstaclePolygon)"
   ]
  },
  {
   "cell_type": "code",
   "execution_count": 5,
   "metadata": {},
   "outputs": [],
   "source": [
    "import numpy as np"
   ]
  },
  {
   "cell_type": "code",
   "execution_count": 54,
   "metadata": {},
   "outputs": [],
   "source": [
    "def discretizeWorkingArea(workingArea):\n",
    "    allX = [i[0] for i in workingArea]\n",
    "    allY = [i[1] for i in workingArea]\n",
    "    \n",
    "    leftX = min(allX)\n",
    "    rightX = max(allX)\n",
    "    bottomY = min(allY)\n",
    "    topY = max(allY)\n",
    "    \n",
    "    xyPairs = np.mgrid[leftX:rightX+0.01:, bottomY:topY+0.01:0.01].reshape(2,-1).T\n",
    "    discretePoints = [edf.math.Vec2(i[0], i[1]) for i in xyPairs]\n",
    "\n",
    "    return discretePoints            "
   ]
  },
  {
   "cell_type": "code",
   "execution_count": 56,
   "metadata": {},
   "outputs": [],
   "source": [
    "dps = discretizeWorkingArea(workingArea)"
   ]
  },
  {
   "cell_type": "code",
   "execution_count": 290,
   "metadata": {},
   "outputs": [
    {
     "data": {
      "text/plain": [
       "[Vec2(12.4858778935436, 9.960175177181172),\n",
       " Vec2(12.4858778935436, 17.50996849717288),\n",
       " Vec2(27.51999852234022, 17.50996849717288),\n",
       " Vec2(27.51999852234022, 9.96017517718117)]"
      ]
     },
     "execution_count": 290,
     "metadata": {},
     "output_type": "execute_result"
    }
   ],
   "source": [
    "workingArea"
   ]
  },
  {
   "cell_type": "code",
   "execution_count": null,
   "metadata": {},
   "outputs": [],
   "source": []
  }
 ],
 "metadata": {
  "kernelspec": {
   "display_name": "Python 3",
   "language": "python",
   "name": "python3"
  },
  "language_info": {
   "codemirror_mode": {
    "name": "ipython",
    "version": 3
   },
   "file_extension": ".py",
   "mimetype": "text/x-python",
   "name": "python",
   "nbconvert_exporter": "python",
   "pygments_lexer": "ipython3",
   "version": "3.7.3"
  }
 },
 "nbformat": 4,
 "nbformat_minor": 4
}
