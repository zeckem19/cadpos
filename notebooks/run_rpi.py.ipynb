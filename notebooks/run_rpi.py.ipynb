{
 "cells": [
  {
   "cell_type": "code",
   "execution_count": 4,
   "metadata": {},
   "outputs": [],
   "source": [
    "# import serial\n",
    "import time\n",
    "import ezdxf as edf\n",
    "import math\n",
    "import pickle\n",
    "import time\n",
    "\n",
    "from datetime import datetime\n",
    "\n",
    "from helpers.lines import *\n",
    "from helpers.curves import *\n",
    "from helpers.layers import *\n"
   ]
  },
  {
   "cell_type": "code",
   "execution_count": 2,
   "metadata": {},
   "outputs": [
    {
     "name": "stdout",
     "output_type": "stream",
     "text": [
      "100000\n",
      "200000\n",
      "300000\n",
      "400000\n",
      "500000\n",
      "600000\n",
      "700000\n",
      "800000\n",
      "900000\n",
      "1000000\n",
      "1100000\n",
      "1200000\n"
     ]
    }
   ],
   "source": [
    "\n",
    "doc = edf.readfile('/home/pi/cadpos/resources/dxfs/Drawing12 - office table test.dxf')\n",
    "msp = doc.modelspace()\n",
    "entities = getEntitiesInLayer(msp)\n",
    "obstacles = entities['0']\n",
    "WA = getWorkingArea(list(msp.query('LINE')))\n",
    "\n",
    "methods = {\n",
    "    'LWPOLYLINE' : is_point_in_polyline,\n",
    "    'CIRCLE' : is_point_in_circ,\n",
    "    'ELLIPSE' : is_point_in_ellipse,\n",
    "    'SPLINE' : isInSPLine\n",
    "}\n",
    "\n",
    "discretisedWA = discretizeWorkingArea(WA)\n",
    "obstaclePoints = []\n",
    "counter =0\n",
    "# for point in discretisedWA:\n",
    "#     for entity in obstacles:\n",
    "#         if entity.dxftype() in methods.keys():\n",
    "#             labelPoint = methods[entity.dxftype()](point, entity)\n",
    "#             if labelPoint >= 0:\n",
    "#                 obstaclePoints.append((round(point[0],2),round(point[1],2)))\n",
    "#             counter += 1\n",
    "#             if counter %100000==0:\n",
    "#                 print(counter)\n",
    "\n",
    "\n"
   ]
  },
  {
   "cell_type": "code",
   "execution_count": 5,
   "metadata": {},
   "outputs": [],
   "source": [
    "# obstaclePoints = list(set(obstaclePoints))\n",
    "with open('./resources/obsPoints','rb') as obsPoints_file:\n",
    "    obstaclePoints = pickle.load(obsPoints_file)"
   ]
  },
  {
   "cell_type": "code",
   "execution_count": 11,
   "metadata": {},
   "outputs": [
    {
     "data": {
      "text/plain": [
       "(25.99, 13.02)"
      ]
     },
     "execution_count": 11,
     "metadata": {},
     "output_type": "execute_result"
    }
   ],
   "source": [
    "sorted(obstaclePoints)[300000]"
   ]
  },
  {
   "cell_type": "code",
   "execution_count": 21,
   "metadata": {},
   "outputs": [],
   "source": [
    "def defineTagWorkingArea(orderOfTags, dxfWorkingArea):\n",
    "    anchorXY = dict()\n",
    "#     dxfWorkingArea = sorted(dxfWorkingArea, key=itemgetter(0,1))\n",
    "    \n",
    "    for i in range(len(orderOfTags)):\n",
    "        anchorXY.update({orderOfTags[i]: dxfWorkingArea[i]})\n",
    "    \n",
    "    return anchorXY\n",
    "\n",
    "def parseDeca(decaData, anchorXY):\n",
    "    baseX = anchorXY['A'][0]\n",
    "    baseY = anchorXY['A'][1]\n",
    "    \n",
    "    tagX = decaData['TAG'][0]\n",
    "    tagY = decaData['TAG'][1]\n",
    "    \n",
    "    tagDXFX = baseX + tagX\n",
    "    tagDXFY = baseY + tagY\n",
    "    \n",
    "    tagPosition = edf.math.Vec2(round(tagDXFX,2), round(tagDXFY,2))\n",
    "    \n",
    "    return tagPosition"
   ]
  },
  {
   "cell_type": "code",
   "execution_count": 22,
   "metadata": {},
   "outputs": [
    {
     "name": "stdout",
     "output_type": "stream",
     "text": [
      "Encode\n",
      "0,2.51,AN1,DC11,0.00,0.00,0.00,3.65,AN2,CCAC,1.20,0.00,0.00,3.64,POS,0.60,3.18,1.58,96\n",
      "\n",
      "1603009221.8564446: loc deca:[0.6, 3.18, 1.58] ;  log dxf = (23.45, 21.28)\n",
      "\n",
      "DIST,3,AN0,D206,1.20,1.35,0.00,2.46,AN1,DC11,0.00,0.00,0.00,3.65,AN2,CCAC,1.20,0.00,0.00,3.62,POS,0.62,3.21,1.55,97\n",
      "\n",
      "1603009222.8613658: loc deca:[0.62, 3.21, 1.55] ;  log dxf = (23.47, 21.31)\n",
      "\n",
      "DIST,3,AN0,D206,1.20,1.35,0.00,2.44,AN1,DC11,0.00,0\n",
      "\n",
      "1603009223.8641028: loc deca:[0.62, 3.21, 1.55] ;  log dxf = (23.47, 21.31)\n",
      "\n",
      "dwm> DIST,3,AN0,D206,1.20,1.35,0.00,2.59,AN1,DC11,0.00,0.00,0.00,3.37,AN2,CCAC,1.20,0.00,0.00,3.54,POS,0.08,2.98,1.63,94\n",
      "\n",
      "1603009225.8745883: loc deca:[0.08, 2.98, 1.63] ;  log dxf = (22.93, 21.08)\n",
      "\n",
      "DIST,3,AN0,D206,1.20,1.35,0.00,2.60,AN1,DC11,0.00,0.00,0.00,3.30,AN2,CCAC,1.20,0.00,0.00,3.50,POS,0.06,2.92,1.69,94\n",
      "\n",
      "1603009226.8790207: loc deca:[0.06, 2.92, 1.69] ;  log dxf = (22.91, 21.02)\n",
      "\n",
      "DIST,3,AN0,D206,1.20,1.35,0.00,2.60,AN1,DC11,0.00,0.00,0.00,3.29,AN2,CCAC,1.20,0.00,0.00,3.51,POS,0.05,2.87,1.72,94\n",
      "\n",
      "1603009227.883317: loc deca:[0.05, 2.87, 1.72] ;  log dxf = (22.9, 20.97)\n",
      "\n",
      "DIST,3,AN0,D206,1.20,1.35,0.00,2.54,AN1,DC11,0.00,0.00,0.00,3.29,AN2,CCAC,1.20,0.00,0.00,3.54,POS,0.01,2.89,1.67,95\n",
      "\n",
      "1603009228.8876538: loc deca:[0.01, 2.89, 1.67] ;  log dxf = (22.86, 20.99)\n",
      "\n",
      "DIST,3,AN0,D206,1.20,1.35,0.00,2.62,AN1,DC11,0.00,0.00,0.00,3.26,AN2,CCAC,1.20,0.00,0.00,3.53,POS,-0.03,2.86,1.69,94\n",
      "\n",
      "1603009229.8920095: loc deca:[-0.03, 2.86, 1.69] ;  log dxf = (22.82, 20.96)\n",
      "\n"
     ]
    },
    {
     "ename": "KeyboardInterrupt",
     "evalue": "",
     "output_type": "error",
     "traceback": [
      "\u001b[0;31m---------------------------------------------------------------------------\u001b[0m",
      "\u001b[0;31mKeyboardInterrupt\u001b[0m                         Traceback (most recent call last)",
      "\u001b[0;32m<ipython-input-22-0eb2babb9aba>\u001b[0m in \u001b[0;36m<module>\u001b[0;34m\u001b[0m\n\u001b[1;32m     11\u001b[0m     \u001b[0;32mwhile\u001b[0m \u001b[0;32mTrue\u001b[0m\u001b[0;34m:\u001b[0m\u001b[0;34m\u001b[0m\u001b[0;34m\u001b[0m\u001b[0m\n\u001b[1;32m     12\u001b[0m         \u001b[0mtime\u001b[0m\u001b[0;34m.\u001b[0m\u001b[0msleep\u001b[0m\u001b[0;34m(\u001b[0m\u001b[0;36m1\u001b[0m\u001b[0;34m)\u001b[0m\u001b[0;34m\u001b[0m\u001b[0;34m\u001b[0m\u001b[0m\n\u001b[0;32m---> 13\u001b[0;31m         \u001b[0mdata\u001b[0m \u001b[0;34m=\u001b[0m \u001b[0mDWM\u001b[0m\u001b[0;34m.\u001b[0m\u001b[0mreadline\u001b[0m\u001b[0;34m(\u001b[0m\u001b[0;34m)\u001b[0m\u001b[0;34m.\u001b[0m\u001b[0mdecode\u001b[0m\u001b[0;34m(\u001b[0m\u001b[0;34m\"utf-8\"\u001b[0m\u001b[0;34m)\u001b[0m\u001b[0;34m\u001b[0m\u001b[0;34m\u001b[0m\u001b[0m\n\u001b[0m\u001b[1;32m     14\u001b[0m         \u001b[0mfields\u001b[0m \u001b[0;34m=\u001b[0m \u001b[0mdata\u001b[0m\u001b[0;34m.\u001b[0m\u001b[0mstrip\u001b[0m\u001b[0;34m(\u001b[0m\u001b[0;34m)\u001b[0m\u001b[0;34m.\u001b[0m\u001b[0msplit\u001b[0m\u001b[0;34m(\u001b[0m\u001b[0;34m','\u001b[0m\u001b[0;34m)\u001b[0m\u001b[0;34m\u001b[0m\u001b[0;34m\u001b[0m\u001b[0m\n\u001b[1;32m     15\u001b[0m         \u001b[0;32mif\u001b[0m \u001b[0mlen\u001b[0m\u001b[0;34m(\u001b[0m\u001b[0mfields\u001b[0m\u001b[0;34m)\u001b[0m \u001b[0;34m<\u001b[0m \u001b[0;36m6\u001b[0m\u001b[0;34m:\u001b[0m\u001b[0;34m\u001b[0m\u001b[0;34m\u001b[0m\u001b[0m\n",
      "\u001b[0;32m/usr/lib/python3/dist-packages/serial/serialposix.py\u001b[0m in \u001b[0;36mread\u001b[0;34m(self, size)\u001b[0m\n\u001b[1;32m    481\u001b[0m         \u001b[0;32mwhile\u001b[0m \u001b[0mlen\u001b[0m\u001b[0;34m(\u001b[0m\u001b[0mread\u001b[0m\u001b[0;34m)\u001b[0m \u001b[0;34m<\u001b[0m \u001b[0msize\u001b[0m\u001b[0;34m:\u001b[0m\u001b[0;34m\u001b[0m\u001b[0;34m\u001b[0m\u001b[0m\n\u001b[1;32m    482\u001b[0m             \u001b[0;32mtry\u001b[0m\u001b[0;34m:\u001b[0m\u001b[0;34m\u001b[0m\u001b[0;34m\u001b[0m\u001b[0m\n\u001b[0;32m--> 483\u001b[0;31m                 \u001b[0mready\u001b[0m\u001b[0;34m,\u001b[0m \u001b[0m_\u001b[0m\u001b[0;34m,\u001b[0m \u001b[0m_\u001b[0m \u001b[0;34m=\u001b[0m \u001b[0mselect\u001b[0m\u001b[0;34m.\u001b[0m\u001b[0mselect\u001b[0m\u001b[0;34m(\u001b[0m\u001b[0;34m[\u001b[0m\u001b[0mself\u001b[0m\u001b[0;34m.\u001b[0m\u001b[0mfd\u001b[0m\u001b[0;34m,\u001b[0m \u001b[0mself\u001b[0m\u001b[0;34m.\u001b[0m\u001b[0mpipe_abort_read_r\u001b[0m\u001b[0;34m]\u001b[0m\u001b[0;34m,\u001b[0m \u001b[0;34m[\u001b[0m\u001b[0;34m]\u001b[0m\u001b[0;34m,\u001b[0m \u001b[0;34m[\u001b[0m\u001b[0;34m]\u001b[0m\u001b[0;34m,\u001b[0m \u001b[0mtimeout\u001b[0m\u001b[0;34m.\u001b[0m\u001b[0mtime_left\u001b[0m\u001b[0;34m(\u001b[0m\u001b[0;34m)\u001b[0m\u001b[0;34m)\u001b[0m\u001b[0;34m\u001b[0m\u001b[0;34m\u001b[0m\u001b[0m\n\u001b[0m\u001b[1;32m    484\u001b[0m                 \u001b[0;32mif\u001b[0m \u001b[0mself\u001b[0m\u001b[0;34m.\u001b[0m\u001b[0mpipe_abort_read_r\u001b[0m \u001b[0;32min\u001b[0m \u001b[0mready\u001b[0m\u001b[0;34m:\u001b[0m\u001b[0;34m\u001b[0m\u001b[0;34m\u001b[0m\u001b[0m\n\u001b[1;32m    485\u001b[0m                     \u001b[0mos\u001b[0m\u001b[0;34m.\u001b[0m\u001b[0mread\u001b[0m\u001b[0;34m(\u001b[0m\u001b[0mself\u001b[0m\u001b[0;34m.\u001b[0m\u001b[0mpipe_abort_read_r\u001b[0m\u001b[0;34m,\u001b[0m \u001b[0;36m1000\u001b[0m\u001b[0;34m)\u001b[0m\u001b[0;34m\u001b[0m\u001b[0;34m\u001b[0m\u001b[0m\n",
      "\u001b[0;31mKeyboardInterrupt\u001b[0m: "
     ]
    }
   ],
   "source": [
    "DWM = serial.Serial(port=\"/dev/ttyACM0\", baudrate=115200)\n",
    "DWM.write(\"\\r\\r\".encode())\n",
    "print(\"Encode\")\n",
    "time.sleep(1)\n",
    "DWM.write(\"lec\\r\".encode())\n",
    "\n",
    "loc = {}\n",
    "\n",
    "anchorXY = defineTagWorkingArea(['C','B','A'], WA)\n",
    "with open('pos_log', 'w') as logfile:\n",
    "    while True:\n",
    "        time.sleep(1)\n",
    "        data = DWM.readline().decode(\"utf-8\") \n",
    "        fields = data.strip().split(',')\n",
    "        if len(fields) < 6:\n",
    "            continue\n",
    "        print(data)\n",
    "        for idx, field in enumerate(fields):\n",
    "            if field == 'AN1':\n",
    "                loc['A'] = [float(i) for i in fields[idx+2:idx+6]]\n",
    "            elif field == 'AN2':\n",
    "                loc['B'] =  [float(i) for i in  fields[idx+2:idx+6]]\n",
    "            elif field == 'AN0':\n",
    "                loc['C'] =  [float(i) for i in  fields[idx+2:idx+6]]\n",
    "            elif field == 'POS':\n",
    "                loc['TAG'] =  [float(i) for i in fields[idx+1:idx+4]]\n",
    "        \n",
    "        my_loc_in_dxf = parseDeca(loc, anchorXY)\n",
    "        msg = f'{datetime.now()}: loc deca:{loc[\"TAG\"]};  log dxf = {my_loc_in_dxf}\\n'\n",
    "#         logfile.write(msg)\n",
    "        print(msg)\n",
    "        if my_loc_in_dxf in obsta\n",
    "#         if \n",
    "    "
   ]
  },
  {
   "cell_type": "code",
   "execution_count": 4,
   "metadata": {},
   "outputs": [],
   "source": [
    "bah = b'dwm> DIST,3,AN0,D206,1.16,2.66,0.00,2.46,AN1,DC11,0.00,0.00,0.00,2.66,AN2,CCAC,1.82,0.00,0.00,3.70,POS,-0.82,2.21,1.34,88\\r\\n'"
   ]
  },
  {
   "cell_type": "code",
   "execution_count": 5,
   "metadata": {},
   "outputs": [
    {
     "data": {
      "text/plain": [
       "\"b'dwm> DIST,3,AN0,D206,1.16,2.66,0.00,2.46,AN1,DC11,0.00,0.00,0.00,2.66,AN2,CCAC,1.82,0.00,0.00,3.70,POS,-0.82,2.21,1.34,88\\\\r\\\\n'\""
      ]
     },
     "execution_count": 5,
     "metadata": {},
     "output_type": "execute_result"
    }
   ],
   "source": [
    "str(bah)"
   ]
  },
  {
   "cell_type": "code",
   "execution_count": 6,
   "metadata": {},
   "outputs": [
    {
     "data": {
      "text/plain": [
       "b'dwm> DIST,3,AN0,D206,1.16,2.66,0.00,2.46,AN1,DC11,0.00,0.00,0.00,2.66,AN2,CCAC,1.82,0.00,0.00,3.70,POS,-0.82,2.21,1.34,88'"
      ]
     },
     "execution_count": 6,
     "metadata": {},
     "output_type": "execute_result"
    }
   ],
   "source": [
    "\n",
    "bah.strip()"
   ]
  },
  {
   "cell_type": "code",
   "execution_count": null,
   "metadata": {},
   "outputs": [],
   "source": [
    "ba"
   ]
  }
 ],
 "metadata": {
  "kernelspec": {
   "display_name": "Python 3",
   "language": "python",
   "name": "python3"
  },
  "language_info": {
   "codemirror_mode": {
    "name": "ipython",
    "version": 3
   },
   "file_extension": ".py",
   "mimetype": "text/x-python",
   "name": "python",
   "nbconvert_exporter": "python",
   "pygments_lexer": "ipython3",
   "version": "3.7.7"
  }
 },
 "nbformat": 4,
 "nbformat_minor": 4
}
