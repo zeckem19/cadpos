{
 "cells": [
  {
   "cell_type": "code",
   "execution_count": 31,
   "metadata": {},
   "outputs": [],
   "source": [
    "import ezdxf as edf\n",
    "import math"
   ]
  },
  {
   "cell_type": "code",
   "execution_count": 218,
   "metadata": {},
   "outputs": [],
   "source": [
    "def calculateLength(e):\n",
    "    xy = e.dxf.end - e.dxf.start\n",
    "    length = math.sqrt(xy[0]**2+xy[1]**2)\n",
    "\n",
    "    return length\n",
    "\n",
    "def print_entity(e):\n",
    "    print(\"start point: %s\\n\" % e.dxf.start)\n",
    "    print(\"end point: %s\\n\" % e.dxf.end)\n",
    "    print(\"length: %s\\n\" % calculateLength(e))\n",
    "\n",
    "def getPoints(e):\n",
    "    # originalLines.append((e.dxf.start, e.dxf.end))\n",
    "    originalLines.append(e)\n",
    "    originalPoints.append(e.dxf.start)\n",
    "    originalPoints.append(e.dxf.end)\n",
    "    originalPointsVector.append((e.dxf.start.x, e.dxf.start.y))\n",
    "    originalPointsVector.append((e.dxf.end.x, e.dxf.end.y))\n",
    "\n",
    "\n",
    "def getPointsInConvex(allPoints, convex):\n",
    "    innerPoints = list()\n",
    "    for e in allPoints:\n",
    "        if edf.math.is_point_in_polygon_2d(e, convex):\n",
    "            innerPoints.append(e)\n",
    "    return innerPoints\n",
    "\n",
    "def getWorkingAreaLines(workingArea, originalLines):\n",
    "    workingLines = list()\n",
    "    for point in workingArea:\n",
    "        for line in originalLines:\n",
    "            if edf.math.is_point_on_line_2d(point, (line.dxf.start.x, line.dxf.start.y), (line.dxf.end.x, line.dxf.end.y)):\n",
    "                workingLines.append(line)\n",
    "    return list(set(workingLines))\n",
    "    \n",
    "\n",
    "def constructPolygon(obstacleLines):\n",
    "    obstaclePoints = list()\n",
    "    for line in obstacleLines:\n",
    "        obstaclePoints.append(line.dxf.start)\n",
    "        obstaclePoints.append(line.dxf.end)\n",
    "    \n",
    "    polygon = edf.math.convex_hull_2d(obstaclePoints)\n",
    "    \n",
    "    print(polygon)\n",
    "    return polygon\n",
    "    \n",
    "def getObstaclePolygons(innerLines, originalPoints):\n",
    "    obstacles = list()\n",
    "    for i in range(0, len(innerLines), 1):\n",
    "        if i == len(innerLines)-1:\n",
    "                break\n",
    "        obstacle = list()\n",
    "        firstLine = innerLines[i]\n",
    "        if len(obstacles) > 0:\n",
    "            start = firstLine.dxf.start\n",
    "            end = firstLine.dxf.end\n",
    "            convex = constructPolygon(obstacles[-1])\n",
    "            if firstLine in obstacles[-1]:\n",
    "                continue\n",
    "            elif edf.math.is_point_in_polygon_2d(start, convex) in [0,1] and edf.math.is_point_in_polygon_2d(end, convex) in [0,1]:\n",
    "                continue\n",
    "            \n",
    "            \n",
    "        obstacle.append(firstLine)\n",
    "        for j in range(1, len(innerLines), 1):\n",
    "            secondLine = innerLines[j]\n",
    "            intersection = edf.math.intersection_line_line_2d((firstLine.dxf.start, firstLine.dxf.end), \\\n",
    "                                                              (secondLine.dxf.start, secondLine.dxf.end))\n",
    "        \n",
    "            if intersection in originalPoints:\n",
    "                obstacle.append(secondLine)\n",
    "        \n",
    "        if len(obstacle) > 0:\n",
    "            obstacles.append(obstacle)\n",
    "            \n",
    "    return obstacles"
   ]
  },
  {
   "cell_type": "code",
   "execution_count": 246,
   "metadata": {},
   "outputs": [
    {
     "name": "stdout",
     "output_type": "stream",
     "text": [
      "[Vec2(17.50244796297726, 12.50237670469986), Vec2(19.99578626593774, 14.99465418818191), Vec2(24.99872428406718, 14.99887834832079), Vec2(22.5112467059509, 12.50237670469986)]\n",
      "[Vec2(17.50244796297726, 12.50237670469986), Vec2(19.99578626593774, 14.99465418818191), Vec2(24.99872428406718, 14.99887834832079), Vec2(22.5112467059509, 12.50237670469986)]\n",
      "[Vec2(17.50244796297726, 12.50237670469986), Vec2(19.99578626593774, 14.99465418818191), Vec2(24.99872428406718, 14.99887834832079), Vec2(22.5112467059509, 12.50237670469986)]\n",
      "[Vec2(17.50244796297726, 12.50237670469986), Vec2(19.99578626593774, 14.99465418818191), Vec2(24.99872428406718, 14.99887834832079), Vec2(22.5112467059509, 12.50237670469986)]\n"
     ]
    }
   ],
   "source": [
    "doc = edf.readfile('/Users/lawrence/Desktop/Drawing2-one diagonal(dimensions).dxf')\n",
    "msp = doc.modelspace()\n",
    "\n",
    "originalLines = list()\n",
    "originalPoints = list()\n",
    "originalVectorPoints = list()\n",
    "\n",
    "for e in msp.query('LINE'):\n",
    "    originalLines.append(e)\n",
    "    originalVectorPoints.append(e.dxf.start)\n",
    "    originalVectorPoints.append(e.dxf.end)\n",
    "    originalPoints.append((e.dxf.start.x, e.dxf.start.y))\n",
    "    originalPoints.append((e.dxf.end.x, e.dxf.end.y))\n",
    "    \n",
    "workingArea = edf.math.convex_hull_2d(originalVectorPoints)\n",
    "innerPoints = getPointsInConvex(originalVectorPoints, workingArea)\n",
    "\n",
    "workingLines = getWorkingAreaLines(workingArea, originalLines)\n",
    "innerLines = [line for line in originalLines if line not in workingLines]\n",
    "obstacles = getObstaclePolygons(innerLines, originalPoints)"
   ]
  },
  {
   "cell_type": "code",
   "execution_count": 247,
   "metadata": {},
   "outputs": [],
   "source": [
    "doc = edf.readfile('/Users/lawrence/Desktop/Drawing11- crescents.dxf')\n",
    "msp = doc.modelspace()"
   ]
  },
  {
   "cell_type": "code",
   "execution_count": 248,
   "metadata": {},
   "outputs": [],
   "source": [
    "def getEntitiesInLayer(msp):\n",
    "    entitiesDict = dict()\n",
    "    for e in msp.query():\n",
    "        layer = e.dxf.layer\n",
    "        if layer not in list(entitiesDict.keys()):\n",
    "            entitiesDict.update({layer: [e]})\n",
    "        else:\n",
    "            entitiesDict[layer].append(e)\n",
    "        \n",
    "    return entitiesDict"
   ]
  },
  {
   "cell_type": "code",
   "execution_count": 249,
   "metadata": {},
   "outputs": [],
   "source": [
    "layerDict = getEntitiesInLayer(msp)"
   ]
  },
  {
   "cell_type": "code",
   "execution_count": null,
   "metadata": {},
   "outputs": [],
   "source": [
    "def getLinesPoints(layer):\n",
    "    originalLines = list()\n",
    "    originalPoints = list()\n",
    "    originalVectorPoints = list()\n",
    "    \n",
    "    for e in layer:\n",
    "        type = e.dxftype()\n",
    "        if type == ''"
   ]
  },
  {
   "cell_type": "code",
   "execution_count": 240,
   "metadata": {},
   "outputs": [
    {
     "data": {
      "text/plain": [
       "[<class 'ezdxf.entities.lwpolyline.LWPolyline'> LWPOLYLINE(#461),\n",
       " <class 'ezdxf.entities.lwpolyline.LWPolyline'> LWPOLYLINE(#462),\n",
       " <class 'ezdxf.entities.hatch.Hatch'> HATCH(#46F),\n",
       " <class 'ezdxf.entities.hatch.Hatch'> HATCH(#47D),\n",
       " <class 'ezdxf.entities.hatch.Hatch'> HATCH(#48F),\n",
       " <class 'ezdxf.entities.hatch.Hatch'> HATCH(#499),\n",
       " <class 'ezdxf.entities.hatch.Hatch'> HATCH(#4AC),\n",
       " <class 'ezdxf.entities.hatch.Hatch'> HATCH(#4BC),\n",
       " <class 'ezdxf.entities.hatch.Hatch'> HATCH(#4C6),\n",
       " <class 'ezdxf.entities.hatch.Hatch'> HATCH(#4D0),\n",
       " <class 'ezdxf.entities.arc.Arc'> ARC(#579),\n",
       " <class 'ezdxf.entities.arc.Arc'> ARC(#57B),\n",
       " <class 'ezdxf.entities.arc.Arc'> ARC(#59D),\n",
       " <class 'ezdxf.entities.arc.Arc'> ARC(#59E),\n",
       " <class 'ezdxf.entities.arc.Arc'> ARC(#59F),\n",
       " <class 'ezdxf.entities.spline.Spline'> SPLINE(#5AE)]"
      ]
     },
     "execution_count": 240,
     "metadata": {},
     "output_type": "execute_result"
    }
   ],
   "source": [
    "layerDict['drawing']"
   ]
  },
  {
   "cell_type": "code",
   "execution_count": 250,
   "metadata": {},
   "outputs": [
    {
     "data": {
      "text/plain": [
       "[(11.22084979033385, 16.13652026111853, 0.0),\n",
       " (12.49572657985976, 15.44035752534177, 0.0),\n",
       " (14.76217401082599, 15.77073982510796, 0.0),\n",
       " (12.92068536355856, 15.77073982510796, 0.0),\n",
       " (11.22084979033385, 16.13652026111853, 0.0)]"
      ]
     },
     "execution_count": 250,
     "metadata": {},
     "output_type": "execute_result"
    }
   ],
   "source": [
    "sp = layerDict['drawing'][-1]\n",
    "sp.fit_points[0:]"
   ]
  },
  {
   "cell_type": "code",
   "execution_count": 206,
   "metadata": {},
   "outputs": [
    {
     "data": {
      "text/plain": [
       "[(17.77392841720342, 13.79340337257891, 0.0),\n",
       " (20.13427298937921, 9.074732233770135, 0.0),\n",
       " (16.75323892661063, 9.074732233770135, 0.0),\n",
       " (14.67996333625405, 14.14411545494835, 0.0),\n",
       " (17.77392841720342, 13.79340337257891, 0.0)]"
      ]
     },
     "execution_count": 206,
     "metadata": {},
     "output_type": "execute_result"
    }
   ],
   "source": [
    "sp.fit_points[0:]"
   ]
  },
  {
   "cell_type": "code",
   "execution_count": 205,
   "metadata": {},
   "outputs": [
    {
     "data": {
      "text/plain": [
       "<module 'ezdxf.lldxf.const' from '/Users/lawrence/Desktop/ezdxf/.venv/lib/python3.8/site-packages/ezdxf/lldxf/const.py'>"
      ]
     },
     "execution_count": 205,
     "metadata": {},
     "output_type": "execute_result"
    }
   ],
   "source": [
    "edf.lldxf.const"
   ]
  },
  {
   "cell_type": "code",
   "execution_count": 277,
   "metadata": {},
   "outputs": [],
   "source": [
    "def getSPFitLines(spline):\n",
    "    fitLines = list()\n",
    "    spPoints = spline.fit_points\n",
    "    for i in range(len(spPoints)):\n",
    "        startPoint = spPoints[i]\n",
    "        if i == len(spPoints)-1:\n",
    "            endPoint = spPoints[0]\n",
    "        else:\n",
    "            endPoint = spPoints[i+1]\n",
    "        fitLines.append((edf.math.Vec2(startPoint[0], startPoint[1]), edf.math.Vec2(endPoint[0], endPoint[1])))\n",
    "    return fitLines"
   ]
  },
  {
   "cell_type": "code",
   "execution_count": 278,
   "metadata": {},
   "outputs": [],
   "source": [
    "spFitLines = getSPFitLines(sp)"
   ]
  },
  {
   "cell_type": "code",
   "execution_count": 264,
   "metadata": {},
   "outputs": [
    {
     "name": "stdout",
     "output_type": "stream",
     "text": [
      "(11.22084979033385, 16.13652026111853, 0.0)\n",
      "(12.49572657985976, 15.44035752534177, 0.0)\n",
      "(14.76217401082599, 15.77073982510796, 0.0)\n",
      "(12.92068536355856, 15.77073982510796, 0.0)\n",
      "(11.22084979033385, 16.13652026111853, 0.0)\n"
     ]
    }
   ],
   "source": [
    "for point in sp.fit_points:\n",
    "    print(point)"
   ]
  },
  {
   "cell_type": "code",
   "execution_count": null,
   "metadata": {},
   "outputs": [],
   "source": [
    "def isInSPLine(fitLines, testingPoint, spline):\n",
    "    isIntersection = list()\n",
    "    for point in spline.fit_points:\n",
    "        cuttingLine = (testingPoint, edf.math.Vec2(point[0], point[1]))\n",
    "        intersection = 0\n",
    "        for lines in fitLines:\n",
    "            intersectionPoint = edf.math.intersection_line_line_2d(cuttingLine, (lines[0], lines[1]))\n",
    "            if intersectionPoint:\n",
    "                intersection += 1\n",
    "        if intersection % 2 == 1:\n",
    "            isIntersection.append(True)\n",
    "        \n",
    "        if len([i for i in isIntersection if i == True]) == 3:\n",
    "            return True\n",
    "    \n",
    "    return False"
   ]
  },
  {
   "cell_type": "code",
   "execution_count": 229,
   "metadata": {},
   "outputs": [
    {
     "data": {
      "text/plain": [
       "0"
      ]
     },
     "execution_count": 229,
     "metadata": {},
     "output_type": "execute_result"
    }
   ],
   "source": [
    "ezdxf.math.is_point_in_polygon_2d(edf.math.Vec2(sp.fit_points[0][0], sp.fit_points[0][1]), testPolygon)"
   ]
  },
  {
   "cell_type": "code",
   "execution_count": 280,
   "metadata": {},
   "outputs": [
    {
     "data": {
      "text/plain": [
       "Vec2(12.49572657985976, 15.440357525341776)"
      ]
     },
     "execution_count": 280,
     "metadata": {},
     "output_type": "execute_result"
    }
   ],
   "source": [
    "edf.math.intersection_line_line_2d((spFitLines[0][0], spFitLines[0][1]), \\\n",
    "                                                              (spFitLines[1][0], spFitLines[1][1]))"
   ]
  },
  {
   "cell_type": "code",
   "execution_count": 258,
   "metadata": {},
   "outputs": [
    {
     "data": {
      "text/plain": [
       "ezdxf.math.vector.Vector"
      ]
     },
     "execution_count": 258,
     "metadata": {},
     "output_type": "execute_result"
    }
   ],
   "source": [
    "edf.math.Vector"
   ]
  },
  {
   "cell_type": "code",
   "execution_count": 261,
   "metadata": {},
   "outputs": [
    {
     "data": {
      "text/plain": [
       "Vector(27.51999852234022, 17.50996849717288, 0.0)"
      ]
     },
     "execution_count": 261,
     "metadata": {},
     "output_type": "execute_result"
    }
   ],
   "source": [
    "originalLines[0].dxf.end"
   ]
  },
  {
   "cell_type": "code",
   "execution_count": null,
   "metadata": {},
   "outputs": [],
   "source": [
    "def isInObstacles(obstaclePolygon, point):\n",
    "    return edf.math.is_point_in_polygon_2d(point, obstaclePolygon)"
   ]
  },
  {
   "cell_type": "code",
   "execution_count": null,
   "metadata": {},
   "outputs": [],
   "source": [
    "def discretizeWorkingArea(workingArea):\n",
    "    discretePoints = list()\n",
    "    allX = [i[0] for i in workingArea]\n",
    "    allY = [i[1] for i in workingArea]\n",
    "    \n",
    "    leftX = min(allX)\n",
    "    rightX = max(allX)\n",
    "    bottomY = min(allY)\n",
    "    topY = max(allY)\n",
    "    \n",
    "    for x in range(leftX, rightX+0.01, 0.01):\n",
    "        for y in range(bottomY, topY+0.01, 0.01):\n",
    "            discretePoint = edf.math.Vec2(x, y)\n",
    "            if discretePoint not in discretePoints:\n",
    "                discretePoints.append(discretePoint)\n",
    "    \n",
    "    return discretePoints            "
   ]
  },
  {
   "cell_type": "code",
   "execution_count": null,
   "metadata": {},
   "outputs": [],
   "source": []
  },
  {
   "cell_type": "code",
   "execution_count": null,
   "metadata": {},
   "outputs": [],
   "source": []
  }
 ],
 "metadata": {
  "kernelspec": {
   "display_name": ".venv",
   "language": "python",
   "name": ".venv"
  },
  "language_info": {
   "codemirror_mode": {
    "name": "ipython",
    "version": 3
   },
   "file_extension": ".py",
   "mimetype": "text/x-python",
   "name": "python",
   "nbconvert_exporter": "python",
   "pygments_lexer": "ipython3",
   "version": "3.8.5"
  }
 },
 "nbformat": 4,
 "nbformat_minor": 4
}
