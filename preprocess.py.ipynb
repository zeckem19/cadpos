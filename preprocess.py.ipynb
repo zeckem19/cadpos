{
 "cells": [
  {
   "cell_type": "code",
   "execution_count": 3,
   "metadata": {},
   "outputs": [],
   "source": [
    "import ezdxf as edf\n",
    "import math\n",
    "\n",
    "from helpers.lines import *\n",
    "from helpers.curves import *\n",
    "from helpers.layers import *\n",
    "\n",
    "doc = edf.readfile('/home/pi/cadpos/resources/dxfs/Drawing14 - office obstacle.dxf')\n",
    "msp = doc.modelspace()\n",
    "entities = getEntitiesInLayer(msp)\n",
    "# ratio = float(entities['wording'][0].text.split(':')[1])\n",
    "obstacles = entities['0']\n",
    "WA = getWorkingArea(msp)"
   ]
  },
  {
   "cell_type": "code",
   "execution_count": 4,
   "metadata": {},
   "outputs": [
    {
     "data": {
      "text/plain": [
       "((-0.0, -0.0), (-0.0, 32.5), (26.5, 32.5), (26.5, 9.0))"
      ]
     },
     "execution_count": 4,
     "metadata": {},
     "output_type": "execute_result"
    }
   ],
   "source": [
    "WA"
   ]
  },
  {
   "cell_type": "code",
   "execution_count": 3,
   "metadata": {},
   "outputs": [
    {
     "data": {
      "text/plain": [
       "[<class 'ezdxf.entities.lwpolyline.LWPolyline'> LWPOLYLINE(#481),\n",
       " <class 'ezdxf.entities.lwpolyline.LWPolyline'> LWPOLYLINE(#484),\n",
       " <class 'ezdxf.entities.line.Line'> LINE(#485),\n",
       " <class 'ezdxf.entities.line.Line'> LINE(#486),\n",
       " <class 'ezdxf.entities.line.Line'> LINE(#487),\n",
       " <class 'ezdxf.entities.lwpolyline.LWPolyline'> LWPOLYLINE(#488),\n",
       " <class 'ezdxf.entities.line.Line'> LINE(#489),\n",
       " <class 'ezdxf.entities.line.Line'> LINE(#48A),\n",
       " <class 'ezdxf.entities.line.Line'> LINE(#48B),\n",
       " <class 'ezdxf.entities.lwpolyline.LWPolyline'> LWPOLYLINE(#48E),\n",
       " <class 'ezdxf.entities.line.Line'> LINE(#48F),\n",
       " <class 'ezdxf.entities.line.Line'> LINE(#490),\n",
       " <class 'ezdxf.entities.line.Line'> LINE(#491)]"
      ]
     },
     "execution_count": 3,
     "metadata": {},
     "output_type": "execute_result"
    }
   ],
   "source": [
    "entities['0']"
   ]
  },
  {
   "cell_type": "code",
   "execution_count": 3,
   "metadata": {},
   "outputs": [
    {
     "data": {
      "text/plain": [
       "((20.0, 6.99), (20.0, 18.99), (26.0, 18.99), (20.0, 6.99))"
      ]
     },
     "execution_count": 3,
     "metadata": {},
     "output_type": "execute_result"
    }
   ],
   "source": [
    "WA"
   ]
  },
  {
   "cell_type": "code",
   "execution_count": 5,
   "metadata": {},
   "outputs": [],
   "source": [
    "methods = {\n",
    "    'LWPOLYLINE' : is_point_in_polyline,\n",
    "    'CIRCLE' : is_point_in_circ,\n",
    "    'ELLIPSE' : is_point_in_ellipse,\n",
    "    'SPLINE' : isInSPLine\n",
    "}"
   ]
  },
  {
   "cell_type": "code",
   "execution_count": 6,
   "metadata": {},
   "outputs": [],
   "source": [
    "discretisedWA = discretizeWorkingArea(WA)"
   ]
  },
  {
   "cell_type": "code",
   "execution_count": 7,
   "metadata": {},
   "outputs": [
    {
     "data": {
      "text/plain": [
       "8618401"
      ]
     },
     "execution_count": 7,
     "metadata": {},
     "output_type": "execute_result"
    }
   ],
   "source": [
    "len(discretisedWA)"
   ]
  },
  {
   "cell_type": "code",
   "execution_count": 8,
   "metadata": {},
   "outputs": [
    {
     "name": "stdout",
     "output_type": "stream",
     "text": [
      "100000\n",
      "200000\n",
      "300000\n",
      "400000\n",
      "500000\n",
      "600000\n",
      "700000\n",
      "800000\n",
      "900000\n",
      "1000000\n",
      "1100000\n",
      "1200000\n",
      "1300000\n",
      "1400000\n",
      "1500000\n",
      "1600000\n",
      "1700000\n",
      "1800000\n",
      "1900000\n",
      "2000000\n",
      "2100000\n",
      "2200000\n",
      "2300000\n",
      "2400000\n",
      "2500000\n",
      "2600000\n",
      "2700000\n",
      "2800000\n",
      "2900000\n",
      "3000000\n",
      "3100000\n",
      "3200000\n",
      "3300000\n",
      "3400000\n",
      "3500000\n",
      "3600000\n",
      "3700000\n",
      "3800000\n",
      "3900000\n",
      "4000000\n",
      "4100000\n",
      "4200000\n",
      "4300000\n",
      "4400000\n",
      "4500000\n",
      "4600000\n",
      "4700000\n",
      "4800000\n",
      "4900000\n",
      "5000000\n",
      "5100000\n",
      "5200000\n",
      "5300000\n",
      "5400000\n",
      "5500000\n",
      "5600000\n",
      "5700000\n",
      "5800000\n",
      "5900000\n",
      "6000000\n",
      "6100000\n",
      "6200000\n",
      "6300000\n",
      "6400000\n",
      "6500000\n",
      "6600000\n",
      "6700000\n",
      "6800000\n",
      "6900000\n",
      "7000000\n",
      "7100000\n",
      "7900000\n",
      "8000000\n",
      "8100000\n",
      "8200000\n",
      "8300000\n",
      "8400000\n",
      "8500000\n",
      "8600000\n",
      "8700000\n",
      "8800000\n",
      "8900000\n",
      "9000000\n",
      "9100000\n",
      "9200000\n",
      "9300000\n",
      "9400000\n",
      "9500000\n",
      "9600000\n",
      "9700000\n",
      "9800000\n",
      "9900000\n",
      "10000000\n",
      "10100000\n",
      "10200000\n",
      "10300000\n",
      "10400000\n",
      "10500000\n",
      "10600000\n",
      "10700000\n",
      "10800000\n",
      "10900000\n",
      "11000000\n",
      "11100000\n",
      "11200000\n",
      "11300000\n",
      "11400000\n",
      "11500000\n",
      "11600000\n",
      "11700000\n",
      "11800000\n",
      "11900000\n",
      "12000000\n",
      "12100000\n",
      "12200000\n",
      "12300000\n",
      "12400000\n",
      "12500000\n",
      "12600000\n",
      "12700000\n",
      "12800000\n",
      "12900000\n",
      "13000000\n",
      "13100000\n",
      "13200000\n",
      "13300000\n",
      "13400000\n",
      "13500000\n",
      "13600000\n",
      "13700000\n",
      "13800000\n",
      "13900000\n",
      "14000000\n",
      "14100000\n",
      "14200000\n",
      "14300000\n",
      "14400000\n",
      "14500000\n",
      "14600000\n",
      "14700000\n",
      "14800000\n",
      "14900000\n",
      "15000000\n",
      "15100000\n",
      "15200000\n",
      "15300000\n",
      "15400000\n",
      "15500000\n",
      "15600000\n",
      "15700000\n",
      "15800000\n",
      "15900000\n",
      "16000000\n",
      "16100000\n",
      "16200000\n",
      "16300000\n",
      "16400000\n",
      "16500000\n",
      "16600000\n",
      "16700000\n",
      "16800000\n",
      "16900000\n",
      "17000000\n",
      "17100000\n",
      "17200000\n",
      "17300000\n",
      "17400000\n",
      "17500000\n",
      "17600000\n",
      "17700000\n",
      "17800000\n",
      "17900000\n",
      "18000000\n",
      "18100000\n",
      "18200000\n",
      "18300000\n",
      "18400000\n",
      "18500000\n",
      "18600000\n",
      "18700000\n",
      "18800000\n",
      "18900000\n",
      "19000000\n",
      "19100000\n",
      "19200000\n",
      "19300000\n",
      "19400000\n",
      "19500000\n",
      "19600000\n",
      "19700000\n",
      "19800000\n",
      "19900000\n",
      "20000000\n",
      "20100000\n",
      "20200000\n",
      "20300000\n",
      "20400000\n",
      "20500000\n",
      "20600000\n",
      "20700000\n",
      "20800000\n",
      "20900000\n",
      "21000000\n",
      "21100000\n",
      "21200000\n",
      "21300000\n",
      "21400000\n",
      "21500000\n",
      "21600000\n",
      "21700000\n",
      "21800000\n",
      "21900000\n",
      "22000000\n",
      "22100000\n",
      "22200000\n",
      "22300000\n",
      "22400000\n",
      "22500000\n",
      "22600000\n",
      "22700000\n",
      "22800000\n",
      "22900000\n",
      "23000000\n",
      "23100000\n",
      "23200000\n",
      "23300000\n",
      "23400000\n",
      "23500000\n",
      "23600000\n",
      "23700000\n",
      "23800000\n",
      "23900000\n",
      "24000000\n",
      "24100000\n",
      "24200000\n",
      "24300000\n",
      "24400000\n",
      "24500000\n",
      "24600000\n",
      "24700000\n",
      "24800000\n",
      "24900000\n",
      "25000000\n",
      "25100000\n",
      "25200000\n",
      "25300000\n",
      "25400000\n",
      "25500000\n",
      "25600000\n",
      "25700000\n",
      "25800000\n"
     ]
    }
   ],
   "source": [
    "obstaclePoints = []\n",
    "counter =0\n",
    "for point in discretisedWA:\n",
    "    for entity in obstacles:\n",
    "        if entity.dxftype() in methods.keys():\n",
    "            labelPoint = methods[entity.dxftype()](point, entity)\n",
    "            if labelPoint >= 0:\n",
    "                obstaclePoints.append(point)\n",
    "            counter += 1\n",
    "            if counter %100000==0:\n",
    "                print(counter)\n",
    "\n",
    "\n"
   ]
  },
  {
   "cell_type": "code",
   "execution_count": 9,
   "metadata": {},
   "outputs": [
    {
     "data": {
      "text/plain": [
       "924325"
      ]
     },
     "execution_count": 9,
     "metadata": {},
     "output_type": "execute_result"
    }
   ],
   "source": [
    "len(obstaclePoints)"
   ]
  },
  {
   "cell_type": "code",
   "execution_count": 10,
   "metadata": {},
   "outputs": [],
   "source": [
    "import pickle\n",
    "with open('/home/pi/cadpos/resources/obsPoints_drawing13','wb') as obsPoints_file:\n",
    "    pickle.dump(obstaclePoints, obsPoints_file)"
   ]
  },
  {
   "cell_type": "code",
   "execution_count": null,
   "metadata": {},
   "outputs": [],
   "source": [
    "with open('/home/pi/cadpos/resources/obsPoints_drawing13','wb') as obsPoints_file:\n",
    "    obstaclePoints = pickle.dump(obsPoints_file)"
   ]
  },
  {
   "cell_type": "code",
   "execution_count": 8,
   "metadata": {},
   "outputs": [
    {
     "data": {
      "text/plain": [
       "[Vec2(20.01, 7.0),\n",
       " Vec2(20.01, 7.01),\n",
       " Vec2(20.01, 7.0200000000000005),\n",
       " Vec2(20.01, 7.03),\n",
       " Vec2(20.01, 7.04),\n",
       " Vec2(20.01, 7.05),\n",
       " Vec2(20.01, 7.0600000000000005),\n",
       " Vec2(20.01, 7.07),\n",
       " Vec2(20.01, 7.08),\n",
       " Vec2(20.01, 7.09),\n",
       " Vec2(20.01, 7.1000000000000005),\n",
       " Vec2(20.01, 7.11),\n",
       " Vec2(20.01, 7.12),\n",
       " Vec2(20.01, 7.13),\n",
       " Vec2(20.01, 7.140000000000001),\n",
       " Vec2(20.01, 7.15),\n",
       " Vec2(20.01, 7.16),\n",
       " Vec2(20.01, 7.17),\n",
       " Vec2(20.01, 7.180000000000001),\n",
       " Vec2(20.01, 7.19),\n",
       " Vec2(20.01, 7.2),\n",
       " Vec2(20.01, 7.21),\n",
       " Vec2(20.01, 7.220000000000001),\n",
       " Vec2(20.01, 7.23),\n",
       " Vec2(20.01, 7.24),\n",
       " Vec2(20.01, 7.25),\n",
       " Vec2(20.01, 7.26),\n",
       " Vec2(20.01, 7.2700000000000005),\n",
       " Vec2(20.01, 7.28),\n",
       " Vec2(20.01, 7.29),\n",
       " Vec2(20.01, 7.3),\n",
       " Vec2(20.01, 7.3100000000000005),\n",
       " Vec2(20.01, 7.32),\n",
       " Vec2(20.01, 7.33),\n",
       " Vec2(20.01, 7.34),\n",
       " Vec2(20.01, 7.3500000000000005),\n",
       " Vec2(20.01, 7.36),\n",
       " Vec2(20.01, 7.37),\n",
       " Vec2(20.01, 7.38),\n",
       " Vec2(20.01, 7.390000000000001),\n",
       " Vec2(20.01, 7.4),\n",
       " Vec2(20.01, 7.41),\n",
       " Vec2(20.01, 7.42),\n",
       " Vec2(20.01, 7.430000000000001),\n",
       " Vec2(20.01, 7.44),\n",
       " Vec2(20.01, 7.45),\n",
       " Vec2(20.01, 7.46),\n",
       " Vec2(20.01, 7.470000000000001),\n",
       " Vec2(20.01, 7.48),\n",
       " Vec2(20.01, 7.49)]"
      ]
     },
     "execution_count": 8,
     "metadata": {},
     "output_type": "execute_result"
    }
   ],
   "source": [
    "obstaclePoints[:50]"
   ]
  },
  {
   "cell_type": "code",
   "execution_count": 16,
   "metadata": {},
   "outputs": [
    {
     "data": {
      "text/plain": [
       "[(15.000385519716, 15.00188723137928, 0.0, 0.0, 0.0),\n",
       " (17.500385519716, 15.00188723137928, 0.0, 0.0, 0.0),\n",
       " (17.500385519716, 12.50188723137928, 0.0, 0.0, 0.0),\n",
       " (15.000385519716, 12.50188723137928, 0.0, 0.0, 0.0)]"
      ]
     },
     "execution_count": 16,
     "metadata": {},
     "output_type": "execute_result"
    }
   ],
   "source": [
    "list(obstacles[6].lwpoints)"
   ]
  },
  {
   "cell_type": "code",
   "execution_count": 19,
   "metadata": {},
   "outputs": [
    {
     "data": {
      "text/plain": [
       "[(20.93286186334701, 15.85748701351982, 0.0, 0.0, 0.0),\n",
       " (22.93286186334702, 15.85748701351982, 0.0, 0.0, 0.0),\n",
       " (22.93286186334702, 13.85748701351982, 0.0, 0.0, 0.0),\n",
       " (20.93286186334701, 13.85748701351982, 0.0, 0.0, 0.0)]"
      ]
     },
     "execution_count": 19,
     "metadata": {},
     "output_type": "execute_result"
    }
   ],
   "source": [
    "list(obstacles[7].lwpoints)"
   ]
  },
  {
   "cell_type": "code",
   "execution_count": 8,
   "metadata": {},
   "outputs": [],
   "source": [
    "testpt = edf.math.Vec2(22.9258778935436, 15.850175177181171)"
   ]
  },
  {
   "cell_type": "code",
   "execution_count": 9,
   "metadata": {},
   "outputs": [],
   "source": [
    "import time"
   ]
  },
  {
   "cell_type": "code",
   "execution_count": 10,
   "metadata": {},
   "outputs": [],
   "source": [
    "start = time.time()\n",
    "testpt in obstaclePoints\n",
    "end = time.time()"
   ]
  },
  {
   "cell_type": "code",
   "execution_count": 11,
   "metadata": {},
   "outputs": [
    {
     "data": {
      "text/plain": [
       "0.39423441886901855"
      ]
     },
     "execution_count": 11,
     "metadata": {},
     "output_type": "execute_result"
    }
   ],
   "source": [
    "end-start"
   ]
  },
  {
   "cell_type": "code",
   "execution_count": 27,
   "metadata": {},
   "outputs": [
    {
     "data": {
      "text/plain": [
       "Vec2(22.9258778935436, 15.850175177181171)"
      ]
     },
     "execution_count": 27,
     "metadata": {},
     "output_type": "execute_result"
    }
   ],
   "source": [
    "obstaclePoints[-1]"
   ]
  },
  {
   "cell_type": "code",
   "execution_count": null,
   "metadata": {},
   "outputs": [],
   "source": []
  }
 ],
 "metadata": {
  "kernelspec": {
   "display_name": "Python 3",
   "language": "python",
   "name": "python3"
  },
  "language_info": {
   "codemirror_mode": {
    "name": "ipython",
    "version": 3
   },
   "file_extension": ".py",
   "mimetype": "text/x-python",
   "name": "python",
   "nbconvert_exporter": "python",
   "pygments_lexer": "ipython3",
   "version": "3.7.3"
  }
 },
 "nbformat": 4,
 "nbformat_minor": 2
}
