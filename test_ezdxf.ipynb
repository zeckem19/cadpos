{
 "cells": [
  {
   "cell_type": "code",
   "execution_count": 1,
   "metadata": {},
   "outputs": [],
   "source": [
    "import ezdxf as edf\n",
    "import math\n",
    "\n",
    "allPoints = list()\n",
    "\n",
    "def calculateLength(e):\n",
    "    xy = e.dxf.end - e.dxf.start\n",
    "    length = math.sqrt(xy[0]**2+xy[1]**2)\n",
    "\n",
    "    return length\n",
    "\n",
    "def print_entity(e):\n",
    "    print(\"start point: %s\\n\" % e.dxf.start)\n",
    "    print(\"end point: %s\\n\" % e.dxf.end)\n",
    "    \n",
    "    print(\"length: %s\\n\" % calculateLength(e))\n",
    "\n",
    "def getPoints(e):\n",
    "    allPoints.append(e.dxf.start)\n",
    "    allPoints.append(e.dxf.end)\n",
    "\n",
    "def getPointsInConvex(allPoints, convex):\n",
    "    innerPoints = list()\n",
    "    for e in allPoints:\n",
    "        if edf.math.is_point_in_polygon_2d(e, convex):\n",
    "            innerPoints.append(e)\n",
    "    return innerPoints\n"
   ]
  },
  {
   "cell_type": "code",
   "execution_count": 3,
   "metadata": {},
   "outputs": [],
   "source": [
    "import ezdxf as edf"
   ]
  },
  {
   "cell_type": "code",
   "execution_count": 2,
   "metadata": {},
   "outputs": [],
   "source": [
    "doc = edf.readfile('./resources/dxfs/Drawing5- 2 squares(dimensions).dxf')"
   ]
  },
  {
   "cell_type": "code",
   "execution_count": 8,
   "metadata": {},
   "outputs": [],
   "source": [
    "doc_ellipse = edf.readfile('./resources/dxfs/Drawing8- 1circle1elipse(dimensions).dxf')"
   ]
  },
  {
   "cell_type": "code",
   "execution_count": 3,
   "metadata": {
    "scrolled": true
   },
   "outputs": [
    {
     "name": "stdout",
     "output_type": "stream",
     "text": [
      "start point: (12.4858778935436, 17.50996849717288, 0.0)\n",
      "\n",
      "end point: (27.51999852234022, 17.50996849717288, 0.0)\n",
      "\n",
      "length: 15.03412062879662\n",
      "\n",
      "start point: (27.51999852234022, 17.50996849717288, 0.0)\n",
      "\n",
      "end point: (27.51999852234022, 9.96017517718117, 0.0)\n",
      "\n",
      "length: 7.549793319991711\n",
      "\n",
      "start point: (27.51999852234022, 9.96017517718117, 0.0)\n",
      "\n",
      "end point: (12.4858778935436, 9.960175177181172, 0.0)\n",
      "\n",
      "length: 15.03412062879662\n",
      "\n",
      "start point: (12.4858778935436, 9.960175177181172, 0.0)\n",
      "\n",
      "end point: (12.4858778935436, 17.50996849717288, 0.0)\n",
      "\n",
      "length: 7.549793319991709\n",
      "\n",
      "start point: (15.000385519716, 15.00188723137928, 0.0)\n",
      "\n",
      "end point: (17.500385519716, 12.50188723137928, 0.0)\n",
      "\n",
      "length: 3.535533905932739\n",
      "\n",
      "start point: (17.500385519716, 15.00188723137928, 0.0)\n",
      "\n",
      "end point: (15.000385519716, 12.50188723137928, 0.0)\n",
      "\n",
      "length: 3.535533905932739\n",
      "\n",
      "start point: (20.93286186334701, 15.85748701351982, 0.0)\n",
      "\n",
      "end point: (22.93286186334702, 13.85748701351982, 0.0)\n",
      "\n",
      "length: 2.828427124746198\n",
      "\n",
      "start point: (22.93286186334702, 15.85748701351982, 0.0)\n",
      "\n",
      "end point: (20.93286186334701, 13.85748701351982, 0.0)\n",
      "\n",
      "length: 2.828427124746198\n",
      "\n",
      "Total: 4\n",
      "(12.4858778935436, 9.960175177181172)\n",
      "(12.4858778935436, 17.50996849717288)\n",
      "(27.51999852234022, 17.50996849717288)\n",
      "(27.51999852234022, 9.96017517718117)\n",
      "--------------------\n",
      "Total: 8\n",
      "(15.000385519716, 15.00188723137928, 0.0)\n",
      "(17.500385519716, 12.50188723137928, 0.0)\n",
      "(17.500385519716, 15.00188723137928, 0.0)\n",
      "(15.000385519716, 12.50188723137928, 0.0)\n",
      "(20.93286186334701, 15.85748701351982, 0.0)\n",
      "(22.93286186334702, 13.85748701351982, 0.0)\n",
      "(22.93286186334702, 15.85748701351982, 0.0)\n",
      "(20.93286186334701, 13.85748701351982, 0.0)\n",
      "--------------------\n",
      "Total: 6\n",
      "(15.000385519716, 12.50188723137928)\n",
      "(15.000385519716, 15.00188723137928)\n",
      "(20.93286186334701, 15.85748701351982)\n",
      "(22.93286186334702, 15.85748701351982)\n",
      "(22.93286186334702, 13.85748701351982)\n",
      "(17.500385519716, 12.50188723137928)\n",
      "--------------------\n"
     ]
    }
   ],
   "source": [
    "\n",
    "msp = doc.modelspace()\n",
    "for e in msp.query('LINE'):\n",
    "    print_entity(e)\n",
    "    getPoints(e)\n",
    "\n",
    "convex = edf.math.convex_hull_2d(allPoints)\n",
    "#offsetVertices = list(edf.math.offset_vertices_2d(convex,offset=0.01, closed=True))\n",
    "innerPoints = getPointsInConvex(allPoints, convex)\n",
    "\n",
    "innerConvex = edf.math.convex_hull_2d(innerPoints)\n",
    "\n",
    "\n",
    "for i in [convex,innerPoints,innerConvex]:\n",
    "    print(f'Total: {len(i)}')\n",
    "    for j in i:\n",
    "        print(j)\n",
    "    print('-'*20)"
   ]
  },
  {
   "cell_type": "code",
   "execution_count": 4,
   "metadata": {},
   "outputs": [],
   "source": [
    "msp = doc.modelspace()"
   ]
  },
  {
   "cell_type": "code",
   "execution_count": 5,
   "metadata": {},
   "outputs": [
    {
     "data": {
      "text/plain": [
       "['DRAW_VIEWPORTS_FIRST',\n",
       " 'INITIALIZING',\n",
       " 'MODEL_TYPE',\n",
       " 'PLOT_CENTERED',\n",
       " 'PLOT_HIDDEN',\n",
       " 'PLOT_PLOTSTYLES',\n",
       " 'PLOT_VIEWPORT_BORDERS',\n",
       " 'PREV_PLOT_INIT',\n",
       " 'PRINT_LINEWEIGHTS',\n",
       " 'SCALE_LINEWEIGHTS',\n",
       " 'SHOW_PLOT_STYLES',\n",
       " 'UPDATE_PAPER',\n",
       " 'USE_STANDARD_SCALE',\n",
       " 'ZOOM_TO_PAPER_ON_UPDATE',\n",
       " '__class__',\n",
       " '__contains__',\n",
       " '__delattr__',\n",
       " '__dict__',\n",
       " '__dir__',\n",
       " '__doc__',\n",
       " '__eq__',\n",
       " '__format__',\n",
       " '__ge__',\n",
       " '__getattribute__',\n",
       " '__getitem__',\n",
       " '__gt__',\n",
       " '__hash__',\n",
       " '__init__',\n",
       " '__init_subclass__',\n",
       " '__iter__',\n",
       " '__le__',\n",
       " '__len__',\n",
       " '__lt__',\n",
       " '__module__',\n",
       " '__ne__',\n",
       " '__new__',\n",
       " '__reduce__',\n",
       " '__reduce_ex__',\n",
       " '__repr__',\n",
       " '__setattr__',\n",
       " '__sizeof__',\n",
       " '__str__',\n",
       " '__subclasshook__',\n",
       " '__weakref__',\n",
       " '_add_acis_entiy',\n",
       " '_add_quadrilateral',\n",
       " '_four_points',\n",
       " '_repair_owner_tags',\n",
       " '_save_dimstyle',\n",
       " 'add_3dface',\n",
       " 'add_3dsolid',\n",
       " 'add_aligned_dim',\n",
       " 'add_angular_3p_dim',\n",
       " 'add_angular_dim',\n",
       " 'add_arc',\n",
       " 'add_arrow',\n",
       " 'add_arrow_blockref',\n",
       " 'add_attdef',\n",
       " 'add_attrib',\n",
       " 'add_auto_blockref',\n",
       " 'add_blockref',\n",
       " 'add_body',\n",
       " 'add_circle',\n",
       " 'add_closed_rational_spline',\n",
       " 'add_closed_spline',\n",
       " 'add_diameter_dim',\n",
       " 'add_diameter_dim_2p',\n",
       " 'add_ellipse',\n",
       " 'add_entity',\n",
       " 'add_extruded_surface',\n",
       " 'add_foreign_entity',\n",
       " 'add_hatch',\n",
       " 'add_image',\n",
       " 'add_leader',\n",
       " 'add_line',\n",
       " 'add_linear_dim',\n",
       " 'add_lofted_surface',\n",
       " 'add_lwpolyline',\n",
       " 'add_mesh',\n",
       " 'add_mtext',\n",
       " 'add_multi_point_linear_dim',\n",
       " 'add_open_spline',\n",
       " 'add_ordinate_dim',\n",
       " 'add_point',\n",
       " 'add_polyface',\n",
       " 'add_polyline2d',\n",
       " 'add_polyline3d',\n",
       " 'add_polymesh',\n",
       " 'add_radius_dim',\n",
       " 'add_radius_dim_2p',\n",
       " 'add_radius_dim_cra',\n",
       " 'add_rational_spline',\n",
       " 'add_ray',\n",
       " 'add_region',\n",
       " 'add_revolved_surface',\n",
       " 'add_shape',\n",
       " 'add_solid',\n",
       " 'add_spline',\n",
       " 'add_spline_control_frame',\n",
       " 'add_surface',\n",
       " 'add_swept_surface',\n",
       " 'add_text',\n",
       " 'add_trace',\n",
       " 'add_underlay',\n",
       " 'add_xline',\n",
       " 'block_record',\n",
       " 'block_record_handle',\n",
       " 'block_record_name',\n",
       " 'delete_all_entities',\n",
       " 'delete_entity',\n",
       " 'destroy',\n",
       " 'doc',\n",
       " 'draw_viewports_first',\n",
       " 'drawing',\n",
       " 'dxf',\n",
       " 'dxf_layout',\n",
       " 'dxffactory',\n",
       " 'dxfversion',\n",
       " 'entity_space',\n",
       " 'entitydb',\n",
       " 'get_entity_by_handle',\n",
       " 'get_extension_dict',\n",
       " 'get_geodata',\n",
       " 'get_redraw_order',\n",
       " 'get_sortents_table',\n",
       " 'groupby',\n",
       " 'is_active_paperspace',\n",
       " 'is_alive',\n",
       " 'is_any_layout',\n",
       " 'is_any_paperspace',\n",
       " 'is_block_layout',\n",
       " 'is_modelspace',\n",
       " 'layout_key',\n",
       " 'load',\n",
       " 'model_type',\n",
       " 'move_to_layout',\n",
       " 'name',\n",
       " 'new',\n",
       " 'new_entity',\n",
       " 'new_geodata',\n",
       " 'plot_centered',\n",
       " 'plot_flags_initializing',\n",
       " 'plot_hidden',\n",
       " 'plot_viewport_borders',\n",
       " 'prev_plot_init',\n",
       " 'print_lineweights',\n",
       " 'query',\n",
       " 'rename',\n",
       " 'reset_extends',\n",
       " 'scale_lineweights',\n",
       " 'set_plot_flags',\n",
       " 'set_plot_style',\n",
       " 'set_plot_type',\n",
       " 'set_plot_window',\n",
       " 'set_redraw_order',\n",
       " 'show_plot_styles',\n",
       " 'unlink_entity',\n",
       " 'update_paper',\n",
       " 'use_plot_styles',\n",
       " 'use_standard_scale',\n",
       " 'zoom_to_paper_on_update']"
      ]
     },
     "execution_count": 5,
     "metadata": {},
     "output_type": "execute_result"
    }
   ],
   "source": [
    "dir(msp)\n"
   ]
  },
  {
   "cell_type": "code",
   "execution_count": 18,
   "metadata": {
    "collapsed": true
   },
   "outputs": [
    {
     "data": {
      "text/plain": [
       "[<class 'ezdxf.entities.line.Line'> LINE(#22A),\n",
       " <class 'ezdxf.entities.line.Line'> LINE(#22B),\n",
       " <class 'ezdxf.entities.line.Line'> LINE(#22C),\n",
       " <class 'ezdxf.entities.line.Line'> LINE(#22D),\n",
       " <class 'ezdxf.entities.dimension.Dimension'> DIMENSION(#24A),\n",
       " <class 'ezdxf.entities.dimension.Dimension'> DIMENSION(#265),\n",
       " <class 'ezdxf.entities.lwpolyline.LWPolyline'> LWPOLYLINE(#364),\n",
       " <class 'ezdxf.entities.lwpolyline.LWPolyline'> LWPOLYLINE(#365),\n",
       " <class 'ezdxf.entities.line.Line'> LINE(#366),\n",
       " <class 'ezdxf.entities.line.Line'> LINE(#367),\n",
       " <class 'ezdxf.entities.line.Line'> LINE(#368),\n",
       " <class 'ezdxf.entities.line.Line'> LINE(#369),\n",
       " <class 'ezdxf.entities.dimension.Dimension'> DIMENSION(#36A),\n",
       " <class 'ezdxf.entities.dimension.Dimension'> DIMENSION(#384),\n",
       " <class 'ezdxf.entities.dimension.Dimension'> DIMENSION(#39E),\n",
       " <class 'ezdxf.entities.dimension.Dimension'> DIMENSION(#3B8)]"
      ]
     },
     "execution_count": 18,
     "metadata": {},
     "output_type": "execute_result"
    }
   ],
   "source": [
    "list(msp.query())"
   ]
  },
  {
   "cell_type": "code",
   "execution_count": 27,
   "metadata": {},
   "outputs": [],
   "source": [
    "dims = list(msp.query('DIMENSION'))"
   ]
  },
  {
   "cell_type": "code",
   "execution_count": 29,
   "metadata": {
    "collapsed": true
   },
   "outputs": [
    {
     "data": {
      "text/plain": [
       "['ALIGNED',\n",
       " 'ANGULAR',\n",
       " 'ANGULAR_3P',\n",
       " 'ARC',\n",
       " 'DEFAULT_ATTRIBS',\n",
       " 'DIAMETER',\n",
       " 'DXFATTRIBS',\n",
       " 'DXFTYPE',\n",
       " 'LINEAR',\n",
       " 'MIN_DXF_VERSION_FOR_EXPORT',\n",
       " 'ORDINATE',\n",
       " 'ORDINATE_TYPE',\n",
       " 'RADIUS',\n",
       " 'USER_LOCATION_OVERRIDE',\n",
       " '__class__',\n",
       " '__deepcopy__',\n",
       " '__delattr__',\n",
       " '__dict__',\n",
       " '__dir__',\n",
       " '__doc__',\n",
       " '__eq__',\n",
       " '__format__',\n",
       " '__ge__',\n",
       " '__getattribute__',\n",
       " '__gt__',\n",
       " '__hash__',\n",
       " '__init__',\n",
       " '__init_subclass__',\n",
       " '__le__',\n",
       " '__lt__',\n",
       " '__module__',\n",
       " '__ne__',\n",
       " '__new__',\n",
       " '__reduce__',\n",
       " '__reduce_ex__',\n",
       " '__repr__',\n",
       " '__setattr__',\n",
       " '__sizeof__',\n",
       " '__str__',\n",
       " '__subclasshook__',\n",
       " '__weakref__',\n",
       " '_copy_data',\n",
       " '_new_compound_entity',\n",
       " 'appdata',\n",
       " 'append_reactor_handle',\n",
       " 'attached_entities',\n",
       " 'audit',\n",
       " 'copy',\n",
       " 'copy_to_layout',\n",
       " 'del_dxf_attrib',\n",
       " 'destroy',\n",
       " 'dim_style_attr_handles_to_names',\n",
       " 'dim_style_attr_names_to_handles',\n",
       " 'dim_style_attributes',\n",
       " 'dimtype',\n",
       " 'discard_app_data',\n",
       " 'discard_reactor_handle',\n",
       " 'discard_xdata',\n",
       " 'discard_xdata_list',\n",
       " 'doc',\n",
       " 'drawing',\n",
       " 'dxf',\n",
       " 'dxf_attrib_exists',\n",
       " 'dxfattribs',\n",
       " 'dxffactory',\n",
       " 'dxftype',\n",
       " 'embedded_objects',\n",
       " 'entitydb',\n",
       " 'explode',\n",
       " 'export_acdb_entity',\n",
       " 'export_base_class',\n",
       " 'export_dxf',\n",
       " 'export_embedded_objects',\n",
       " 'export_entity',\n",
       " 'export_xdata',\n",
       " 'extension_dict',\n",
       " 'from_text',\n",
       " 'get_acad_dstyle',\n",
       " 'get_app_data',\n",
       " 'get_dim_style',\n",
       " 'get_dxf_attrib',\n",
       " 'get_extension_dict',\n",
       " 'get_flag_state',\n",
       " 'get_geometry_block',\n",
       " 'get_hyperlink',\n",
       " 'get_layout',\n",
       " 'get_measurement',\n",
       " 'get_reactors',\n",
       " 'get_xdata',\n",
       " 'get_xdata_list',\n",
       " 'graphic_properties',\n",
       " 'has_app_data',\n",
       " 'has_dxf_attrib',\n",
       " 'has_extension_dict',\n",
       " 'has_hyperlink',\n",
       " 'has_reactors',\n",
       " 'has_xdata',\n",
       " 'has_xdata_list',\n",
       " 'is_alive',\n",
       " 'is_supported_dxf_attrib',\n",
       " 'link_entity',\n",
       " 'linked_entities',\n",
       " 'load',\n",
       " 'load_dxf_attribs',\n",
       " 'load_tags',\n",
       " 'move_to_layout',\n",
       " 'new',\n",
       " 'ocs',\n",
       " 'override',\n",
       " 'post_new_hook',\n",
       " 'preprocess_export',\n",
       " 'priority',\n",
       " 'proxy_graphic',\n",
       " 'reactors',\n",
       " 'remove_dependencies',\n",
       " 'render',\n",
       " 'replace_xdata_list',\n",
       " 'rgb',\n",
       " 'rotate_axis',\n",
       " 'rotate_x',\n",
       " 'rotate_y',\n",
       " 'rotate_z',\n",
       " 'scale',\n",
       " 'scale_uniform',\n",
       " 'set_acad_dstyle',\n",
       " 'set_app_data',\n",
       " 'set_dxf_attrib',\n",
       " 'set_flag_state',\n",
       " 'set_hyperlink',\n",
       " 'set_owner',\n",
       " 'set_reactors',\n",
       " 'set_xdata',\n",
       " 'set_xdata_list',\n",
       " 'setup_app_data',\n",
       " 'shallow_copy',\n",
       " 'transform',\n",
       " 'transform_to_wcs',\n",
       " 'translate',\n",
       " 'transparency',\n",
       " 'unlink_from_layout',\n",
       " 'update_dxf_attribs',\n",
       " 'update_handle',\n",
       " 'virtual_entities',\n",
       " 'xdata',\n",
       " 'zorder']"
      ]
     },
     "execution_count": 29,
     "metadata": {},
     "output_type": "execute_result"
    }
   ],
   "source": [
    "dir(dims[0])"
   ]
  },
  {
   "cell_type": "code",
   "execution_count": 5,
   "metadata": {},
   "outputs": [],
   "source": [
    "plines = list(msp.query('lwpolyline'))"
   ]
  },
  {
   "cell_type": "code",
   "execution_count": 6,
   "metadata": {},
   "outputs": [],
   "source": [
    "rect1 = plines[0]"
   ]
  },
  {
   "cell_type": "code",
   "execution_count": 7,
   "metadata": {},
   "outputs": [
    {
     "data": {
      "text/plain": [
       "<class 'ezdxf.entities.lwpolyline.LWPolyline'> LWPOLYLINE(#364)"
      ]
     },
     "execution_count": 7,
     "metadata": {},
     "output_type": "execute_result"
    }
   ],
   "source": [
    "rect1"
   ]
  },
  {
   "cell_type": "code",
   "execution_count": 8,
   "metadata": {},
   "outputs": [],
   "source": [
    "convex2 = edf.math.convex_hull_2d(list(plines[0].lwpoints))"
   ]
  },
  {
   "cell_type": "code",
   "execution_count": 9,
   "metadata": {},
   "outputs": [],
   "source": [
    "convex = edf.math.convex_hull_2d(allPoints)"
   ]
  },
  {
   "cell_type": "code",
   "execution_count": 31,
   "metadata": {},
   "outputs": [],
   "source": [
    "doc2 = edf.readfile('resources/dxfs/Drawing6- 2 circles(dimensions).dxf')\n",
    "msp2 = doc2.modelspace()"
   ]
  },
  {
   "cell_type": "code",
   "execution_count": 32,
   "metadata": {},
   "outputs": [],
   "source": [
    "msp2 = doc2.modelspace()"
   ]
  },
  {
   "cell_type": "code",
   "execution_count": 35,
   "metadata": {},
   "outputs": [],
   "source": [
    "spac = list(msp2.query())"
   ]
  },
  {
   "cell_type": "code",
   "execution_count": 48,
   "metadata": {
    "collapsed": true
   },
   "outputs": [
    {
     "ename": "TypeError",
     "evalue": "'float' object is not iterable",
     "output_type": "error",
     "traceback": [
      "\u001b[0;31m---------------------------------------------------------------------------\u001b[0m",
      "\u001b[0;31mTypeError\u001b[0m                                 Traceback (most recent call last)",
      "\u001b[0;32m<ipython-input-48-c9f223b9ab38>\u001b[0m in \u001b[0;36m<module>\u001b[0;34m\u001b[0m\n\u001b[0;32m----> 1\u001b[0;31m \u001b[0mnext\u001b[0m\u001b[0;34m(\u001b[0m\u001b[0mspac\u001b[0m\u001b[0;34m[\u001b[0m\u001b[0;36m7\u001b[0m\u001b[0;34m]\u001b[0m\u001b[0;34m.\u001b[0m\u001b[0mvertices\u001b[0m\u001b[0;34m(\u001b[0m\u001b[0;36m0.1\u001b[0m\u001b[0;34m)\u001b[0m\u001b[0;34m)\u001b[0m\u001b[0;34m\u001b[0m\u001b[0;34m\u001b[0m\u001b[0m\n\u001b[0m",
      "\u001b[0;32m/usr/local/lib/python3.7/site-packages/ezdxf/entities/ellipse.py\u001b[0m in \u001b[0;36mvertices\u001b[0;34m(self, params)\u001b[0m\n\u001b[1;32m    120\u001b[0m \u001b[0;34m\u001b[0m\u001b[0m\n\u001b[1;32m    121\u001b[0m         \"\"\"\n\u001b[0;32m--> 122\u001b[0;31m         \u001b[0;32myield\u001b[0m \u001b[0;32mfrom\u001b[0m \u001b[0mself\u001b[0m\u001b[0;34m.\u001b[0m\u001b[0mconstruction_tool\u001b[0m\u001b[0;34m(\u001b[0m\u001b[0;34m)\u001b[0m\u001b[0;34m.\u001b[0m\u001b[0mvertices\u001b[0m\u001b[0;34m(\u001b[0m\u001b[0mparams\u001b[0m\u001b[0;34m)\u001b[0m\u001b[0;34m\u001b[0m\u001b[0;34m\u001b[0m\u001b[0m\n\u001b[0m\u001b[1;32m    123\u001b[0m \u001b[0;34m\u001b[0m\u001b[0m\n\u001b[1;32m    124\u001b[0m     \u001b[0;32mdef\u001b[0m \u001b[0mswap_axis\u001b[0m\u001b[0;34m(\u001b[0m\u001b[0mself\u001b[0m\u001b[0;34m)\u001b[0m\u001b[0;34m:\u001b[0m\u001b[0;34m\u001b[0m\u001b[0;34m\u001b[0m\u001b[0m\n",
      "\u001b[0;32m/usr/local/lib/python3.7/site-packages/ezdxf/math/ellipse.py\u001b[0m in \u001b[0;36mvertices\u001b[0;34m(self, params)\u001b[0m\n\u001b[1;32m    226\u001b[0m         \u001b[0mradius_y\u001b[0m \u001b[0;34m=\u001b[0m \u001b[0mradius_x\u001b[0m \u001b[0;34m*\u001b[0m \u001b[0mratio\u001b[0m\u001b[0;34m\u001b[0m\u001b[0;34m\u001b[0m\u001b[0m\n\u001b[1;32m    227\u001b[0m \u001b[0;34m\u001b[0m\u001b[0m\n\u001b[0;32m--> 228\u001b[0;31m         \u001b[0;32mfor\u001b[0m \u001b[0mparam\u001b[0m \u001b[0;32min\u001b[0m \u001b[0mparams\u001b[0m\u001b[0;34m:\u001b[0m\u001b[0;34m\u001b[0m\u001b[0;34m\u001b[0m\u001b[0m\n\u001b[0m\u001b[1;32m    229\u001b[0m             \u001b[0mx\u001b[0m \u001b[0;34m=\u001b[0m \u001b[0mmath\u001b[0m\u001b[0;34m.\u001b[0m\u001b[0mcos\u001b[0m\u001b[0;34m(\u001b[0m\u001b[0mparam\u001b[0m\u001b[0;34m)\u001b[0m \u001b[0;34m*\u001b[0m \u001b[0mradius_x\u001b[0m \u001b[0;34m*\u001b[0m \u001b[0mx_axis\u001b[0m\u001b[0;34m\u001b[0m\u001b[0;34m\u001b[0m\u001b[0m\n\u001b[1;32m    230\u001b[0m             \u001b[0my\u001b[0m \u001b[0;34m=\u001b[0m \u001b[0mmath\u001b[0m\u001b[0;34m.\u001b[0m\u001b[0msin\u001b[0m\u001b[0;34m(\u001b[0m\u001b[0mparam\u001b[0m\u001b[0;34m)\u001b[0m \u001b[0;34m*\u001b[0m \u001b[0mradius_y\u001b[0m \u001b[0;34m*\u001b[0m \u001b[0my_axis\u001b[0m\u001b[0;34m\u001b[0m\u001b[0;34m\u001b[0m\u001b[0m\n",
      "\u001b[0;31mTypeError\u001b[0m: 'float' object is not iterable"
     ]
    }
   ],
   "source": [
    "next(spac[7].vertices(0.1))"
   ]
  },
  {
   "cell_type": "code",
   "execution_count": 38,
   "metadata": {
    "collapsed": true
   },
   "outputs": [
    {
     "data": {
      "text/plain": [
       "['DEFAULT_ATTRIBS',\n",
       " 'DXFATTRIBS',\n",
       " 'DXFTYPE',\n",
       " 'MIN_DXF_VERSION_FOR_EXPORT',\n",
       " '__class__',\n",
       " '__deepcopy__',\n",
       " '__delattr__',\n",
       " '__dict__',\n",
       " '__dir__',\n",
       " '__doc__',\n",
       " '__eq__',\n",
       " '__format__',\n",
       " '__ge__',\n",
       " '__getattribute__',\n",
       " '__gt__',\n",
       " '__hash__',\n",
       " '__init__',\n",
       " '__init_subclass__',\n",
       " '__le__',\n",
       " '__lt__',\n",
       " '__module__',\n",
       " '__ne__',\n",
       " '__new__',\n",
       " '__reduce__',\n",
       " '__reduce_ex__',\n",
       " '__repr__',\n",
       " '__setattr__',\n",
       " '__sizeof__',\n",
       " '__str__',\n",
       " '__subclasshook__',\n",
       " '__weakref__',\n",
       " '_copy_data',\n",
       " '_new_compound_entity',\n",
       " 'appdata',\n",
       " 'append_reactor_handle',\n",
       " 'apply_construction_tool',\n",
       " 'attached_entities',\n",
       " 'audit',\n",
       " 'construction_tool',\n",
       " 'copy',\n",
       " 'copy_to_layout',\n",
       " 'del_dxf_attrib',\n",
       " 'destroy',\n",
       " 'discard_app_data',\n",
       " 'discard_reactor_handle',\n",
       " 'discard_xdata',\n",
       " 'discard_xdata_list',\n",
       " 'doc',\n",
       " 'drawing',\n",
       " 'dxf',\n",
       " 'dxf_attrib_exists',\n",
       " 'dxfattribs',\n",
       " 'dxffactory',\n",
       " 'dxftype',\n",
       " 'embedded_objects',\n",
       " 'end_point',\n",
       " 'entitydb',\n",
       " 'export_acdb_entity',\n",
       " 'export_base_class',\n",
       " 'export_dxf',\n",
       " 'export_embedded_objects',\n",
       " 'export_entity',\n",
       " 'export_xdata',\n",
       " 'extension_dict',\n",
       " 'from_arc',\n",
       " 'from_text',\n",
       " 'get_app_data',\n",
       " 'get_dxf_attrib',\n",
       " 'get_extension_dict',\n",
       " 'get_flag_state',\n",
       " 'get_hyperlink',\n",
       " 'get_layout',\n",
       " 'get_reactors',\n",
       " 'get_xdata',\n",
       " 'get_xdata_list',\n",
       " 'graphic_properties',\n",
       " 'has_app_data',\n",
       " 'has_dxf_attrib',\n",
       " 'has_extension_dict',\n",
       " 'has_hyperlink',\n",
       " 'has_reactors',\n",
       " 'has_xdata',\n",
       " 'has_xdata_list',\n",
       " 'is_alive',\n",
       " 'is_supported_dxf_attrib',\n",
       " 'link_entity',\n",
       " 'linked_entities',\n",
       " 'load',\n",
       " 'load_dxf_attribs',\n",
       " 'load_tags',\n",
       " 'minor_axis',\n",
       " 'move_to_layout',\n",
       " 'new',\n",
       " 'ocs',\n",
       " 'params',\n",
       " 'post_new_hook',\n",
       " 'preprocess_export',\n",
       " 'priority',\n",
       " 'proxy_graphic',\n",
       " 'reactors',\n",
       " 'remove_dependencies',\n",
       " 'replace_xdata_list',\n",
       " 'rgb',\n",
       " 'rotate_axis',\n",
       " 'rotate_x',\n",
       " 'rotate_y',\n",
       " 'rotate_z',\n",
       " 'scale',\n",
       " 'scale_uniform',\n",
       " 'set_app_data',\n",
       " 'set_dxf_attrib',\n",
       " 'set_flag_state',\n",
       " 'set_hyperlink',\n",
       " 'set_owner',\n",
       " 'set_reactors',\n",
       " 'set_xdata',\n",
       " 'set_xdata_list',\n",
       " 'setup_app_data',\n",
       " 'shallow_copy',\n",
       " 'start_point',\n",
       " 'swap_axis',\n",
       " 'to_spline',\n",
       " 'transform',\n",
       " 'transform_to_wcs',\n",
       " 'translate',\n",
       " 'transparency',\n",
       " 'unlink_from_layout',\n",
       " 'update_dxf_attribs',\n",
       " 'update_handle',\n",
       " 'vertices',\n",
       " 'xdata',\n",
       " 'zorder']"
      ]
     },
     "execution_count": 38,
     "metadata": {},
     "output_type": "execute_result"
    }
   ],
   "source": [
    "dir(spac[7])"
   ]
  },
  {
   "cell_type": "code",
   "execution_count": 50,
   "metadata": {},
   "outputs": [
    {
     "data": {
      "text/plain": [
       "<class 'ezdxf.entities.lwpolyline.LWPolyline'> LWPOLYLINE(#364)"
      ]
     },
     "execution_count": 50,
     "metadata": {},
     "output_type": "execute_result"
    }
   ],
   "source": [
    "rect1"
   ]
  },
  {
   "cell_type": "code",
   "execution_count": 11,
   "metadata": {},
   "outputs": [],
   "source": [
    "p1 = edf.entities.point.Vector(1.22,.1333)"
   ]
  },
  {
   "cell_type": "code",
   "execution_count": 12,
   "metadata": {},
   "outputs": [
    {
     "data": {
      "text/plain": [
       "-1"
      ]
     },
     "execution_count": 12,
     "metadata": {},
     "output_type": "execute_result"
    }
   ],
   "source": [
    "edf.math.is_point_in_polygon_2d(p1,convex2)"
   ]
  },
  {
   "cell_type": "code",
   "execution_count": 57,
   "metadata": {},
   "outputs": [],
   "source": [
    "doc3 = edf.readfile('./resources/dxfs/full drawing test.dxf')\n",
    "msp3 = doc3.modelspace()"
   ]
  },
  {
   "cell_type": "code",
   "execution_count": 59,
   "metadata": {
    "scrolled": false
   },
   "outputs": [
    {
     "data": {
      "text/plain": [
       "21997"
      ]
     },
     "execution_count": 59,
     "metadata": {},
     "output_type": "execute_result"
    }
   ],
   "source": [
    "len(list(msp3.query()))"
   ]
  },
  {
   "cell_type": "code",
   "execution_count": 69,
   "metadata": {
    "collapsed": true
   },
   "outputs": [
    {
     "data": {
      "text/plain": [
       "['DEFAULT_ATTRIBS',\n",
       " 'DXFATTRIBS',\n",
       " 'DXFTYPE',\n",
       " 'MIN_DXF_VERSION_FOR_EXPORT',\n",
       " '__class__',\n",
       " '__deepcopy__',\n",
       " '__delattr__',\n",
       " '__delitem__',\n",
       " '__dict__',\n",
       " '__dir__',\n",
       " '__doc__',\n",
       " '__eq__',\n",
       " '__format__',\n",
       " '__ge__',\n",
       " '__getattribute__',\n",
       " '__getitem__',\n",
       " '__gt__',\n",
       " '__hash__',\n",
       " '__init__',\n",
       " '__init_subclass__',\n",
       " '__iter__',\n",
       " '__le__',\n",
       " '__len__',\n",
       " '__lt__',\n",
       " '__module__',\n",
       " '__ne__',\n",
       " '__new__',\n",
       " '__reduce__',\n",
       " '__reduce_ex__',\n",
       " '__repr__',\n",
       " '__setattr__',\n",
       " '__setitem__',\n",
       " '__sizeof__',\n",
       " '__str__',\n",
       " '__subclasshook__',\n",
       " '__weakref__',\n",
       " '_copy_data',\n",
       " '_new_compound_entity',\n",
       " 'appdata',\n",
       " 'append',\n",
       " 'append_points',\n",
       " 'append_reactor_handle',\n",
       " 'attached_entities',\n",
       " 'audit',\n",
       " 'clear',\n",
       " 'close',\n",
       " 'closed',\n",
       " 'copy',\n",
       " 'copy_to_layout',\n",
       " 'del_dxf_attrib',\n",
       " 'destroy',\n",
       " 'discard_app_data',\n",
       " 'discard_reactor_handle',\n",
       " 'discard_xdata',\n",
       " 'discard_xdata_list',\n",
       " 'doc',\n",
       " 'drawing',\n",
       " 'dxf',\n",
       " 'dxf_attrib_exists',\n",
       " 'dxfattribs',\n",
       " 'dxffactory',\n",
       " 'dxftype',\n",
       " 'embedded_objects',\n",
       " 'entitydb',\n",
       " 'explode',\n",
       " 'export_acdb_entity',\n",
       " 'export_base_class',\n",
       " 'export_dxf',\n",
       " 'export_embedded_objects',\n",
       " 'export_entity',\n",
       " 'export_xdata',\n",
       " 'extension_dict',\n",
       " 'from_text',\n",
       " 'get_app_data',\n",
       " 'get_dxf_attrib',\n",
       " 'get_extension_dict',\n",
       " 'get_flag_state',\n",
       " 'get_hyperlink',\n",
       " 'get_layout',\n",
       " 'get_points',\n",
       " 'get_reactors',\n",
       " 'get_xdata',\n",
       " 'get_xdata_list',\n",
       " 'graphic_properties',\n",
       " 'has_app_data',\n",
       " 'has_arc',\n",
       " 'has_dxf_attrib',\n",
       " 'has_extension_dict',\n",
       " 'has_hyperlink',\n",
       " 'has_reactors',\n",
       " 'has_xdata',\n",
       " 'has_xdata_list',\n",
       " 'insert',\n",
       " 'is_alive',\n",
       " 'is_supported_dxf_attrib',\n",
       " 'link_entity',\n",
       " 'linked_entities',\n",
       " 'load',\n",
       " 'load_dxf_attribs',\n",
       " 'load_tags',\n",
       " 'load_vertices',\n",
       " 'lwpoints',\n",
       " 'move_to_layout',\n",
       " 'new',\n",
       " 'ocs',\n",
       " 'points',\n",
       " 'post_new_hook',\n",
       " 'preprocess_export',\n",
       " 'priority',\n",
       " 'proxy_graphic',\n",
       " 'reactors',\n",
       " 'remove_dependencies',\n",
       " 'replace_xdata_list',\n",
       " 'rgb',\n",
       " 'rotate_axis',\n",
       " 'rotate_x',\n",
       " 'rotate_y',\n",
       " 'rotate_z',\n",
       " 'scale',\n",
       " 'scale_uniform',\n",
       " 'set_app_data',\n",
       " 'set_dxf_attrib',\n",
       " 'set_flag_state',\n",
       " 'set_hyperlink',\n",
       " 'set_owner',\n",
       " 'set_points',\n",
       " 'set_reactors',\n",
       " 'set_xdata',\n",
       " 'set_xdata_list',\n",
       " 'setup_app_data',\n",
       " 'shallow_copy',\n",
       " 'transform',\n",
       " 'transform_to_wcs',\n",
       " 'translate',\n",
       " 'transparency',\n",
       " 'unlink_from_layout',\n",
       " 'update_dxf_attribs',\n",
       " 'update_handle',\n",
       " 'vertices',\n",
       " 'vertices_in_ocs',\n",
       " 'vertices_in_wcs',\n",
       " 'virtual_entities',\n",
       " 'xdata',\n",
       " 'zorder']"
      ]
     },
     "execution_count": 69,
     "metadata": {},
     "output_type": "execute_result"
    }
   ],
   "source": [
    "dir(rect1)"
   ]
  },
  {
   "cell_type": "code",
   "execution_count": 100,
   "metadata": {},
   "outputs": [
    {
     "data": {
      "text/plain": [
       "[(15.000385519716, 15.00188723137928, 0.0, 0.0, 0.0),\n",
       " (17.500385519716, 15.00188723137928, 0.0, 0.0, 0.0),\n",
       " (17.500385519716, 12.50188723137928, 0.0, 0.0, 0.0),\n",
       " (15.000385519716, 12.50188723137928, 0.0, 0.0, 0.0)]"
      ]
     },
     "execution_count": 100,
     "metadata": {},
     "output_type": "execute_result"
    }
   ],
   "source": [
    "\n",
    "rect1.get_points()"
   ]
  },
  {
   "cell_type": "code",
   "execution_count": 116,
   "metadata": {
    "collapsed": true
   },
   "outputs": [
    {
     "data": {
      "text/plain": [
       "['DXF12',\n",
       " 'DXFAttr',\n",
       " 'DXFAttributes',\n",
       " 'DXFGraphic',\n",
       " 'DefSubclass',\n",
       " 'Matrix44',\n",
       " 'Point',\n",
       " 'SUBCLASS_MARKER',\n",
       " 'SubclassProcessor',\n",
       " 'TYPE_CHECKING',\n",
       " 'Vector',\n",
       " 'XType',\n",
       " '__all__',\n",
       " '__builtins__',\n",
       " '__cached__',\n",
       " '__doc__',\n",
       " '__file__',\n",
       " '__loader__',\n",
       " '__name__',\n",
       " '__package__',\n",
       " '__spec__',\n",
       " 'acdb_entity',\n",
       " 'acdb_point',\n",
       " 'base_class',\n",
       " 'register_entity',\n",
       " 'transform_thickness_and_extrusion_without_ocs']"
      ]
     },
     "execution_count": 116,
     "metadata": {},
     "output_type": "execute_result"
    }
   ],
   "source": [
    "dir(edf.entities.point)"
   ]
  },
  {
   "cell_type": "code",
   "execution_count": 118,
   "metadata": {
    "collapsed": true
   },
   "outputs": [
    {
     "data": {
      "text/plain": [
       "['__abs__',\n",
       " '__add__',\n",
       " '__bool__',\n",
       " '__class__',\n",
       " '__copy__',\n",
       " '__deepcopy__',\n",
       " '__delattr__',\n",
       " '__dir__',\n",
       " '__div__',\n",
       " '__doc__',\n",
       " '__eq__',\n",
       " '__format__',\n",
       " '__ge__',\n",
       " '__getattribute__',\n",
       " '__getitem__',\n",
       " '__gt__',\n",
       " '__hash__',\n",
       " '__init__',\n",
       " '__init_subclass__',\n",
       " '__iter__',\n",
       " '__le__',\n",
       " '__len__',\n",
       " '__lt__',\n",
       " '__module__',\n",
       " '__mul__',\n",
       " '__ne__',\n",
       " '__neg__',\n",
       " '__new__',\n",
       " '__radd__',\n",
       " '__rdiv__',\n",
       " '__reduce__',\n",
       " '__reduce_ex__',\n",
       " '__repr__',\n",
       " '__rmul__',\n",
       " '__rsub__',\n",
       " '__rtruediv__',\n",
       " '__setattr__',\n",
       " '__sizeof__',\n",
       " '__slots__',\n",
       " '__str__',\n",
       " '__sub__',\n",
       " '__subclasshook__',\n",
       " '__truediv__',\n",
       " '_x',\n",
       " '_y',\n",
       " '_z',\n",
       " 'angle',\n",
       " 'angle_about',\n",
       " 'angle_between',\n",
       " 'angle_deg',\n",
       " 'copy',\n",
       " 'cross',\n",
       " 'decompose',\n",
       " 'distance',\n",
       " 'dot',\n",
       " 'from_angle',\n",
       " 'from_deg_angle',\n",
       " 'generate',\n",
       " 'is_null',\n",
       " 'is_parallel',\n",
       " 'isclose',\n",
       " 'lerp',\n",
       " 'list',\n",
       " 'magnitude',\n",
       " 'magnitude_square',\n",
       " 'magnitude_xy',\n",
       " 'normalize',\n",
       " 'orthogonal',\n",
       " 'project',\n",
       " 'random',\n",
       " 'replace',\n",
       " 'reversed',\n",
       " 'rotate',\n",
       " 'rotate_deg',\n",
       " 'round',\n",
       " 'spatial_angle',\n",
       " 'spatial_angle_deg',\n",
       " 'vec2',\n",
       " 'x',\n",
       " 'xy',\n",
       " 'xyz',\n",
       " 'y',\n",
       " 'z']"
      ]
     },
     "execution_count": 118,
     "metadata": {},
     "output_type": "execute_result"
    }
   ],
   "source": [
    "dir(edf.entities.point.Vector)"
   ]
  },
  {
   "cell_type": "code",
   "execution_count": null,
   "metadata": {},
   "outputs": [],
   "source": []
  },
  {
   "cell_type": "code",
   "execution_count": 14,
   "metadata": {},
   "outputs": [],
   "source": [
    "poly_points = list(rect1.lwpoints)"
   ]
  },
  {
   "cell_type": "code",
   "execution_count": 15,
   "metadata": {},
   "outputs": [],
   "source": [
    "poly_Points = [ edf.entities.point.Vector(pt[0:2]) for pt in poly_points]"
   ]
  },
  {
   "cell_type": "code",
   "execution_count": 10,
   "metadata": {},
   "outputs": [],
   "source": [
    "qwe, wer, _  = poly_Points[0]"
   ]
  },
  {
   "cell_type": "code",
   "execution_count": 11,
   "metadata": {},
   "outputs": [
    {
     "data": {
      "text/plain": [
       "[Vector(15.000385519716, 15.00188723137928, 0.0),\n",
       " Vector(17.500385519716, 15.00188723137928, 0.0),\n",
       " Vector(17.500385519716, 12.50188723137928, 0.0),\n",
       " Vector(15.000385519716, 12.50188723137928, 0.0)]"
      ]
     },
     "execution_count": 11,
     "metadata": {},
     "output_type": "execute_result"
    }
   ],
   "source": [
    "poly_Points"
   ]
  },
  {
   "cell_type": "code",
   "execution_count": 134,
   "metadata": {},
   "outputs": [
    {
     "name": "stdout",
     "output_type": "stream",
     "text": [
      "0\n",
      "1\n",
      "2\n",
      "3\n"
     ]
    }
   ],
   "source": [
    "for i in range(len(poly_Points)):\n",
    "    print(i)"
   ]
  },
  {
   "cell_type": "code",
   "execution_count": 132,
   "metadata": {},
   "outputs": [],
   "source": [
    "import ezdxf as edf"
   ]
  },
  {
   "cell_type": "code",
   "execution_count": 16,
   "metadata": {},
   "outputs": [],
   "source": [
    "p2 = edf.entities.point.Vector(15.1,14.7)"
   ]
  },
  {
   "cell_type": "code",
   "execution_count": 17,
   "metadata": {},
   "outputs": [],
   "source": [
    "p3 = edf.entities.point.Vector(15.000385519716, 15.00188723137928, 0.0)"
   ]
  },
  {
   "cell_type": "code",
   "execution_count": 18,
   "metadata": {},
   "outputs": [
    {
     "data": {
      "text/plain": [
       "Vector(15.1, 14.7, 0.0)"
      ]
     },
     "execution_count": 18,
     "metadata": {},
     "output_type": "execute_result"
    }
   ],
   "source": [
    "p2"
   ]
  },
  {
   "cell_type": "code",
   "execution_count": 19,
   "metadata": {},
   "outputs": [
    {
     "data": {
      "text/plain": [
       "Vector(15.000385519716, 15.00188723137928, 0.0)"
      ]
     },
     "execution_count": 19,
     "metadata": {},
     "output_type": "execute_result"
    }
   ],
   "source": [
    "p3"
   ]
  },
  {
   "cell_type": "code",
   "execution_count": 18,
   "metadata": {},
   "outputs": [
    {
     "data": {
      "text/plain": [
       "[Vector(15.000385519716, 15.00188723137928, 0.0),\n",
       " Vector(17.500385519716, 15.00188723137928, 0.0),\n",
       " Vector(17.500385519716, 12.50188723137928, 0.0),\n",
       " Vector(15.000385519716, 12.50188723137928, 0.0)]"
      ]
     },
     "execution_count": 18,
     "metadata": {},
     "output_type": "execute_result"
    }
   ],
   "source": [
    "poly_Points"
   ]
  },
  {
   "cell_type": "code",
   "execution_count": 21,
   "metadata": {},
   "outputs": [
    {
     "data": {
      "text/plain": [
       "0"
      ]
     },
     "execution_count": 21,
     "metadata": {},
     "output_type": "execute_result"
    }
   ],
   "source": [
    "edf.math.is_point_in_polygon_2d(p3, convex2)"
   ]
  },
  {
   "cell_type": "code",
   "execution_count": 114,
   "metadata": {
    "collapsed": true
   },
   "outputs": [
    {
     "data": {
      "text/plain": [
       "['__abs__',\n",
       " '__add__',\n",
       " '__bool__',\n",
       " '__class__',\n",
       " '__copy__',\n",
       " '__deepcopy__',\n",
       " '__delattr__',\n",
       " '__dir__',\n",
       " '__div__',\n",
       " '__doc__',\n",
       " '__eq__',\n",
       " '__format__',\n",
       " '__ge__',\n",
       " '__getattribute__',\n",
       " '__getitem__',\n",
       " '__gt__',\n",
       " '__hash__',\n",
       " '__init__',\n",
       " '__init_subclass__',\n",
       " '__iter__',\n",
       " '__le__',\n",
       " '__len__',\n",
       " '__lt__',\n",
       " '__module__',\n",
       " '__mul__',\n",
       " '__ne__',\n",
       " '__neg__',\n",
       " '__new__',\n",
       " '__radd__',\n",
       " '__rdiv__',\n",
       " '__reduce__',\n",
       " '__reduce_ex__',\n",
       " '__repr__',\n",
       " '__rmul__',\n",
       " '__rsub__',\n",
       " '__rtruediv__',\n",
       " '__setattr__',\n",
       " '__sizeof__',\n",
       " '__slots__',\n",
       " '__str__',\n",
       " '__sub__',\n",
       " '__subclasshook__',\n",
       " '__truediv__',\n",
       " '_x',\n",
       " '_y',\n",
       " '_z',\n",
       " 'angle',\n",
       " 'angle_about',\n",
       " 'angle_between',\n",
       " 'angle_deg',\n",
       " 'copy',\n",
       " 'cross',\n",
       " 'decompose',\n",
       " 'distance',\n",
       " 'dot',\n",
       " 'from_angle',\n",
       " 'from_deg_angle',\n",
       " 'generate',\n",
       " 'is_null',\n",
       " 'is_parallel',\n",
       " 'isclose',\n",
       " 'lerp',\n",
       " 'list',\n",
       " 'magnitude',\n",
       " 'magnitude_square',\n",
       " 'magnitude_xy',\n",
       " 'normalize',\n",
       " 'orthogonal',\n",
       " 'project',\n",
       " 'random',\n",
       " 'replace',\n",
       " 'reversed',\n",
       " 'rotate',\n",
       " 'rotate_deg',\n",
       " 'round',\n",
       " 'spatial_angle',\n",
       " 'spatial_angle_deg',\n",
       " 'vec2',\n",
       " 'x',\n",
       " 'xy',\n",
       " 'xyz',\n",
       " 'y',\n",
       " 'z']"
      ]
     },
     "execution_count": 114,
     "metadata": {},
     "output_type": "execute_result"
    }
   ],
   "source": [
    "dir(edf.entities.point.Vector)"
   ]
  },
  {
   "cell_type": "code",
   "execution_count": 79,
   "metadata": {},
   "outputs": [],
   "source": [
    "doc4 = edf.readfile('resources/dxfs/Drawing7- dotted lines(dimensions).dxf')"
   ]
  },
  {
   "cell_type": "code",
   "execution_count": 73,
   "metadata": {},
   "outputs": [],
   "source": [
    "doc5 = edf.readfile('resources/dxfs/Drawing9- test layers.dxf')"
   ]
  },
  {
   "cell_type": "code",
   "execution_count": 76,
   "metadata": {},
   "outputs": [
    {
     "data": {
      "text/plain": [
       "[<class 'ezdxf.entities.lwpolyline.LWPolyline'> LWPOLYLINE(#456),\n",
       " <class 'ezdxf.entities.line.Line'> LINE(#457),\n",
       " <class 'ezdxf.entities.line.Line'> LINE(#458),\n",
       " <class 'ezdxf.entities.line.Line'> LINE(#459),\n",
       " <class 'ezdxf.entities.line.Line'> LINE(#45A),\n",
       " <class 'ezdxf.entities.line.Line'> LINE(#45B),\n",
       " <class 'ezdxf.entities.line.Line'> LINE(#45C),\n",
       " <class 'ezdxf.entities.line.Line'> LINE(#45D),\n",
       " <class 'ezdxf.entities.lwpolyline.LWPolyline'> LWPOLYLINE(#461),\n",
       " <class 'ezdxf.entities.lwpolyline.LWPolyline'> LWPOLYLINE(#462),\n",
       " <class 'ezdxf.entities.hatch.Hatch'> HATCH(#46F),\n",
       " <class 'ezdxf.entities.hatch.Hatch'> HATCH(#47D),\n",
       " <class 'ezdxf.entities.hatch.Hatch'> HATCH(#48F),\n",
       " <class 'ezdxf.entities.hatch.Hatch'> HATCH(#499),\n",
       " <class 'ezdxf.entities.hatch.Hatch'> HATCH(#4AC),\n",
       " <class 'ezdxf.entities.hatch.Hatch'> HATCH(#4BC),\n",
       " <class 'ezdxf.entities.hatch.Hatch'> HATCH(#4C6),\n",
       " <class 'ezdxf.entities.hatch.Hatch'> HATCH(#4D0),\n",
       " <class 'ezdxf.entities.arc.Arc'> ARC(#4D1),\n",
       " <class 'ezdxf.entities.spline.Spline'> SPLINE(#4D3),\n",
       " <class 'ezdxf.entities.dimension.Dimension'> DIMENSION(#4D6),\n",
       " <class 'ezdxf.entities.dimension.Dimension'> DIMENSION(#4F0),\n",
       " <class 'ezdxf.entities.mtext.MText'> MTEXT(#50C),\n",
       " <class 'ezdxf.entities.line.Line'> LINE(#54A),\n",
       " <class 'ezdxf.entities.line.Line'> LINE(#553),\n",
       " <class 'ezdxf.entities.line.Line'> LINE(#55B),\n",
       " <class 'ezdxf.entities.line.Line'> LINE(#25A),\n",
       " <class 'ezdxf.entities.line.Line'> LINE(#25B),\n",
       " <class 'ezdxf.entities.line.Line'> LINE(#25C),\n",
       " <class 'ezdxf.entities.line.Line'> LINE(#25D),\n",
       " <class 'ezdxf.entities.solid.Solid'> SOLID(#25E),\n",
       " <class 'ezdxf.entities.solid.Solid'> SOLID(#25F),\n",
       " <class 'ezdxf.entities.mtext.MText'> MTEXT(#260),\n",
       " <class 'ezdxf.entities.point.Point'> POINT(#261),\n",
       " <class 'ezdxf.entities.point.Point'> POINT(#262),\n",
       " <class 'ezdxf.entities.point.Point'> POINT(#263),\n",
       " <class 'ezdxf.entities.line.Line'> LINE(#274),\n",
       " <class 'ezdxf.entities.line.Line'> LINE(#275),\n",
       " <class 'ezdxf.entities.line.Line'> LINE(#276),\n",
       " <class 'ezdxf.entities.line.Line'> LINE(#277),\n",
       " <class 'ezdxf.entities.solid.Solid'> SOLID(#278),\n",
       " <class 'ezdxf.entities.solid.Solid'> SOLID(#279),\n",
       " <class 'ezdxf.entities.mtext.MText'> MTEXT(#27A),\n",
       " <class 'ezdxf.entities.point.Point'> POINT(#27B),\n",
       " <class 'ezdxf.entities.point.Point'> POINT(#27C),\n",
       " <class 'ezdxf.entities.point.Point'> POINT(#27D),\n",
       " <class 'ezdxf.entities.line.Line'> LINE(#2E3),\n",
       " <class 'ezdxf.entities.line.Line'> LINE(#2E4),\n",
       " <class 'ezdxf.entities.line.Line'> LINE(#2E5),\n",
       " <class 'ezdxf.entities.line.Line'> LINE(#2E6),\n",
       " <class 'ezdxf.entities.solid.Solid'> SOLID(#2E7),\n",
       " <class 'ezdxf.entities.solid.Solid'> SOLID(#2E8),\n",
       " <class 'ezdxf.entities.mtext.MText'> MTEXT(#2E9),\n",
       " <class 'ezdxf.entities.point.Point'> POINT(#2EA),\n",
       " <class 'ezdxf.entities.point.Point'> POINT(#2EB),\n",
       " <class 'ezdxf.entities.point.Point'> POINT(#2EC),\n",
       " <class 'ezdxf.entities.line.Line'> LINE(#2FD),\n",
       " <class 'ezdxf.entities.line.Line'> LINE(#2FE),\n",
       " <class 'ezdxf.entities.line.Line'> LINE(#2FF),\n",
       " <class 'ezdxf.entities.line.Line'> LINE(#300),\n",
       " <class 'ezdxf.entities.solid.Solid'> SOLID(#301),\n",
       " <class 'ezdxf.entities.solid.Solid'> SOLID(#302),\n",
       " <class 'ezdxf.entities.mtext.MText'> MTEXT(#303),\n",
       " <class 'ezdxf.entities.point.Point'> POINT(#304),\n",
       " <class 'ezdxf.entities.point.Point'> POINT(#305),\n",
       " <class 'ezdxf.entities.point.Point'> POINT(#306),\n",
       " <class 'ezdxf.entities.line.Line'> LINE(#334),\n",
       " <class 'ezdxf.entities.line.Line'> LINE(#335),\n",
       " <class 'ezdxf.entities.line.Line'> LINE(#336),\n",
       " <class 'ezdxf.entities.line.Line'> LINE(#337),\n",
       " <class 'ezdxf.entities.solid.Solid'> SOLID(#338),\n",
       " <class 'ezdxf.entities.solid.Solid'> SOLID(#339),\n",
       " <class 'ezdxf.entities.mtext.MText'> MTEXT(#33A),\n",
       " <class 'ezdxf.entities.point.Point'> POINT(#33B),\n",
       " <class 'ezdxf.entities.point.Point'> POINT(#33C),\n",
       " <class 'ezdxf.entities.point.Point'> POINT(#33D),\n",
       " <class 'ezdxf.entities.line.Line'> LINE(#34E),\n",
       " <class 'ezdxf.entities.line.Line'> LINE(#34F),\n",
       " <class 'ezdxf.entities.line.Line'> LINE(#350),\n",
       " <class 'ezdxf.entities.line.Line'> LINE(#351),\n",
       " <class 'ezdxf.entities.solid.Solid'> SOLID(#352),\n",
       " <class 'ezdxf.entities.solid.Solid'> SOLID(#353),\n",
       " <class 'ezdxf.entities.mtext.MText'> MTEXT(#354),\n",
       " <class 'ezdxf.entities.point.Point'> POINT(#355),\n",
       " <class 'ezdxf.entities.point.Point'> POINT(#356),\n",
       " <class 'ezdxf.entities.point.Point'> POINT(#357),\n",
       " <class 'ezdxf.entities.line.Line'> LINE(#379),\n",
       " <class 'ezdxf.entities.line.Line'> LINE(#37A),\n",
       " <class 'ezdxf.entities.line.Line'> LINE(#37B),\n",
       " <class 'ezdxf.entities.line.Line'> LINE(#37C),\n",
       " <class 'ezdxf.entities.solid.Solid'> SOLID(#37D),\n",
       " <class 'ezdxf.entities.solid.Solid'> SOLID(#37E),\n",
       " <class 'ezdxf.entities.mtext.MText'> MTEXT(#37F),\n",
       " <class 'ezdxf.entities.point.Point'> POINT(#380),\n",
       " <class 'ezdxf.entities.point.Point'> POINT(#381),\n",
       " <class 'ezdxf.entities.point.Point'> POINT(#382),\n",
       " <class 'ezdxf.entities.line.Line'> LINE(#393),\n",
       " <class 'ezdxf.entities.line.Line'> LINE(#394),\n",
       " <class 'ezdxf.entities.line.Line'> LINE(#395),\n",
       " <class 'ezdxf.entities.line.Line'> LINE(#396),\n",
       " <class 'ezdxf.entities.solid.Solid'> SOLID(#397),\n",
       " <class 'ezdxf.entities.solid.Solid'> SOLID(#398),\n",
       " <class 'ezdxf.entities.mtext.MText'> MTEXT(#399),\n",
       " <class 'ezdxf.entities.point.Point'> POINT(#39A),\n",
       " <class 'ezdxf.entities.point.Point'> POINT(#39B),\n",
       " <class 'ezdxf.entities.point.Point'> POINT(#39C),\n",
       " <class 'ezdxf.entities.line.Line'> LINE(#3AD),\n",
       " <class 'ezdxf.entities.line.Line'> LINE(#3AE),\n",
       " <class 'ezdxf.entities.line.Line'> LINE(#3AF),\n",
       " <class 'ezdxf.entities.line.Line'> LINE(#3B0),\n",
       " <class 'ezdxf.entities.solid.Solid'> SOLID(#3B1),\n",
       " <class 'ezdxf.entities.solid.Solid'> SOLID(#3B2),\n",
       " <class 'ezdxf.entities.mtext.MText'> MTEXT(#3B3),\n",
       " <class 'ezdxf.entities.point.Point'> POINT(#3B4),\n",
       " <class 'ezdxf.entities.point.Point'> POINT(#3B5),\n",
       " <class 'ezdxf.entities.point.Point'> POINT(#3B6),\n",
       " <class 'ezdxf.entities.line.Line'> LINE(#3C7),\n",
       " <class 'ezdxf.entities.line.Line'> LINE(#3C8),\n",
       " <class 'ezdxf.entities.line.Line'> LINE(#3C9),\n",
       " <class 'ezdxf.entities.line.Line'> LINE(#3CA),\n",
       " <class 'ezdxf.entities.solid.Solid'> SOLID(#3CB),\n",
       " <class 'ezdxf.entities.solid.Solid'> SOLID(#3CC),\n",
       " <class 'ezdxf.entities.mtext.MText'> MTEXT(#3CD),\n",
       " <class 'ezdxf.entities.point.Point'> POINT(#3CE),\n",
       " <class 'ezdxf.entities.point.Point'> POINT(#3CF),\n",
       " <class 'ezdxf.entities.point.Point'> POINT(#3D0),\n",
       " <class 'ezdxf.entities.line.Line'> LINE(#43C),\n",
       " <class 'ezdxf.entities.line.Line'> LINE(#43D),\n",
       " <class 'ezdxf.entities.line.Line'> LINE(#43E),\n",
       " <class 'ezdxf.entities.line.Line'> LINE(#43F),\n",
       " <class 'ezdxf.entities.solid.Solid'> SOLID(#440),\n",
       " <class 'ezdxf.entities.solid.Solid'> SOLID(#441),\n",
       " <class 'ezdxf.entities.mtext.MText'> MTEXT(#442),\n",
       " <class 'ezdxf.entities.point.Point'> POINT(#443),\n",
       " <class 'ezdxf.entities.point.Point'> POINT(#444),\n",
       " <class 'ezdxf.entities.point.Point'> POINT(#445),\n",
       " <class 'ezdxf.entities.line.Line'> LINE(#518),\n",
       " <class 'ezdxf.entities.line.Line'> LINE(#519),\n",
       " <class 'ezdxf.entities.line.Line'> LINE(#51A),\n",
       " <class 'ezdxf.entities.line.Line'> LINE(#51B),\n",
       " <class 'ezdxf.entities.solid.Solid'> SOLID(#51C),\n",
       " <class 'ezdxf.entities.solid.Solid'> SOLID(#51D),\n",
       " <class 'ezdxf.entities.mtext.MText'> MTEXT(#51E),\n",
       " <class 'ezdxf.entities.point.Point'> POINT(#51F),\n",
       " <class 'ezdxf.entities.point.Point'> POINT(#520),\n",
       " <class 'ezdxf.entities.point.Point'> POINT(#521),\n",
       " <class 'ezdxf.entities.line.Line'> LINE(#540),\n",
       " <class 'ezdxf.entities.line.Line'> LINE(#541),\n",
       " <class 'ezdxf.entities.line.Line'> LINE(#542),\n",
       " <class 'ezdxf.entities.line.Line'> LINE(#543),\n",
       " <class 'ezdxf.entities.solid.Solid'> SOLID(#544),\n",
       " <class 'ezdxf.entities.solid.Solid'> SOLID(#545),\n",
       " <class 'ezdxf.entities.mtext.MText'> MTEXT(#546),\n",
       " <class 'ezdxf.entities.point.Point'> POINT(#547),\n",
       " <class 'ezdxf.entities.point.Point'> POINT(#548),\n",
       " <class 'ezdxf.entities.point.Point'> POINT(#549)]"
      ]
     },
     "execution_count": 76,
     "metadata": {},
     "output_type": "execute_result"
    }
   ],
   "source": [
    "list(doc5.query())"
   ]
  },
  {
   "cell_type": "code",
   "execution_count": 18,
   "metadata": {},
   "outputs": [
    {
     "data": {
      "text/plain": [
       "[<class 'ezdxf.entities.layer.Layer'> LAYER(#10),\n",
       " <class 'ezdxf.entities.layer.Layer'> LAYER(#24B),\n",
       " <class 'ezdxf.entities.layer.Layer'> LAYER(#45E),\n",
       " <class 'ezdxf.entities.layer.Layer'> LAYER(#4D5)]"
      ]
     },
     "execution_count": 18,
     "metadata": {},
     "output_type": "execute_result"
    }
   ],
   "source": [
    "list(doc5.layers)"
   ]
  },
  {
   "cell_type": "code",
   "execution_count": 69,
   "metadata": {},
   "outputs": [
    {
     "data": {
      "text/plain": [
       "{'handle': '4D5',\n",
       " 'owner': '2',\n",
       " 'name': 'text',\n",
       " 'flags': 0,\n",
       " 'color': 7,\n",
       " 'linetype': 'Continuous',\n",
       " 'lineweight': -3,\n",
       " 'plotstyle_handle': 'F',\n",
       " 'material_handle': '98',\n",
       " 'unknown1': '0'}"
      ]
     },
     "execution_count": 69,
     "metadata": {},
     "output_type": "execute_result"
    }
   ],
   "source": [
    "list(doc5.layers)[3].dxfattribs()"
   ]
  },
  {
   "cell_type": "code",
   "execution_count": 23,
   "metadata": {},
   "outputs": [],
   "source": [
    "lay_cls = list(doc5.layers)[2]"
   ]
  },
  {
   "cell_type": "code",
   "execution_count": null,
   "metadata": {},
   "outputs": [],
   "source": [
    "for i in list(doc5.layers):\n",
    "    if i.dxf.name"
   ]
  },
  {
   "cell_type": "code",
   "execution_count": 72,
   "metadata": {},
   "outputs": [
    {
     "data": {
      "text/plain": [
       "[<class 'ezdxf.entities.lwpolyline.LWPolyline'> LWPOLYLINE(#456),\n",
       " <class 'ezdxf.entities.line.Line'> LINE(#457),\n",
       " <class 'ezdxf.entities.line.Line'> LINE(#458),\n",
       " <class 'ezdxf.entities.line.Line'> LINE(#459),\n",
       " <class 'ezdxf.entities.line.Line'> LINE(#45A),\n",
       " <class 'ezdxf.entities.line.Line'> LINE(#45B),\n",
       " <class 'ezdxf.entities.line.Line'> LINE(#45C),\n",
       " <class 'ezdxf.entities.line.Line'> LINE(#45D),\n",
       " <class 'ezdxf.entities.lwpolyline.LWPolyline'> LWPOLYLINE(#461),\n",
       " <class 'ezdxf.entities.lwpolyline.LWPolyline'> LWPOLYLINE(#462),\n",
       " <class 'ezdxf.entities.hatch.Hatch'> HATCH(#46F),\n",
       " <class 'ezdxf.entities.hatch.Hatch'> HATCH(#47D),\n",
       " <class 'ezdxf.entities.hatch.Hatch'> HATCH(#48F),\n",
       " <class 'ezdxf.entities.hatch.Hatch'> HATCH(#499),\n",
       " <class 'ezdxf.entities.hatch.Hatch'> HATCH(#4AC),\n",
       " <class 'ezdxf.entities.hatch.Hatch'> HATCH(#4BC),\n",
       " <class 'ezdxf.entities.hatch.Hatch'> HATCH(#4C6),\n",
       " <class 'ezdxf.entities.hatch.Hatch'> HATCH(#4D0),\n",
       " <class 'ezdxf.entities.arc.Arc'> ARC(#4D1),\n",
       " <class 'ezdxf.entities.spline.Spline'> SPLINE(#4D3),\n",
       " <class 'ezdxf.entities.dimension.Dimension'> DIMENSION(#4D6),\n",
       " <class 'ezdxf.entities.dimension.Dimension'> DIMENSION(#4F0),\n",
       " <class 'ezdxf.entities.mtext.MText'> MTEXT(#50C),\n",
       " <class 'ezdxf.entities.line.Line'> LINE(#54A),\n",
       " <class 'ezdxf.entities.line.Line'> LINE(#553),\n",
       " <class 'ezdxf.entities.line.Line'> LINE(#55B)]"
      ]
     },
     "execution_count": 72,
     "metadata": {},
     "output_type": "execute_result"
    }
   ],
   "source": [
    "list(lay_cls.doc.modelspace().query())"
   ]
  },
  {
   "cell_type": "code",
   "execution_count": null,
   "metadata": {},
   "outputs": [],
   "source": []
  },
  {
   "cell_type": "code",
   "execution_count": 10,
   "metadata": {},
   "outputs": [],
   "source": [
    "msp5 = doc5.modelspace()"
   ]
  },
  {
   "cell_type": "code",
   "execution_count": 11,
   "metadata": {},
   "outputs": [],
   "source": [
    "lst5 = list(msp5.query())"
   ]
  },
  {
   "cell_type": "code",
   "execution_count": 64,
   "metadata": {
    "scrolled": false
   },
   "outputs": [
    {
     "data": {
      "text/plain": [
       "'layer'"
      ]
     },
     "execution_count": 64,
     "metadata": {},
     "output_type": "execute_result"
    }
   ],
   "source": [
    "lst5[9].DXFATTRIBS['layer'].name"
   ]
  },
  {
   "cell_type": "code",
   "execution_count": 16,
   "metadata": {},
   "outputs": [
    {
     "data": {
      "text/plain": [
       "[]"
      ]
     },
     "execution_count": 16,
     "metadata": {},
     "output_type": "execute_result"
    }
   ],
   "source": [
    "msp5.query('LAYER')"
   ]
  },
  {
   "cell_type": "code",
   "execution_count": 13,
   "metadata": {
    "collapsed": true
   },
   "outputs": [
    {
     "data": {
      "text/plain": [
       "['DRAW_VIEWPORTS_FIRST',\n",
       " 'INITIALIZING',\n",
       " 'MODEL_TYPE',\n",
       " 'PLOT_CENTERED',\n",
       " 'PLOT_HIDDEN',\n",
       " 'PLOT_PLOTSTYLES',\n",
       " 'PLOT_VIEWPORT_BORDERS',\n",
       " 'PREV_PLOT_INIT',\n",
       " 'PRINT_LINEWEIGHTS',\n",
       " 'SCALE_LINEWEIGHTS',\n",
       " 'SHOW_PLOT_STYLES',\n",
       " 'UPDATE_PAPER',\n",
       " 'USE_STANDARD_SCALE',\n",
       " 'ZOOM_TO_PAPER_ON_UPDATE',\n",
       " '__class__',\n",
       " '__contains__',\n",
       " '__delattr__',\n",
       " '__dict__',\n",
       " '__dir__',\n",
       " '__doc__',\n",
       " '__eq__',\n",
       " '__format__',\n",
       " '__ge__',\n",
       " '__getattribute__',\n",
       " '__getitem__',\n",
       " '__gt__',\n",
       " '__hash__',\n",
       " '__init__',\n",
       " '__init_subclass__',\n",
       " '__iter__',\n",
       " '__le__',\n",
       " '__len__',\n",
       " '__lt__',\n",
       " '__module__',\n",
       " '__ne__',\n",
       " '__new__',\n",
       " '__reduce__',\n",
       " '__reduce_ex__',\n",
       " '__repr__',\n",
       " '__setattr__',\n",
       " '__sizeof__',\n",
       " '__str__',\n",
       " '__subclasshook__',\n",
       " '__weakref__',\n",
       " '_add_acis_entiy',\n",
       " '_add_quadrilateral',\n",
       " '_four_points',\n",
       " '_repair_owner_tags',\n",
       " '_save_dimstyle',\n",
       " 'add_3dface',\n",
       " 'add_3dsolid',\n",
       " 'add_aligned_dim',\n",
       " 'add_angular_3p_dim',\n",
       " 'add_angular_dim',\n",
       " 'add_arc',\n",
       " 'add_arrow',\n",
       " 'add_arrow_blockref',\n",
       " 'add_attdef',\n",
       " 'add_attrib',\n",
       " 'add_auto_blockref',\n",
       " 'add_blockref',\n",
       " 'add_body',\n",
       " 'add_circle',\n",
       " 'add_closed_rational_spline',\n",
       " 'add_closed_spline',\n",
       " 'add_diameter_dim',\n",
       " 'add_diameter_dim_2p',\n",
       " 'add_ellipse',\n",
       " 'add_entity',\n",
       " 'add_extruded_surface',\n",
       " 'add_foreign_entity',\n",
       " 'add_hatch',\n",
       " 'add_image',\n",
       " 'add_leader',\n",
       " 'add_line',\n",
       " 'add_linear_dim',\n",
       " 'add_lofted_surface',\n",
       " 'add_lwpolyline',\n",
       " 'add_mesh',\n",
       " 'add_mtext',\n",
       " 'add_multi_point_linear_dim',\n",
       " 'add_open_spline',\n",
       " 'add_ordinate_dim',\n",
       " 'add_point',\n",
       " 'add_polyface',\n",
       " 'add_polyline2d',\n",
       " 'add_polyline3d',\n",
       " 'add_polymesh',\n",
       " 'add_radius_dim',\n",
       " 'add_radius_dim_2p',\n",
       " 'add_radius_dim_cra',\n",
       " 'add_rational_spline',\n",
       " 'add_ray',\n",
       " 'add_region',\n",
       " 'add_revolved_surface',\n",
       " 'add_shape',\n",
       " 'add_solid',\n",
       " 'add_spline',\n",
       " 'add_spline_control_frame',\n",
       " 'add_surface',\n",
       " 'add_swept_surface',\n",
       " 'add_text',\n",
       " 'add_trace',\n",
       " 'add_underlay',\n",
       " 'add_xline',\n",
       " 'block_record',\n",
       " 'block_record_handle',\n",
       " 'block_record_name',\n",
       " 'delete_all_entities',\n",
       " 'delete_entity',\n",
       " 'destroy',\n",
       " 'doc',\n",
       " 'draw_viewports_first',\n",
       " 'drawing',\n",
       " 'dxf',\n",
       " 'dxf_layout',\n",
       " 'dxffactory',\n",
       " 'dxfversion',\n",
       " 'entity_space',\n",
       " 'entitydb',\n",
       " 'get_entity_by_handle',\n",
       " 'get_extension_dict',\n",
       " 'get_geodata',\n",
       " 'get_redraw_order',\n",
       " 'get_sortents_table',\n",
       " 'groupby',\n",
       " 'is_active_paperspace',\n",
       " 'is_alive',\n",
       " 'is_any_layout',\n",
       " 'is_any_paperspace',\n",
       " 'is_block_layout',\n",
       " 'is_modelspace',\n",
       " 'layout_key',\n",
       " 'load',\n",
       " 'model_type',\n",
       " 'move_to_layout',\n",
       " 'name',\n",
       " 'new',\n",
       " 'new_entity',\n",
       " 'new_geodata',\n",
       " 'plot_centered',\n",
       " 'plot_flags_initializing',\n",
       " 'plot_hidden',\n",
       " 'plot_viewport_borders',\n",
       " 'prev_plot_init',\n",
       " 'print_lineweights',\n",
       " 'query',\n",
       " 'rename',\n",
       " 'reset_extends',\n",
       " 'scale_lineweights',\n",
       " 'set_plot_flags',\n",
       " 'set_plot_style',\n",
       " 'set_plot_type',\n",
       " 'set_plot_window',\n",
       " 'set_redraw_order',\n",
       " 'show_plot_styles',\n",
       " 'unlink_entity',\n",
       " 'update_paper',\n",
       " 'use_plot_styles',\n",
       " 'use_standard_scale',\n",
       " 'zoom_to_paper_on_update']"
      ]
     },
     "execution_count": 13,
     "metadata": {},
     "output_type": "execute_result"
    }
   ],
   "source": [
    "dir(msp5)"
   ]
  },
  {
   "cell_type": "code",
   "execution_count": 53,
   "metadata": {
    "scrolled": true
   },
   "outputs": [
    {
     "data": {
      "text/plain": [
       "['DEFAULT_ATTRIBS',\n",
       " 'DXFATTRIBS',\n",
       " 'DXFTYPE',\n",
       " 'MIN_DXF_VERSION_FOR_EXPORT',\n",
       " '__class__',\n",
       " '__deepcopy__',\n",
       " '__delattr__',\n",
       " '__delitem__',\n",
       " '__dict__',\n",
       " '__dir__',\n",
       " '__doc__',\n",
       " '__eq__',\n",
       " '__format__',\n",
       " '__ge__',\n",
       " '__getattribute__',\n",
       " '__getitem__',\n",
       " '__gt__',\n",
       " '__hash__',\n",
       " '__init__',\n",
       " '__init_subclass__',\n",
       " '__iter__',\n",
       " '__le__',\n",
       " '__len__',\n",
       " '__lt__',\n",
       " '__module__',\n",
       " '__ne__',\n",
       " '__new__',\n",
       " '__reduce__',\n",
       " '__reduce_ex__',\n",
       " '__repr__',\n",
       " '__setattr__',\n",
       " '__setitem__',\n",
       " '__sizeof__',\n",
       " '__str__',\n",
       " '__subclasshook__',\n",
       " '__weakref__',\n",
       " '_copy_data',\n",
       " '_new_compound_entity',\n",
       " 'appdata',\n",
       " 'append',\n",
       " 'append_points',\n",
       " 'append_reactor_handle',\n",
       " 'attached_entities',\n",
       " 'audit',\n",
       " 'clear',\n",
       " 'close',\n",
       " 'closed',\n",
       " 'copy',\n",
       " 'copy_to_layout',\n",
       " 'del_dxf_attrib',\n",
       " 'destroy',\n",
       " 'discard_app_data',\n",
       " 'discard_reactor_handle',\n",
       " 'discard_xdata',\n",
       " 'discard_xdata_list',\n",
       " 'doc',\n",
       " 'drawing',\n",
       " 'dxf',\n",
       " 'dxf_attrib_exists',\n",
       " 'dxfattribs',\n",
       " 'dxffactory',\n",
       " 'dxftype',\n",
       " 'embedded_objects',\n",
       " 'entitydb',\n",
       " 'explode',\n",
       " 'export_acdb_entity',\n",
       " 'export_base_class',\n",
       " 'export_dxf',\n",
       " 'export_embedded_objects',\n",
       " 'export_entity',\n",
       " 'export_xdata',\n",
       " 'extension_dict',\n",
       " 'from_text',\n",
       " 'get_app_data',\n",
       " 'get_dxf_attrib',\n",
       " 'get_extension_dict',\n",
       " 'get_flag_state',\n",
       " 'get_hyperlink',\n",
       " 'get_layout',\n",
       " 'get_points',\n",
       " 'get_reactors',\n",
       " 'get_xdata',\n",
       " 'get_xdata_list',\n",
       " 'graphic_properties',\n",
       " 'has_app_data',\n",
       " 'has_arc',\n",
       " 'has_dxf_attrib',\n",
       " 'has_extension_dict',\n",
       " 'has_hyperlink',\n",
       " 'has_reactors',\n",
       " 'has_xdata',\n",
       " 'has_xdata_list',\n",
       " 'insert',\n",
       " 'is_alive',\n",
       " 'is_supported_dxf_attrib',\n",
       " 'link_entity',\n",
       " 'linked_entities',\n",
       " 'load',\n",
       " 'load_dxf_attribs',\n",
       " 'load_tags',\n",
       " 'load_vertices',\n",
       " 'lwpoints',\n",
       " 'move_to_layout',\n",
       " 'new',\n",
       " 'ocs',\n",
       " 'points',\n",
       " 'post_new_hook',\n",
       " 'preprocess_export',\n",
       " 'priority',\n",
       " 'proxy_graphic',\n",
       " 'reactors',\n",
       " 'remove_dependencies',\n",
       " 'replace_xdata_list',\n",
       " 'rgb',\n",
       " 'rotate_axis',\n",
       " 'rotate_x',\n",
       " 'rotate_y',\n",
       " 'rotate_z',\n",
       " 'scale',\n",
       " 'scale_uniform',\n",
       " 'set_app_data',\n",
       " 'set_dxf_attrib',\n",
       " 'set_flag_state',\n",
       " 'set_hyperlink',\n",
       " 'set_owner',\n",
       " 'set_points',\n",
       " 'set_reactors',\n",
       " 'set_xdata',\n",
       " 'set_xdata_list',\n",
       " 'setup_app_data',\n",
       " 'shallow_copy',\n",
       " 'transform',\n",
       " 'transform_to_wcs',\n",
       " 'translate',\n",
       " 'transparency',\n",
       " 'unlink_from_layout',\n",
       " 'update_dxf_attribs',\n",
       " 'update_handle',\n",
       " 'vertices',\n",
       " 'vertices_in_ocs',\n",
       " 'vertices_in_wcs',\n",
       " 'virtual_entities',\n",
       " 'xdata',\n",
       " 'zorder']"
      ]
     },
     "execution_count": 53,
     "metadata": {},
     "output_type": "execute_result"
    }
   ],
   "source": [
    "dir(lst5[0])"
   ]
  },
  {
   "cell_type": "code",
   "execution_count": 83,
   "metadata": {},
   "outputs": [],
   "source": [
    "\n",
    "testlst = list(msp4.query())"
   ]
  },
  {
   "cell_type": "code",
   "execution_count": 84,
   "metadata": {},
   "outputs": [
    {
     "data": {
      "text/plain": [
       "[<class 'ezdxf.entities.line.Line'> LINE(#44A),\n",
       " <class 'ezdxf.entities.line.Line'> LINE(#44B),\n",
       " <class 'ezdxf.entities.line.Line'> LINE(#44C),\n",
       " <class 'ezdxf.entities.line.Line'> LINE(#44D),\n",
       " <class 'ezdxf.entities.lwpolyline.LWPolyline'> LWPOLYLINE(#44F),\n",
       " <class 'ezdxf.entities.dimension.Dimension'> DIMENSION(#458),\n",
       " <class 'ezdxf.entities.dimension.Dimension'> DIMENSION(#472),\n",
       " <class 'ezdxf.entities.dimension.Dimension'> DIMENSION(#48C),\n",
       " <class 'ezdxf.entities.dimension.Dimension'> DIMENSION(#4BA)]"
      ]
     },
     "execution_count": 84,
     "metadata": {},
     "output_type": "execute_result"
    }
   ],
   "source": [
    "testlst"
   ]
  },
  {
   "cell_type": "code",
   "execution_count": 87,
   "metadata": {},
   "outputs": [
    {
     "data": {
      "text/plain": [
       "[(20.36001265366981, 14.14643604014559, 0.0, 0.0, 0.0),\n",
       " (22.36001265366981, 14.14643604014559, 0.0, 0.0, 0.0),\n",
       " (22.36001265366981, 11.14643604014559, 0.0, 0.0, 0.0),\n",
       " (20.36001265366981, 11.14643604014559, 0.0, 0.0, 0.0)]"
      ]
     },
     "execution_count": 87,
     "metadata": {},
     "output_type": "execute_result"
    }
   ],
   "source": [
    "testlst[4].get_points()"
   ]
  },
  {
   "cell_type": "code",
   "execution_count": 22,
   "metadata": {},
   "outputs": [
    {
     "data": {
      "text/plain": [
       "[Vec2(15.000385519716, 12.50188723137928),\n",
       " Vec2(15.000385519716, 15.00188723137928),\n",
       " Vec2(17.500385519716, 15.00188723137928),\n",
       " Vec2(17.500385519716, 12.50188723137928)]"
      ]
     },
     "execution_count": 22,
     "metadata": {},
     "output_type": "execute_result"
    }
   ],
   "source": [
    "convex2"
   ]
  },
  {
   "cell_type": "code",
   "execution_count": 23,
   "metadata": {},
   "outputs": [],
   "source": [
    "doc2 = edf.readfile('resources/dxfs/Drawing6- 2 circles(dimensions).dxf')\n",
    "msp2 = doc2.modelspace()"
   ]
  },
  {
   "cell_type": "code",
   "execution_count": 25,
   "metadata": {},
   "outputs": [
    {
     "data": {
      "text/plain": [
       "[<class 'ezdxf.entities.line.Line'> LINE(#22A),\n",
       " <class 'ezdxf.entities.line.Line'> LINE(#22B),\n",
       " <class 'ezdxf.entities.line.Line'> LINE(#22C),\n",
       " <class 'ezdxf.entities.line.Line'> LINE(#22D),\n",
       " <class 'ezdxf.entities.dimension.Dimension'> DIMENSION(#24A),\n",
       " <class 'ezdxf.entities.dimension.Dimension'> DIMENSION(#265),\n",
       " <class 'ezdxf.entities.circle.Circle'> CIRCLE(#3DC),\n",
       " <class 'ezdxf.entities.ellipse.Ellipse'> ELLIPSE(#3DD),\n",
       " <class 'ezdxf.entities.dimension.Dimension'> DIMENSION(#401)]"
      ]
     },
     "execution_count": 25,
     "metadata": {},
     "output_type": "execute_result"
    }
   ],
   "source": [
    "\n"
   ]
  },
  {
   "cell_type": "code",
   "execution_count": 26,
   "metadata": {},
   "outputs": [],
   "source": [
    "circ = list(msp2.query())[6]"
   ]
  },
  {
   "cell_type": "code",
   "execution_count": 27,
   "metadata": {
    "collapsed": true
   },
   "outputs": [
    {
     "data": {
      "text/plain": [
       "['DEFAULT_ATTRIBS',\n",
       " 'DXFATTRIBS',\n",
       " 'DXFTYPE',\n",
       " 'MIN_DXF_VERSION_FOR_EXPORT',\n",
       " '__class__',\n",
       " '__deepcopy__',\n",
       " '__delattr__',\n",
       " '__dict__',\n",
       " '__dir__',\n",
       " '__doc__',\n",
       " '__eq__',\n",
       " '__format__',\n",
       " '__ge__',\n",
       " '__getattribute__',\n",
       " '__gt__',\n",
       " '__hash__',\n",
       " '__init__',\n",
       " '__init_subclass__',\n",
       " '__le__',\n",
       " '__lt__',\n",
       " '__module__',\n",
       " '__ne__',\n",
       " '__new__',\n",
       " '__reduce__',\n",
       " '__reduce_ex__',\n",
       " '__repr__',\n",
       " '__setattr__',\n",
       " '__sizeof__',\n",
       " '__str__',\n",
       " '__subclasshook__',\n",
       " '__weakref__',\n",
       " '_copy_data',\n",
       " '_new_compound_entity',\n",
       " 'appdata',\n",
       " 'append_reactor_handle',\n",
       " 'attached_entities',\n",
       " 'audit',\n",
       " 'copy',\n",
       " 'copy_to_layout',\n",
       " 'del_dxf_attrib',\n",
       " 'destroy',\n",
       " 'discard_app_data',\n",
       " 'discard_reactor_handle',\n",
       " 'discard_xdata',\n",
       " 'discard_xdata_list',\n",
       " 'doc',\n",
       " 'drawing',\n",
       " 'dxf',\n",
       " 'dxf_attrib_exists',\n",
       " 'dxfattribs',\n",
       " 'dxffactory',\n",
       " 'dxftype',\n",
       " 'embedded_objects',\n",
       " 'entitydb',\n",
       " 'export_acdb_entity',\n",
       " 'export_base_class',\n",
       " 'export_dxf',\n",
       " 'export_embedded_objects',\n",
       " 'export_entity',\n",
       " 'export_xdata',\n",
       " 'extension_dict',\n",
       " 'from_text',\n",
       " 'get_app_data',\n",
       " 'get_dxf_attrib',\n",
       " 'get_extension_dict',\n",
       " 'get_flag_state',\n",
       " 'get_hyperlink',\n",
       " 'get_layout',\n",
       " 'get_reactors',\n",
       " 'get_xdata',\n",
       " 'get_xdata_list',\n",
       " 'graphic_properties',\n",
       " 'has_app_data',\n",
       " 'has_dxf_attrib',\n",
       " 'has_extension_dict',\n",
       " 'has_hyperlink',\n",
       " 'has_reactors',\n",
       " 'has_xdata',\n",
       " 'has_xdata_list',\n",
       " 'is_alive',\n",
       " 'is_supported_dxf_attrib',\n",
       " 'link_entity',\n",
       " 'linked_entities',\n",
       " 'load',\n",
       " 'load_dxf_attribs',\n",
       " 'load_tags',\n",
       " 'move_to_layout',\n",
       " 'new',\n",
       " 'ocs',\n",
       " 'post_new_hook',\n",
       " 'preprocess_export',\n",
       " 'priority',\n",
       " 'proxy_graphic',\n",
       " 'reactors',\n",
       " 'remove_dependencies',\n",
       " 'replace_xdata_list',\n",
       " 'rgb',\n",
       " 'rotate_axis',\n",
       " 'rotate_x',\n",
       " 'rotate_y',\n",
       " 'rotate_z',\n",
       " 'scale',\n",
       " 'scale_uniform',\n",
       " 'set_app_data',\n",
       " 'set_dxf_attrib',\n",
       " 'set_flag_state',\n",
       " 'set_hyperlink',\n",
       " 'set_owner',\n",
       " 'set_reactors',\n",
       " 'set_xdata',\n",
       " 'set_xdata_list',\n",
       " 'setup_app_data',\n",
       " 'shallow_copy',\n",
       " 'to_ellipse',\n",
       " 'to_spline',\n",
       " 'transform',\n",
       " 'transform_to_wcs',\n",
       " 'translate',\n",
       " 'transparency',\n",
       " 'unlink_from_layout',\n",
       " 'update_dxf_attribs',\n",
       " 'update_handle',\n",
       " 'vertices',\n",
       " 'xdata',\n",
       " 'zorder']"
      ]
     },
     "execution_count": 27,
     "metadata": {},
     "output_type": "execute_result"
    }
   ],
   "source": [
    "dir(circ)"
   ]
  },
  {
   "cell_type": "code",
   "execution_count": null,
   "metadata": {},
   "outputs": [],
   "source": [
    "\n",
    "def dist_between_pts(p1, p2):\n",
    "    return math.sqrt( ((p1[0]-p2[0])**2)+((p1[1]-p2[1])**2) )"
   ]
  },
  {
   "cell_type": "code",
   "execution_count": 28,
   "metadata": {},
   "outputs": [
    {
     "ename": "TypeError",
     "evalue": "'Circle' object is not iterable",
     "output_type": "error",
     "traceback": [
      "\u001b[0;31m---------------------------------------------------------------------------\u001b[0m",
      "\u001b[0;31mTypeError\u001b[0m                                 Traceback (most recent call last)",
      "\u001b[0;32m<ipython-input-28-012ad5c0783f>\u001b[0m in \u001b[0;36m<module>\u001b[0;34m\u001b[0m\n\u001b[0;32m----> 1\u001b[0;31m \u001b[0medf\u001b[0m\u001b[0;34m.\u001b[0m\u001b[0mmath\u001b[0m\u001b[0;34m.\u001b[0m\u001b[0mis_point_in_polygon_2d\u001b[0m\u001b[0;34m(\u001b[0m\u001b[0mp3\u001b[0m\u001b[0;34m,\u001b[0m \u001b[0mcirc\u001b[0m\u001b[0;34m)\u001b[0m\u001b[0;34m\u001b[0m\u001b[0;34m\u001b[0m\u001b[0m\n\u001b[0m",
      "\u001b[0;32m/usr/local/lib/python3.7/site-packages/ezdxf/math/construct2d.py\u001b[0m in \u001b[0;36mis_point_in_polygon_2d\u001b[0;34m(point, polygon, abs_tol)\u001b[0m\n\u001b[1;32m    413\u001b[0m     \u001b[0;31m# Source: http://www.faqs.org/faqs/graphics/algorithms-faq/\u001b[0m\u001b[0;34m\u001b[0m\u001b[0;34m\u001b[0m\u001b[0;34m\u001b[0m\u001b[0m\n\u001b[1;32m    414\u001b[0m     \u001b[0;31m# Subject 2.03: How do I find if a point lies within a polygon?\u001b[0m\u001b[0;34m\u001b[0m\u001b[0;34m\u001b[0m\u001b[0;34m\u001b[0m\u001b[0m\n\u001b[0;32m--> 415\u001b[0;31m     \u001b[0mpolygon\u001b[0m \u001b[0;34m=\u001b[0m \u001b[0mlist\u001b[0m\u001b[0;34m(\u001b[0m\u001b[0mpolygon\u001b[0m\u001b[0;34m)\u001b[0m  \u001b[0;31m# shallow copy, because list will be modified\u001b[0m\u001b[0;34m\u001b[0m\u001b[0;34m\u001b[0m\u001b[0m\n\u001b[0m\u001b[1;32m    416\u001b[0m     \u001b[0;32mif\u001b[0m \u001b[0;32mnot\u001b[0m \u001b[0mpolygon\u001b[0m\u001b[0;34m[\u001b[0m\u001b[0;36m0\u001b[0m\u001b[0;34m]\u001b[0m\u001b[0;34m.\u001b[0m\u001b[0misclose\u001b[0m\u001b[0;34m(\u001b[0m\u001b[0mpolygon\u001b[0m\u001b[0;34m[\u001b[0m\u001b[0;34m-\u001b[0m\u001b[0;36m1\u001b[0m\u001b[0;34m]\u001b[0m\u001b[0;34m)\u001b[0m\u001b[0;34m:\u001b[0m\u001b[0;34m\u001b[0m\u001b[0;34m\u001b[0m\u001b[0m\n\u001b[1;32m    417\u001b[0m         \u001b[0mpolygon\u001b[0m\u001b[0;34m.\u001b[0m\u001b[0mappend\u001b[0m\u001b[0;34m(\u001b[0m\u001b[0mpolygon\u001b[0m\u001b[0;34m[\u001b[0m\u001b[0;36m0\u001b[0m\u001b[0;34m]\u001b[0m\u001b[0;34m)\u001b[0m\u001b[0;34m\u001b[0m\u001b[0;34m\u001b[0m\u001b[0m\n",
      "\u001b[0;31mTypeError\u001b[0m: 'Circle' object is not iterable"
     ]
    }
   ],
   "source": [
    "def is_point_in_circ(\n",
    "        p1 : Vector,\n",
    "        circ : Circle):\n",
    "    ''' Returns -1 if points is outside circle\n",
    "        Returns 1 if point is inside circle\n",
    "        \n",
    "        tolerance is 1e5, returns 0 if point is on \n",
    "        boundary within tolerance level'''\n",
    "    p2 = circ.dxf.center\n",
    "    dist_between_pts(p1, p2)\n",
    "    diff = dist - circ.dxf.radius\n",
    "    if diff > 1e5:\n",
    "        return -1\n",
    "    elif diff < -1e5:\n",
    "        return 1\n",
    "    else:\n",
    "        return 0"
   ]
  },
  {
   "cell_type": "code",
   "execution_count": 1,
   "metadata": {},
   "outputs": [
    {
     "ename": "NameError",
     "evalue": "name 'edf' is not defined",
     "output_type": "error",
     "traceback": [
      "\u001b[0;31m---------------------------------------------------------------------------\u001b[0m",
      "\u001b[0;31mNameError\u001b[0m                                 Traceback (most recent call last)",
      "\u001b[0;32m<ipython-input-1-fdd09ed497af>\u001b[0m in \u001b[0;36m<module>\u001b[0;34m\u001b[0m\n\u001b[0;32m----> 1\u001b[0;31m \u001b[0mdoc7\u001b[0m \u001b[0;34m=\u001b[0m \u001b[0medf\u001b[0m\u001b[0;34m.\u001b[0m\u001b[0mreadfile\u001b[0m\u001b[0;34m(\u001b[0m\u001b[0;34m'Drawing8- 1circle1elipse(dimensions).dxf'\u001b[0m\u001b[0;34m)\u001b[0m\u001b[0;34m\u001b[0m\u001b[0;34m\u001b[0m\u001b[0m\n\u001b[0m",
      "\u001b[0;31mNameError\u001b[0m: name 'edf' is not defined"
     ]
    }
   ],
   "source": []
  },
  {
   "cell_type": "code",
   "execution_count": 3,
   "metadata": {},
   "outputs": [],
   "source": [
    "import ezdxf as edf\n",
    "import math"
   ]
  },
  {
   "cell_type": "code",
   "execution_count": 4,
   "metadata": {},
   "outputs": [],
   "source": [
    "doc7 = edf.readfile('resources/dxfs/Drawing8- 1circle1elipse(dimensions).dxf')"
   ]
  },
  {
   "cell_type": "code",
   "execution_count": 23,
   "metadata": {},
   "outputs": [],
   "source": [
    "doc8 = edf.readfile('resources/dxfs/Drawing10- rotated 1circle1elipse(dimensions).dxf')"
   ]
  },
  {
   "cell_type": "code",
   "execution_count": 4,
   "metadata": {},
   "outputs": [],
   "source": [
    "doc23 = edf.readfile('resources/dxfs/Drawing9- test layers.dxf')"
   ]
  },
  {
   "cell_type": "code",
   "execution_count": 5,
   "metadata": {},
   "outputs": [],
   "source": [
    "msp4 = doc23.modelspace()"
   ]
  },
  {
   "cell_type": "code",
   "execution_count": 9,
   "metadata": {},
   "outputs": [],
   "source": [
    "spline = list(msp4.query('SPLINE'))[0]"
   ]
  },
  {
   "cell_type": "code",
   "execution_count": 13,
   "metadata": {},
   "outputs": [
    {
     "data": {
      "text/plain": [
       "['__class__',\n",
       " '__deepcopy__',\n",
       " '__delattr__',\n",
       " '__dict__',\n",
       " '__dir__',\n",
       " '__doc__',\n",
       " '__eq__',\n",
       " '__format__',\n",
       " '__ge__',\n",
       " '__getattr__',\n",
       " '__getattribute__',\n",
       " '__gt__',\n",
       " '__hash__',\n",
       " '__init__',\n",
       " '__init_subclass__',\n",
       " '__le__',\n",
       " '__lt__',\n",
       " '__module__',\n",
       " '__ne__',\n",
       " '__new__',\n",
       " '__reduce__',\n",
       " '__reduce_ex__',\n",
       " '__repr__',\n",
       " '__setattr__',\n",
       " '__sizeof__',\n",
       " '__str__',\n",
       " '__subclasshook__',\n",
       " '__weakref__',\n",
       " '_entity',\n",
       " '_export_dxf_attribute_optional',\n",
       " 'all_existing_dxf_attribs',\n",
       " 'control_point_tolerance',\n",
       " 'copy',\n",
       " 'degree',\n",
       " 'discard',\n",
       " 'dxf_default_value',\n",
       " 'dxfattribs',\n",
       " 'dxftype',\n",
       " 'export_dxf_attribs',\n",
       " 'extrusion',\n",
       " 'fit_tolerance',\n",
       " 'flags',\n",
       " 'get',\n",
       " 'get_default',\n",
       " 'handle',\n",
       " 'hasattr',\n",
       " 'is_supported',\n",
       " 'knot_tolerance',\n",
       " 'layer',\n",
       " 'owner',\n",
       " 'reset_handles',\n",
       " 'rewire',\n",
       " 'set']"
      ]
     },
     "execution_count": 13,
     "metadata": {},
     "output_type": "execute_result"
    }
   ],
   "source": [
    "dir(spline.dxf)"
   ]
  },
  {
   "cell_type": "code",
   "execution_count": 11,
   "metadata": {
    "scrolled": false
   },
   "outputs": [
    {
     "data": {
      "text/plain": [
       "['CLOSED',\n",
       " 'DEFAULT_ATTRIBS',\n",
       " 'DXFATTRIBS',\n",
       " 'DXFTYPE',\n",
       " 'LINEAR',\n",
       " 'MIN_DXF_VERSION_FOR_EXPORT',\n",
       " 'PERIODIC',\n",
       " 'PLANAR',\n",
       " 'RATIONAL',\n",
       " '__class__',\n",
       " '__deepcopy__',\n",
       " '__delattr__',\n",
       " '__dict__',\n",
       " '__dir__',\n",
       " '__doc__',\n",
       " '__eq__',\n",
       " '__format__',\n",
       " '__ge__',\n",
       " '__getattribute__',\n",
       " '__gt__',\n",
       " '__hash__',\n",
       " '__init__',\n",
       " '__init_subclass__',\n",
       " '__le__',\n",
       " '__lt__',\n",
       " '__module__',\n",
       " '__ne__',\n",
       " '__new__',\n",
       " '__reduce__',\n",
       " '__reduce_ex__',\n",
       " '__repr__',\n",
       " '__setattr__',\n",
       " '__sizeof__',\n",
       " '__str__',\n",
       " '__subclasshook__',\n",
       " '__weakref__',\n",
       " '_control_points',\n",
       " '_copy_data',\n",
       " '_fit_points',\n",
       " '_knots',\n",
       " '_new_compound_entity',\n",
       " '_weights',\n",
       " 'appdata',\n",
       " 'append_reactor_handle',\n",
       " 'apply_construction_tool',\n",
       " 'attached_entities',\n",
       " 'audit',\n",
       " 'closed',\n",
       " 'construction_tool',\n",
       " 'control_point_count',\n",
       " 'control_points',\n",
       " 'copy',\n",
       " 'copy_to_layout',\n",
       " 'del_dxf_attrib',\n",
       " 'destroy',\n",
       " 'discard_app_data',\n",
       " 'discard_reactor_handle',\n",
       " 'discard_xdata',\n",
       " 'discard_xdata_list',\n",
       " 'doc',\n",
       " 'drawing',\n",
       " 'dxf',\n",
       " 'dxf_attrib_exists',\n",
       " 'dxfattribs',\n",
       " 'dxffactory',\n",
       " 'dxftype',\n",
       " 'edit_data',\n",
       " 'embedded_objects',\n",
       " 'entitydb',\n",
       " 'export_acdb_entity',\n",
       " 'export_base_class',\n",
       " 'export_dxf',\n",
       " 'export_embedded_objects',\n",
       " 'export_entity',\n",
       " 'export_spline_data',\n",
       " 'export_xdata',\n",
       " 'extension_dict',\n",
       " 'fit_point_count',\n",
       " 'fit_points',\n",
       " 'from_arc',\n",
       " 'from_text',\n",
       " 'get_app_data',\n",
       " 'get_dxf_attrib',\n",
       " 'get_extension_dict',\n",
       " 'get_flag_state',\n",
       " 'get_hyperlink',\n",
       " 'get_layout',\n",
       " 'get_reactors',\n",
       " 'get_xdata',\n",
       " 'get_xdata_list',\n",
       " 'graphic_properties',\n",
       " 'has_app_data',\n",
       " 'has_dxf_attrib',\n",
       " 'has_extension_dict',\n",
       " 'has_hyperlink',\n",
       " 'has_reactors',\n",
       " 'has_xdata',\n",
       " 'has_xdata_list',\n",
       " 'is_alive',\n",
       " 'is_supported_dxf_attrib',\n",
       " 'knot_count',\n",
       " 'knots',\n",
       " 'link_entity',\n",
       " 'linked_entities',\n",
       " 'load',\n",
       " 'load_dxf_attribs',\n",
       " 'load_spline_data',\n",
       " 'load_tags',\n",
       " 'move_to_layout',\n",
       " 'new',\n",
       " 'ocs',\n",
       " 'post_new_hook',\n",
       " 'preprocess_export',\n",
       " 'priority',\n",
       " 'proxy_graphic',\n",
       " 'reactors',\n",
       " 'remove_dependencies',\n",
       " 'replace_xdata_list',\n",
       " 'rgb',\n",
       " 'rotate_axis',\n",
       " 'rotate_x',\n",
       " 'rotate_y',\n",
       " 'rotate_z',\n",
       " 'scale',\n",
       " 'scale_uniform',\n",
       " 'set_app_data',\n",
       " 'set_closed',\n",
       " 'set_closed_rational',\n",
       " 'set_dxf_attrib',\n",
       " 'set_flag_state',\n",
       " 'set_hyperlink',\n",
       " 'set_open_rational',\n",
       " 'set_open_uniform',\n",
       " 'set_owner',\n",
       " 'set_reactors',\n",
       " 'set_uniform',\n",
       " 'set_uniform_rational',\n",
       " 'set_xdata',\n",
       " 'set_xdata_list',\n",
       " 'setup_app_data',\n",
       " 'shallow_copy',\n",
       " 'transform',\n",
       " 'transform_to_wcs',\n",
       " 'translate',\n",
       " 'transparency',\n",
       " 'unlink_from_layout',\n",
       " 'update_dxf_attribs',\n",
       " 'update_handle',\n",
       " 'weights',\n",
       " 'xdata',\n",
       " 'zorder']"
      ]
     },
     "execution_count": 11,
     "metadata": {},
     "output_type": "execute_result"
    }
   ],
   "source": [
    "dir(spline)"
   ]
  },
  {
   "cell_type": "code",
   "execution_count": 24,
   "metadata": {},
   "outputs": [],
   "source": [
    "msp3 = doc8.modelspace()"
   ]
  },
  {
   "cell_type": "code",
   "execution_count": 10,
   "metadata": {},
   "outputs": [],
   "source": [
    "msp2 = doc7.modelspace()"
   ]
  },
  {
   "cell_type": "code",
   "execution_count": 25,
   "metadata": {},
   "outputs": [],
   "source": [
    "ell2 = msp3.query()[7]"
   ]
  },
  {
   "cell_type": "code",
   "execution_count": 11,
   "metadata": {},
   "outputs": [],
   "source": [
    "ell = msp2.query()[7]"
   ]
  },
  {
   "cell_type": "code",
   "execution_count": 14,
   "metadata": {},
   "outputs": [],
   "source": [
    "h = ell.dxf.center[0]\n",
    "k = ell.dxf.center[1]"
   ]
  },
  {
   "cell_type": "code",
   "execution_count": 28,
   "metadata": {},
   "outputs": [
    {
     "data": {
      "text/plain": [
       "Vector(21.12141561476638, 14.08216872593921, 0.0)"
      ]
     },
     "execution_count": 28,
     "metadata": {},
     "output_type": "execute_result"
    }
   ],
   "source": [
    "ell.dxf.center\n"
   ]
  },
  {
   "cell_type": "code",
   "execution_count": 20,
   "metadata": {},
   "outputs": [],
   "source": [
    "# maj = \n",
    "major = ell.dxf.major_axis"
   ]
  },
  {
   "cell_type": "code",
   "execution_count": 21,
   "metadata": {},
   "outputs": [],
   "source": [
    "minor = ell.minor_axis"
   ]
  },
  {
   "cell_type": "code",
   "execution_count": 27,
   "metadata": {},
   "outputs": [
    {
     "data": {
      "text/plain": [
       "Vector(3.668532958478829, 1.594323032686463, 0.0)"
      ]
     },
     "execution_count": 27,
     "metadata": {},
     "output_type": "execute_result"
    }
   ],
   "source": [
    "ell2.dxf.major_axis"
   ]
  },
  {
   "cell_type": "code",
   "execution_count": null,
   "metadata": {},
   "outputs": [],
   "source": [
    "major = "
   ]
  },
  {
   "cell_type": "code",
   "execution_count": 29,
   "metadata": {},
   "outputs": [
    {
     "data": {
      "text/plain": [
       "Vector(4.0, 0.0, 0.0)"
      ]
     },
     "execution_count": 29,
     "metadata": {},
     "output_type": "execute_result"
    }
   ],
   "source": [
    "ell.dxf.major_axis"
   ]
  },
  {
   "cell_type": "code",
   "execution_count": 43,
   "metadata": {},
   "outputs": [],
   "source": [
    "def is_point_in_ellipse(\n",
    "        p1 : edf.entities.point.Vector,\n",
    "        ell : edf.entities.ellipse.Ellipse):\n",
    "    ''' Returns -1 if points is outside circle\n",
    "        Returns 1 if point is inside circle\n",
    "        \n",
    "        tolerance is 1e5, returns 0 if point is on \n",
    "        boundary within tolerance level.\n",
    "        (𝑥−ℎ)2𝑟2𝑥+(𝑦−𝑘)2𝑟2𝑦≤1\n",
    "        '''\n",
    "    \n",
    "    p2 = ell.dxf.center\n",
    "    h = ell.dxf.center[0]\n",
    "    k = ell.dxf.center[1]\n",
    "    \n",
    "    major = pythagoras(ell.dxf.major_axis[0], ell.dxf.major_axis[1])\n",
    "    minor = pythagoras(ell.minor_axis[0], ell.minor_axis[1])\n",
    "    \n",
    "    x = p1[0]\n",
    "    y = p1[1]\n",
    "    \n",
    "    test = ((x - h)**2/ (major**2)) + ((y - k)**2/ (minor**2)) \n",
    "    \n",
    "    if test > 1.00001:\n",
    "        return -1\n",
    "    elif test < 0.99999:\n",
    "        return 1\n",
    "    else:\n",
    "        return 0"
   ]
  },
  {
   "cell_type": "code",
   "execution_count": 47,
   "metadata": {},
   "outputs": [
    {
     "data": {
      "text/plain": [
       "-1"
      ]
     },
     "execution_count": 47,
     "metadata": {},
     "output_type": "execute_result"
    }
   ],
   "source": [
    "is_point_in_ellipse(edf.entities.point.Vector(16.85,14.17),ell)"
   ]
  },
  {
   "cell_type": "code",
   "execution_count": null,
   "metadata": {},
   "outputs": [],
   "source": []
  },
  {
   "cell_type": "code",
   "execution_count": 39,
   "metadata": {},
   "outputs": [
    {
     "data": {
      "text/plain": [
       "9"
      ]
     },
     "execution_count": 39,
     "metadata": {},
     "output_type": "execute_result"
    }
   ],
   "source": [
    "3**2"
   ]
  },
  {
   "cell_type": "code",
   "execution_count": 30,
   "metadata": {},
   "outputs": [],
   "source": [
    "def pythagoras(side1, side2):\n",
    "    return math.sqrt(side1*side1 + side2*side2)"
   ]
  },
  {
   "cell_type": "code",
   "execution_count": 31,
   "metadata": {},
   "outputs": [],
   "source": [
    "major = pythagoras(ell.dxf.major_axis[0], ell.dxf.major_axis[1])"
   ]
  },
  {
   "cell_type": "code",
   "execution_count": 36,
   "metadata": {},
   "outputs": [],
   "source": [
    "major = pythagoras(ell2.dxf.major_axis[0], ell2.dxf.major_axis[1])"
   ]
  },
  {
   "cell_type": "code",
   "execution_count": 37,
   "metadata": {},
   "outputs": [
    {
     "data": {
      "text/plain": [
       "3.9999999999999987"
      ]
     },
     "execution_count": 37,
     "metadata": {},
     "output_type": "execute_result"
    }
   ],
   "source": [
    "major"
   ]
  },
  {
   "cell_type": "code",
   "execution_count": 34,
   "metadata": {},
   "outputs": [],
   "source": [
    "minor = pythagoras(ell.minor_axis[0], ell.minor_axis[1])"
   ]
  },
  {
   "cell_type": "code",
   "execution_count": 35,
   "metadata": {},
   "outputs": [
    {
     "data": {
      "text/plain": [
       "3.0"
      ]
     },
     "execution_count": 35,
     "metadata": {},
     "output_type": "execute_result"
    }
   ],
   "source": [
    "minor"
   ]
  },
  {
   "cell_type": "code",
   "execution_count": 32,
   "metadata": {},
   "outputs": [
    {
     "data": {
      "text/plain": [
       "4.0"
      ]
     },
     "execution_count": 32,
     "metadata": {},
     "output_type": "execute_result"
    }
   ],
   "source": [
    "major"
   ]
  },
  {
   "cell_type": "code",
   "execution_count": 64,
   "metadata": {},
   "outputs": [],
   "source": [
    "ell = msp2.query()[7]"
   ]
  },
  {
   "cell_type": "code",
   "execution_count": 68,
   "metadata": {},
   "outputs": [
    {
     "data": {
      "text/plain": [
       "Vector(20.02189370130632, 14.41570585183793, 0.0)"
      ]
     },
     "execution_count": 68,
     "metadata": {},
     "output_type": "execute_result"
    }
   ],
   "source": [
    "ell.dxf.center"
   ]
  },
  {
   "cell_type": "code",
   "execution_count": 67,
   "metadata": {},
   "outputs": [
    {
     "data": {
      "text/plain": [
       "Vector(2.321327932987827, -0.9281361039903901, 0.0)"
      ]
     },
     "execution_count": 67,
     "metadata": {},
     "output_type": "execute_result"
    }
   ],
   "source": [
    "ell.dxf.major_axis"
   ]
  },
  {
   "cell_type": "code",
   "execution_count": 72,
   "metadata": {},
   "outputs": [
    {
     "data": {
      "text/plain": [
       "Vector(0.9281361039903901, 2.321327932987827, -0.0)"
      ]
     },
     "execution_count": 72,
     "metadata": {},
     "output_type": "execute_result"
    }
   ],
   "source": [
    "ell.minor_axis"
   ]
  },
  {
   "cell_type": "code",
   "execution_count": 1,
   "metadata": {},
   "outputs": [
    {
     "name": "stdout",
     "output_type": "stream",
     "text": [
      "0\n",
      "10000\n",
      "20000\n",
      "30000\n",
      "40000\n",
      "50000\n",
      "60000\n",
      "70000\n",
      "80000\n",
      "90000\n",
      "100000\n",
      "110000\n",
      "120000\n",
      "130000\n",
      "140000\n",
      "150000\n",
      "160000\n",
      "170000\n",
      "180000\n",
      "190000\n",
      "200000\n",
      "210000\n",
      "220000\n",
      "230000\n",
      "240000\n",
      "250000\n",
      "260000\n",
      "270000\n",
      "280000\n",
      "290000\n",
      "300000\n",
      "310000\n",
      "320000\n",
      "330000\n",
      "340000\n",
      "350000\n",
      "360000\n",
      "370000\n",
      "380000\n",
      "390000\n",
      "400000\n",
      "410000\n",
      "420000\n",
      "430000\n",
      "440000\n",
      "450000\n",
      "460000\n",
      "470000\n",
      "480000\n",
      "490000\n",
      "500000\n",
      "510000\n",
      "520000\n",
      "530000\n",
      "540000\n",
      "550000\n",
      "560000\n",
      "570000\n",
      "580000\n",
      "590000\n",
      "600000\n",
      "610000\n",
      "620000\n",
      "630000\n",
      "640000\n",
      "650000\n",
      "660000\n",
      "670000\n",
      "680000\n",
      "690000\n",
      "700000\n",
      "710000\n",
      "720000\n",
      "730000\n",
      "740000\n",
      "750000\n",
      "760000\n",
      "770000\n",
      "780000\n",
      "790000\n",
      "800000\n",
      "810000\n",
      "820000\n",
      "830000\n",
      "840000\n",
      "850000\n",
      "860000\n",
      "870000\n",
      "880000\n",
      "890000\n",
      "900000\n",
      "910000\n",
      "920000\n",
      "930000\n",
      "940000\n",
      "950000\n",
      "960000\n",
      "970000\n",
      "980000\n",
      "990000\n"
     ]
    }
   ],
   "source": [
    "for i in range(1000000):\n",
    "    if i%10000==0:\n",
    "        print(i)"
   ]
  },
  {
   "cell_type": "code",
   "execution_count": null,
   "metadata": {},
   "outputs": [],
   "source": []
  }
 ],
 "metadata": {
  "kernelspec": {
   "display_name": "Python 3",
   "language": "python",
   "name": "python3"
  },
  "language_info": {
   "codemirror_mode": {
    "name": "ipython",
    "version": 3
   },
   "file_extension": ".py",
   "mimetype": "text/x-python",
   "name": "python",
   "nbconvert_exporter": "python",
   "pygments_lexer": "ipython3",
   "version": "3.7.7"
  }
 },
 "nbformat": 4,
 "nbformat_minor": 2
}
