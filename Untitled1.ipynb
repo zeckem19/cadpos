{
 "cells": [
  {
   "cell_type": "code",
   "execution_count": null,
   "metadata": {},
   "outputs": [],
   "source": [
    "# In the first Python interactive shell\n",
    "import numpy as np\n",
    "from multiprocessing import shared_memory\n",
    "\n",
    "a = np.array([1, 1, 2, 3, 5, 8])  # Start with an existing NumPy array\n",
    "\n",
    "shm = shared_memory.SharedMemory(create=True, size=a.nbytes)\n",
    "# Now create a NumPy array backed by shared memory\n",
    "b = np.ndarray(a.shape, dtype=a.dtype, buffer=shm.buf)\n"
   ]
  },
  {
   "cell_type": "code",
   "execution_count": null,
   "metadata": {},
   "outputs": [],
   "source": [
    "# Copy the original data into shared memory\n",
    "\n",
    "# Attach to the existing shared memory block\n",
    "existing_shm = shared_memory.SharedMemory(name='psm_21467_46075')\n",
    "# Note that a.shape is (6,) and a.dtype is np.int64 in this example\n",
    "c = np.ndarray((6,), dtype=np.int64, buffer=existing_shm.buf)\n",
    "c\n",
    "array([1, 1, 2, 3, 5, 8])\n",
    "c[-1] = 888\n",
    "c\n",
    "array([  1,   1,   2,   3,   5, 888])\n",
    "\n",
    "# Back in the first Python interactive shell, b reflects this change\n",
    "b\n",
    "array([  1,   1,   2,   3,   5, 888])\n",
    "\n",
    "# Clean up from within the second Python shell\n",
    "del c  # Unnecessary; merely emphasizing the array is no longer used\n",
    "existing_shm.close()\n",
    "\n",
    "# Clean up from within the first Python shell\n",
    "del b  # Unnecessary; merely emphasizing the array is no longer used\n",
    "shm.close()\n",
    "shm.unlink()  # Free and release the shared memory block at the very end"
   ]
  },
  {
   "cell_type": "code",
   "execution_count": 1,
   "metadata": {},
   "outputs": [],
   "source": [
    "import multiprocessing\n"
   ]
  },
  {
   "cell_type": "code",
   "execution_count": 2,
   "metadata": {},
   "outputs": [
    {
     "data": {
      "text/plain": [
       "4"
      ]
     },
     "execution_count": 2,
     "metadata": {},
     "output_type": "execute_result"
    }
   ],
   "source": [
    "multiprocessing.cpu_count()"
   ]
  },
  {
   "cell_type": "code",
   "execution_count": null,
   "metadata": {},
   "outputs": [],
   "source": []
  }
 ],
 "metadata": {
  "kernelspec": {
   "display_name": "Python 3",
   "language": "python",
   "name": "python3"
  },
  "language_info": {
   "codemirror_mode": {
    "name": "ipython",
    "version": 3
   },
   "file_extension": ".py",
   "mimetype": "text/x-python",
   "name": "python",
   "nbconvert_exporter": "python",
   "pygments_lexer": "ipython3",
   "version": "3.7.7"
  }
 },
 "nbformat": 4,
 "nbformat_minor": 2
}
